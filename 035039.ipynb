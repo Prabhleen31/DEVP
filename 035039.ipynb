{
  "cells": [
    {
      "cell_type": "markdown",
      "metadata": {
        "id": "view-in-github",
        "colab_type": "text"
      },
      "source": [
        "<a href=\"https://colab.research.google.com/github/Prabhleen31/DEVP/blob/main/035039.ipynb\" target=\"_parent\"><img src=\"https://colab.research.google.com/assets/colab-badge.svg\" alt=\"Open In Colab\"/></a>"
      ]
    },
    {
      "cell_type": "markdown",
      "id": "083c8b95",
      "metadata": {
        "deletable": false,
        "editable": false,
        "id": "083c8b95"
      },
      "source": [
        "# FORE School of Management\n",
        "\n",
        "## Machine Learning with Python : End Term Exam\n",
        "### AY 2022-23 | Term 03 | PGDM | Faculty : Prof. Amarnath Mitra\n",
        "### Total Marks : 100 | Exam Duaration : 02 Hrs\n",
        "\n",
        "#### Note\n",
        "#### 1. Edit the Filename \"mlp_et_qcap.ipynb\" to \"xxxxx.ipynb\" where \"xxxxx\" is Student Roll Number\n",
        "#### 2. Answer as per the Instructions."
      ]
    },
    {
      "cell_type": "markdown",
      "id": "c7f8130c",
      "metadata": {
        "deletable": false,
        "editable": false,
        "id": "c7f8130c"
      },
      "source": [
        "### ========================================================================================="
      ]
    },
    {
      "cell_type": "markdown",
      "id": "6f8c7fce",
      "metadata": {
        "deletable": false,
        "id": "6f8c7fce"
      },
      "source": [
        "### Edit the Following Information with One's Name & Roll Number\n",
        "#### Student Name : Prabhleen Kaur Pahwa\n",
        "#### Student Roll Number : 035039"
      ]
    },
    {
      "cell_type": "markdown",
      "id": "6bb1d7e6",
      "metadata": {
        "deletable": false,
        "editable": false,
        "id": "6bb1d7e6"
      },
      "source": [
        "### -----------------------------------------------------------------------------------------------------------------------------------------------------------"
      ]
    },
    {
      "cell_type": "markdown",
      "id": "8f1b2316",
      "metadata": {
        "deletable": false,
        "editable": false,
        "id": "8f1b2316"
      },
      "source": [
        "### List of Impartant Libraries\n",
        "#### Main : pandas, numpy, scipy, statmodels, matplotlib (or seaborn), sklearn\n",
        "#### Others : os, random"
      ]
    },
    {
      "cell_type": "code",
      "execution_count": null,
      "id": "4b118735",
      "metadata": {
        "id": "4b118735"
      },
      "outputs": [],
      "source": [
        "import pandas as pd, numpy as np # For Data Manipulation\n",
        "from sklearn.preprocessing import LabelEncoder, OrdinalEncoder # For Encoding Categorical Data [Nominal | Ordinal]\n",
        "from sklearn.preprocessing import OneHotEncoder # For Creating Dummy Variables of Categorical Data [Nominal]\n",
        "from sklearn.impute import SimpleImputer, KNNImputer # For Imputation of Missing Data\n",
        "from sklearn.preprocessing import StandardScaler, MinMaxScaler, RobustScaler # For Rescaling Data\n",
        "from sklearn.model_selection import train_test_split # For Splitting Data into Training & Testing Sets\n",
        "import matplotlib.pyplot as plt, seaborn as sns # For Data Visualization\n",
        "import scipy.cluster.hierarchy as sch # For Hierarchical Clustering\n",
        "from sklearn.cluster import AgglomerativeClustering as agclus, KMeans as kmclus # For Agglomerative & K-Means Clustering\n",
        "from sklearn.metrics import silhouette_score as sscore, davies_bouldin_score as dbscore # For Clustering Model Evaluation\n",
        "from sklearn.model_selection import train_test_split # For Splitting Data into Training & Testing Sets\n",
        "from sklearn.tree import DecisionTreeClassifier, export_text, plot_tree  # For Decision Tree Model\n",
        "from sklearn.metrics import confusion_matrix, classification_report # For Decision Tree Model Evaluation\n",
        "import plotly.express as px"
      ]
    },
    {
      "cell_type": "markdown",
      "id": "9cad304a",
      "metadata": {
        "deletable": false,
        "editable": false,
        "id": "9cad304a"
      },
      "source": [
        "### -----------------------------------------------------------------------------------------------------------------------------------------------------------"
      ]
    },
    {
      "cell_type": "markdown",
      "id": "5dbfbf7f",
      "metadata": {
        "deletable": false,
        "editable": false,
        "id": "5dbfbf7f"
      },
      "source": [
        "### Import Test Dataset & Create Student Specific Unique Dataset\n",
        "#### * Create a Subset of 2000 Records of the given Dataset using the \"pandas DataFrame.sample()\" function.\n",
        "#### * Use one's Roll Number as the value of \"random_state\"."
      ]
    },
    {
      "cell_type": "code",
      "execution_count": null,
      "id": "3a865b28",
      "metadata": {
        "deletable": false,
        "id": "3a865b28",
        "outputId": "7a78acf8-53af-4f95-8b96-c5b3c1a3e919"
      },
      "outputs": [
        {
          "data": {
            "text/html": [
              "<div>\n",
              "<style scoped>\n",
              "    .dataframe tbody tr th:only-of-type {\n",
              "        vertical-align: middle;\n",
              "    }\n",
              "\n",
              "    .dataframe tbody tr th {\n",
              "        vertical-align: top;\n",
              "    }\n",
              "\n",
              "    .dataframe thead th {\n",
              "        text-align: right;\n",
              "    }\n",
              "</style>\n",
              "<table border=\"1\" class=\"dataframe\">\n",
              "  <thead>\n",
              "    <tr style=\"text-align: right;\">\n",
              "      <th></th>\n",
              "      <th>Customer_Id</th>\n",
              "      <th>Gender</th>\n",
              "      <th>Graduate</th>\n",
              "      <th>Age</th>\n",
              "      <th>Married</th>\n",
              "      <th>Family_Size</th>\n",
              "      <th>Profession</th>\n",
              "      <th>Work_Experience</th>\n",
              "      <th>Income_Category</th>\n",
              "      <th>Spending_Category</th>\n",
              "      <th>Customer_Category</th>\n",
              "    </tr>\n",
              "  </thead>\n",
              "  <tbody>\n",
              "    <tr>\n",
              "      <th>0</th>\n",
              "      <td>458982</td>\n",
              "      <td>Male</td>\n",
              "      <td>Yes</td>\n",
              "      <td>61</td>\n",
              "      <td>Yes</td>\n",
              "      <td>3.0</td>\n",
              "      <td>Executive</td>\n",
              "      <td>1.0</td>\n",
              "      <td>Cat_6</td>\n",
              "      <td>High</td>\n",
              "      <td>C</td>\n",
              "    </tr>\n",
              "    <tr>\n",
              "      <th>1</th>\n",
              "      <td>458983</td>\n",
              "      <td>Female</td>\n",
              "      <td>Yes</td>\n",
              "      <td>63</td>\n",
              "      <td>Yes</td>\n",
              "      <td>5.0</td>\n",
              "      <td>Executive</td>\n",
              "      <td>0.0</td>\n",
              "      <td>Cat_6</td>\n",
              "      <td>High</td>\n",
              "      <td>C</td>\n",
              "    </tr>\n",
              "    <tr>\n",
              "      <th>2</th>\n",
              "      <td>458984</td>\n",
              "      <td>Male</td>\n",
              "      <td>Yes</td>\n",
              "      <td>39</td>\n",
              "      <td>Yes</td>\n",
              "      <td>3.0</td>\n",
              "      <td>Artist</td>\n",
              "      <td>0.0</td>\n",
              "      <td>Cat_6</td>\n",
              "      <td>Average</td>\n",
              "      <td>C</td>\n",
              "    </tr>\n",
              "    <tr>\n",
              "      <th>3</th>\n",
              "      <td>458985</td>\n",
              "      <td>Male</td>\n",
              "      <td>No</td>\n",
              "      <td>23</td>\n",
              "      <td>No</td>\n",
              "      <td>4.0</td>\n",
              "      <td>Healthcare</td>\n",
              "      <td>1.0</td>\n",
              "      <td>Cat_6</td>\n",
              "      <td>Low</td>\n",
              "      <td>D</td>\n",
              "    </tr>\n",
              "    <tr>\n",
              "      <th>4</th>\n",
              "      <td>458986</td>\n",
              "      <td>Male</td>\n",
              "      <td>No</td>\n",
              "      <td>18</td>\n",
              "      <td>No</td>\n",
              "      <td>4.0</td>\n",
              "      <td>Healthcare</td>\n",
              "      <td>7.0</td>\n",
              "      <td>Cat_6</td>\n",
              "      <td>Low</td>\n",
              "      <td>D</td>\n",
              "    </tr>\n",
              "    <tr>\n",
              "      <th>...</th>\n",
              "      <td>...</td>\n",
              "      <td>...</td>\n",
              "      <td>...</td>\n",
              "      <td>...</td>\n",
              "      <td>...</td>\n",
              "      <td>...</td>\n",
              "      <td>...</td>\n",
              "      <td>...</td>\n",
              "      <td>...</td>\n",
              "      <td>...</td>\n",
              "      <td>...</td>\n",
              "    </tr>\n",
              "    <tr>\n",
              "      <th>10690</th>\n",
              "      <td>467969</td>\n",
              "      <td>Female</td>\n",
              "      <td>Yes</td>\n",
              "      <td>43</td>\n",
              "      <td>Yes</td>\n",
              "      <td>2.0</td>\n",
              "      <td>Artist</td>\n",
              "      <td>0.0</td>\n",
              "      <td>Cat_6</td>\n",
              "      <td>Average</td>\n",
              "      <td>C</td>\n",
              "    </tr>\n",
              "    <tr>\n",
              "      <th>10691</th>\n",
              "      <td>467971</td>\n",
              "      <td>Female</td>\n",
              "      <td>Yes</td>\n",
              "      <td>31</td>\n",
              "      <td>No</td>\n",
              "      <td>4.0</td>\n",
              "      <td>Artist</td>\n",
              "      <td>1.0</td>\n",
              "      <td>Cat_6</td>\n",
              "      <td>Low</td>\n",
              "      <td>D</td>\n",
              "    </tr>\n",
              "    <tr>\n",
              "      <th>10692</th>\n",
              "      <td>467972</td>\n",
              "      <td>Male</td>\n",
              "      <td>No</td>\n",
              "      <td>22</td>\n",
              "      <td>No</td>\n",
              "      <td>3.0</td>\n",
              "      <td>Artist</td>\n",
              "      <td>1.0</td>\n",
              "      <td>Cat_6</td>\n",
              "      <td>Low</td>\n",
              "      <td>D</td>\n",
              "    </tr>\n",
              "    <tr>\n",
              "      <th>10693</th>\n",
              "      <td>467973</td>\n",
              "      <td>Female</td>\n",
              "      <td>Yes</td>\n",
              "      <td>66</td>\n",
              "      <td>Yes</td>\n",
              "      <td>3.0</td>\n",
              "      <td>Engineer</td>\n",
              "      <td>0.0</td>\n",
              "      <td>Cat_6</td>\n",
              "      <td>Average</td>\n",
              "      <td>A</td>\n",
              "    </tr>\n",
              "    <tr>\n",
              "      <th>10694</th>\n",
              "      <td>467974</td>\n",
              "      <td>Female</td>\n",
              "      <td>Yes</td>\n",
              "      <td>43</td>\n",
              "      <td>No</td>\n",
              "      <td>1.0</td>\n",
              "      <td>Artist</td>\n",
              "      <td>1.0</td>\n",
              "      <td>Cat_4</td>\n",
              "      <td>Low</td>\n",
              "      <td>B</td>\n",
              "    </tr>\n",
              "  </tbody>\n",
              "</table>\n",
              "<p>10695 rows × 11 columns</p>\n",
              "</div>"
            ],
            "text/plain": [
              "       Customer_Id  Gender Graduate  Age Married  Family_Size  Profession  \\\n",
              "0           458982    Male      Yes   61     Yes          3.0   Executive   \n",
              "1           458983  Female      Yes   63     Yes          5.0   Executive   \n",
              "2           458984    Male      Yes   39     Yes          3.0      Artist   \n",
              "3           458985    Male       No   23      No          4.0  Healthcare   \n",
              "4           458986    Male       No   18      No          4.0  Healthcare   \n",
              "...            ...     ...      ...  ...     ...          ...         ...   \n",
              "10690       467969  Female      Yes   43     Yes          2.0      Artist   \n",
              "10691       467971  Female      Yes   31      No          4.0      Artist   \n",
              "10692       467972    Male       No   22      No          3.0      Artist   \n",
              "10693       467973  Female      Yes   66     Yes          3.0    Engineer   \n",
              "10694       467974  Female      Yes   43      No          1.0      Artist   \n",
              "\n",
              "       Work_Experience Income_Category Spending_Category Customer_Category  \n",
              "0                  1.0           Cat_6              High                 C  \n",
              "1                  0.0           Cat_6              High                 C  \n",
              "2                  0.0           Cat_6           Average                 C  \n",
              "3                  1.0           Cat_6               Low                 D  \n",
              "4                  7.0           Cat_6               Low                 D  \n",
              "...                ...             ...               ...               ...  \n",
              "10690              0.0           Cat_6           Average                 C  \n",
              "10691              1.0           Cat_6               Low                 D  \n",
              "10692              1.0           Cat_6               Low                 D  \n",
              "10693              0.0           Cat_6           Average                 A  \n",
              "10694              1.0           Cat_4               Low                 B  \n",
              "\n",
              "[10695 rows x 11 columns]"
            ]
          },
          "execution_count": 4,
          "metadata": {},
          "output_type": "execute_result"
        }
      ],
      "source": [
        "# Import Dataset\n",
        "\n",
        "file_path = r'C:\\Users\\exam5\\Documents\\Term 3 - MLP  End Term Exam\\customer_data_mlp.csv'\n",
        "\n",
        "df = pd.read_csv(file_path)\n",
        "df\n",
        "\n",
        "# Replace xxxxx with appropriate File Path"
      ]
    },
    {
      "cell_type": "code",
      "execution_count": null,
      "id": "6bcaac2e",
      "metadata": {
        "deletable": false,
        "id": "6bcaac2e",
        "outputId": "696e582a-f4a3-4733-8f8d-9ad611a433e1"
      },
      "outputs": [
        {
          "data": {
            "text/html": [
              "<div>\n",
              "<style scoped>\n",
              "    .dataframe tbody tr th:only-of-type {\n",
              "        vertical-align: middle;\n",
              "    }\n",
              "\n",
              "    .dataframe tbody tr th {\n",
              "        vertical-align: top;\n",
              "    }\n",
              "\n",
              "    .dataframe thead th {\n",
              "        text-align: right;\n",
              "    }\n",
              "</style>\n",
              "<table border=\"1\" class=\"dataframe\">\n",
              "  <thead>\n",
              "    <tr style=\"text-align: right;\">\n",
              "      <th></th>\n",
              "      <th>Customer_Id</th>\n",
              "      <th>Gender</th>\n",
              "      <th>Graduate</th>\n",
              "      <th>Age</th>\n",
              "      <th>Married</th>\n",
              "      <th>Family_Size</th>\n",
              "      <th>Profession</th>\n",
              "      <th>Work_Experience</th>\n",
              "      <th>Income_Category</th>\n",
              "      <th>Spending_Category</th>\n",
              "      <th>Customer_Category</th>\n",
              "    </tr>\n",
              "  </thead>\n",
              "  <tbody>\n",
              "    <tr>\n",
              "      <th>0</th>\n",
              "      <td>464624</td>\n",
              "      <td>Male</td>\n",
              "      <td>Yes</td>\n",
              "      <td>39</td>\n",
              "      <td>No</td>\n",
              "      <td>2.0</td>\n",
              "      <td>Entertainment</td>\n",
              "      <td>3.0</td>\n",
              "      <td>Cat_1</td>\n",
              "      <td>Low</td>\n",
              "      <td>A</td>\n",
              "    </tr>\n",
              "    <tr>\n",
              "      <th>1</th>\n",
              "      <td>461205</td>\n",
              "      <td>Male</td>\n",
              "      <td>Yes</td>\n",
              "      <td>26</td>\n",
              "      <td>No</td>\n",
              "      <td>3.0</td>\n",
              "      <td>Healthcare</td>\n",
              "      <td>NaN</td>\n",
              "      <td>Cat_2</td>\n",
              "      <td>Low</td>\n",
              "      <td>D</td>\n",
              "    </tr>\n",
              "    <tr>\n",
              "      <th>2</th>\n",
              "      <td>466707</td>\n",
              "      <td>Female</td>\n",
              "      <td>Yes</td>\n",
              "      <td>48</td>\n",
              "      <td>Yes</td>\n",
              "      <td>4.0</td>\n",
              "      <td>Homemaker</td>\n",
              "      <td>1.0</td>\n",
              "      <td>Cat_6</td>\n",
              "      <td>Low</td>\n",
              "      <td>B</td>\n",
              "    </tr>\n",
              "    <tr>\n",
              "      <th>3</th>\n",
              "      <td>464126</td>\n",
              "      <td>Female</td>\n",
              "      <td>Yes</td>\n",
              "      <td>55</td>\n",
              "      <td>No</td>\n",
              "      <td>1.0</td>\n",
              "      <td>Marketing</td>\n",
              "      <td>3.0</td>\n",
              "      <td>Cat_6</td>\n",
              "      <td>Low</td>\n",
              "      <td>B</td>\n",
              "    </tr>\n",
              "    <tr>\n",
              "      <th>4</th>\n",
              "      <td>463792</td>\n",
              "      <td>Female</td>\n",
              "      <td>No</td>\n",
              "      <td>38</td>\n",
              "      <td>No</td>\n",
              "      <td>1.0</td>\n",
              "      <td>Engineer</td>\n",
              "      <td>NaN</td>\n",
              "      <td>Cat_6</td>\n",
              "      <td>Low</td>\n",
              "      <td>B</td>\n",
              "    </tr>\n",
              "    <tr>\n",
              "      <th>...</th>\n",
              "      <td>...</td>\n",
              "      <td>...</td>\n",
              "      <td>...</td>\n",
              "      <td>...</td>\n",
              "      <td>...</td>\n",
              "      <td>...</td>\n",
              "      <td>...</td>\n",
              "      <td>...</td>\n",
              "      <td>...</td>\n",
              "      <td>...</td>\n",
              "      <td>...</td>\n",
              "    </tr>\n",
              "    <tr>\n",
              "      <th>1995</th>\n",
              "      <td>461307</td>\n",
              "      <td>Male</td>\n",
              "      <td>No</td>\n",
              "      <td>23</td>\n",
              "      <td>No</td>\n",
              "      <td>4.0</td>\n",
              "      <td>Healthcare</td>\n",
              "      <td>1.0</td>\n",
              "      <td>Cat_6</td>\n",
              "      <td>Low</td>\n",
              "      <td>D</td>\n",
              "    </tr>\n",
              "    <tr>\n",
              "      <th>1996</th>\n",
              "      <td>462828</td>\n",
              "      <td>Male</td>\n",
              "      <td>No</td>\n",
              "      <td>25</td>\n",
              "      <td>No</td>\n",
              "      <td>3.0</td>\n",
              "      <td>Marketing</td>\n",
              "      <td>3.0</td>\n",
              "      <td>Cat_5</td>\n",
              "      <td>Low</td>\n",
              "      <td>D</td>\n",
              "    </tr>\n",
              "    <tr>\n",
              "      <th>1997</th>\n",
              "      <td>463956</td>\n",
              "      <td>Female</td>\n",
              "      <td>No</td>\n",
              "      <td>28</td>\n",
              "      <td>No</td>\n",
              "      <td>5.0</td>\n",
              "      <td>Entertainment</td>\n",
              "      <td>0.0</td>\n",
              "      <td>Cat_2</td>\n",
              "      <td>Low</td>\n",
              "      <td>D</td>\n",
              "    </tr>\n",
              "    <tr>\n",
              "      <th>1998</th>\n",
              "      <td>463447</td>\n",
              "      <td>Male</td>\n",
              "      <td>No</td>\n",
              "      <td>60</td>\n",
              "      <td>Yes</td>\n",
              "      <td>2.0</td>\n",
              "      <td>Engineer</td>\n",
              "      <td>0.0</td>\n",
              "      <td>Cat_6</td>\n",
              "      <td>Average</td>\n",
              "      <td>B</td>\n",
              "    </tr>\n",
              "    <tr>\n",
              "      <th>1999</th>\n",
              "      <td>465615</td>\n",
              "      <td>Male</td>\n",
              "      <td>Yes</td>\n",
              "      <td>61</td>\n",
              "      <td>Yes</td>\n",
              "      <td>2.0</td>\n",
              "      <td>Artist</td>\n",
              "      <td>3.0</td>\n",
              "      <td>Cat_6</td>\n",
              "      <td>Average</td>\n",
              "      <td>C</td>\n",
              "    </tr>\n",
              "  </tbody>\n",
              "</table>\n",
              "<p>2000 rows × 11 columns</p>\n",
              "</div>"
            ],
            "text/plain": [
              "      Customer_Id  Gender Graduate  Age Married  Family_Size     Profession  \\\n",
              "0          464624    Male      Yes   39      No          2.0  Entertainment   \n",
              "1          461205    Male      Yes   26      No          3.0     Healthcare   \n",
              "2          466707  Female      Yes   48     Yes          4.0      Homemaker   \n",
              "3          464126  Female      Yes   55      No          1.0      Marketing   \n",
              "4          463792  Female       No   38      No          1.0       Engineer   \n",
              "...           ...     ...      ...  ...     ...          ...            ...   \n",
              "1995       461307    Male       No   23      No          4.0     Healthcare   \n",
              "1996       462828    Male       No   25      No          3.0      Marketing   \n",
              "1997       463956  Female       No   28      No          5.0  Entertainment   \n",
              "1998       463447    Male       No   60     Yes          2.0       Engineer   \n",
              "1999       465615    Male      Yes   61     Yes          2.0         Artist   \n",
              "\n",
              "      Work_Experience Income_Category Spending_Category Customer_Category  \n",
              "0                 3.0           Cat_1               Low                 A  \n",
              "1                 NaN           Cat_2               Low                 D  \n",
              "2                 1.0           Cat_6               Low                 B  \n",
              "3                 3.0           Cat_6               Low                 B  \n",
              "4                 NaN           Cat_6               Low                 B  \n",
              "...               ...             ...               ...               ...  \n",
              "1995              1.0           Cat_6               Low                 D  \n",
              "1996              3.0           Cat_5               Low                 D  \n",
              "1997              0.0           Cat_2               Low                 D  \n",
              "1998              0.0           Cat_6           Average                 B  \n",
              "1999              3.0           Cat_6           Average                 C  \n",
              "\n",
              "[2000 rows x 11 columns]"
            ]
          },
          "execution_count": 6,
          "metadata": {},
          "output_type": "execute_result"
        }
      ],
      "source": [
        "# Create Student Specific Unique Dataset [2000 Records]\n",
        "\n",
        "my_df = df.sample(n = 2000, random_state = 35039, ignore_index = True)\n",
        "my_df\n",
        "\n",
        "# Replace xxxxx with One's Roll Number"
      ]
    },
    {
      "cell_type": "code",
      "execution_count": null,
      "id": "ab4c7729",
      "metadata": {
        "id": "ab4c7729",
        "outputId": "dec9d86d-3a7f-4354-da90-046e13dfb2c9"
      },
      "outputs": [
        {
          "data": {
            "text/plain": [
              "Index(['Customer_Id', 'Gender', 'Graduate', 'Age', 'Married', 'Family_Size',\n",
              "       'Profession', 'Work_Experience', 'Income_Category', 'Spending_Category',\n",
              "       'Customer_Category'],\n",
              "      dtype='object')"
            ]
          },
          "execution_count": 7,
          "metadata": {},
          "output_type": "execute_result"
        }
      ],
      "source": [
        "my_df.columns"
      ]
    },
    {
      "cell_type": "markdown",
      "id": "ac55ecb0",
      "metadata": {
        "deletable": false,
        "editable": false,
        "id": "ac55ecb0"
      },
      "source": [
        "### -----------------------------------------------------------------------------------------------------------------------------------------------------------"
      ]
    },
    {
      "cell_type": "markdown",
      "id": "9f11e906",
      "metadata": {
        "deletable": false,
        "editable": false,
        "id": "9f11e906"
      },
      "source": [
        "## Instructions\n",
        "\n",
        "### Part A : Data Analysis\n",
        "#### I. Data Preprocessing\n",
        "#### II. Supervised Learning : Classification - Decision Tree\n",
        "#### III. Unsupervised Learning : Custering - K-Means\n",
        "\n",
        "### Part B : Report on Data Analysis - For each Section in Part A [Data Preprocessing | Classification | Clustering]\n",
        "#### 1. Description of Data\n",
        "#### 2. Objective(s) of Data Analysis\n",
        "#### 3. Observations on Data Analysis\n",
        "#### 4. Manegerial Insights"
      ]
    },
    {
      "cell_type": "markdown",
      "id": "615d3d42",
      "metadata": {
        "deletable": false,
        "editable": false,
        "id": "615d3d42"
      },
      "source": [
        "### -----------------------------------------------------------------------------------------------------------------------------------------------------------"
      ]
    },
    {
      "cell_type": "markdown",
      "id": "d4171b03",
      "metadata": {
        "deletable": false,
        "editable": false,
        "id": "d4171b03"
      },
      "source": [
        "### Part A : Data Analysis :: I. Data Preprocessing\n",
        "#### 1. Bifurcate Original Dataset : {Categorical (Nominal | Ordinal) | Non-Categorical} Subset\n",
        "#### 2. Impute Missing Data : {Categorical | Non-Categorical} Subset\n",
        "#### 3. Data Encoding : Categorical Subset\n",
        "#### 4. Outlier Treatment : Non-Categorical Subset\n",
        "#### 5. Join Processed {Categorical & Non-Categorical} Subsets to Create Processed Dataset"
      ]
    },
    {
      "cell_type": "markdown",
      "id": "34c3c727",
      "metadata": {
        "id": "34c3c727"
      },
      "source": [
        "### 1. Bifurcate Original Dataset : {Categorical (Nominal | Ordinal) | Non-Categorical} Subset"
      ]
    },
    {
      "cell_type": "code",
      "execution_count": null,
      "id": "6d6ea19a",
      "metadata": {
        "id": "6d6ea19a"
      },
      "outputs": [],
      "source": [
        "df_noncat = my_df[[ 'Age', 'Family_Size','Work_Experience' ]]\n",
        "df_cat = my_df[['Gender', 'Graduate','Married','Profession','Income_Category','Spending_Category','Customer_Category']]"
      ]
    },
    {
      "cell_type": "code",
      "execution_count": null,
      "id": "fbabef68",
      "metadata": {
        "id": "fbabef68",
        "outputId": "051b3391-5283-45c1-f6cb-07719c37427b"
      },
      "outputs": [
        {
          "data": {
            "text/html": [
              "<div>\n",
              "<style scoped>\n",
              "    .dataframe tbody tr th:only-of-type {\n",
              "        vertical-align: middle;\n",
              "    }\n",
              "\n",
              "    .dataframe tbody tr th {\n",
              "        vertical-align: top;\n",
              "    }\n",
              "\n",
              "    .dataframe thead th {\n",
              "        text-align: right;\n",
              "    }\n",
              "</style>\n",
              "<table border=\"1\" class=\"dataframe\">\n",
              "  <thead>\n",
              "    <tr style=\"text-align: right;\">\n",
              "      <th></th>\n",
              "      <th>Age</th>\n",
              "      <th>Family_Size</th>\n",
              "      <th>Work_Experience</th>\n",
              "    </tr>\n",
              "  </thead>\n",
              "  <tbody>\n",
              "    <tr>\n",
              "      <th>count</th>\n",
              "      <td>2000.000000</td>\n",
              "      <td>1915.000000</td>\n",
              "      <td>1786.000000</td>\n",
              "    </tr>\n",
              "    <tr>\n",
              "      <th>mean</th>\n",
              "      <td>43.683000</td>\n",
              "      <td>2.843864</td>\n",
              "      <td>2.624300</td>\n",
              "    </tr>\n",
              "    <tr>\n",
              "      <th>std</th>\n",
              "      <td>16.776896</td>\n",
              "      <td>1.561072</td>\n",
              "      <td>3.371067</td>\n",
              "    </tr>\n",
              "    <tr>\n",
              "      <th>min</th>\n",
              "      <td>18.000000</td>\n",
              "      <td>1.000000</td>\n",
              "      <td>0.000000</td>\n",
              "    </tr>\n",
              "    <tr>\n",
              "      <th>25%</th>\n",
              "      <td>30.000000</td>\n",
              "      <td>2.000000</td>\n",
              "      <td>0.000000</td>\n",
              "    </tr>\n",
              "    <tr>\n",
              "      <th>50%</th>\n",
              "      <td>41.000000</td>\n",
              "      <td>3.000000</td>\n",
              "      <td>1.000000</td>\n",
              "    </tr>\n",
              "    <tr>\n",
              "      <th>75%</th>\n",
              "      <td>53.500000</td>\n",
              "      <td>4.000000</td>\n",
              "      <td>4.000000</td>\n",
              "    </tr>\n",
              "    <tr>\n",
              "      <th>max</th>\n",
              "      <td>89.000000</td>\n",
              "      <td>9.000000</td>\n",
              "      <td>14.000000</td>\n",
              "    </tr>\n",
              "  </tbody>\n",
              "</table>\n",
              "</div>"
            ],
            "text/plain": [
              "               Age  Family_Size  Work_Experience\n",
              "count  2000.000000  1915.000000      1786.000000\n",
              "mean     43.683000     2.843864         2.624300\n",
              "std      16.776896     1.561072         3.371067\n",
              "min      18.000000     1.000000         0.000000\n",
              "25%      30.000000     2.000000         0.000000\n",
              "50%      41.000000     3.000000         1.000000\n",
              "75%      53.500000     4.000000         4.000000\n",
              "max      89.000000     9.000000        14.000000"
            ]
          },
          "execution_count": 115,
          "metadata": {},
          "output_type": "execute_result"
        }
      ],
      "source": [
        "df_noncat.describe()"
      ]
    },
    {
      "cell_type": "code",
      "execution_count": null,
      "id": "3c2e4aa8",
      "metadata": {
        "id": "3c2e4aa8",
        "outputId": "e79043bc-4649-4b30-89b7-b6cbb1411f03"
      },
      "outputs": [
        {
          "data": {
            "application/vnd.plotly.v1+json": {
              "config": {
                "plotlyServerURL": "https://plot.ly"
              },
              "data": [
                {
                  "domain": {
                    "x": [
                      0,
                      1
                    ],
                    "y": [
                      0,
                      1
                    ]
                  },
                  "hovertemplate": "label=%{label}<br>value=%{value}<extra></extra>",
                  "labels": [
                    "Artist",
                    "Healthcare",
                    "Entertainment",
                    "Engineer",
                    "Executive",
                    "Lawyer",
                    "Doctor",
                    "Marketing",
                    "Homemaker"
                  ],
                  "legendgroup": "",
                  "name": "",
                  "showlegend": true,
                  "type": "pie",
                  "values": [
                    607,
                    328,
                    229,
                    183,
                    176,
                    151,
                    142,
                    84,
                    62
                  ]
                }
              ],
              "layout": {
                "legend": {
                  "tracegroupgap": 0
                },
                "template": {
                  "data": {
                    "bar": [
                      {
                        "error_x": {
                          "color": "#2a3f5f"
                        },
                        "error_y": {
                          "color": "#2a3f5f"
                        },
                        "marker": {
                          "line": {
                            "color": "#E5ECF6",
                            "width": 0.5
                          },
                          "pattern": {
                            "fillmode": "overlay",
                            "size": 10,
                            "solidity": 0.2
                          }
                        },
                        "type": "bar"
                      }
                    ],
                    "barpolar": [
                      {
                        "marker": {
                          "line": {
                            "color": "#E5ECF6",
                            "width": 0.5
                          },
                          "pattern": {
                            "fillmode": "overlay",
                            "size": 10,
                            "solidity": 0.2
                          }
                        },
                        "type": "barpolar"
                      }
                    ],
                    "carpet": [
                      {
                        "aaxis": {
                          "endlinecolor": "#2a3f5f",
                          "gridcolor": "white",
                          "linecolor": "white",
                          "minorgridcolor": "white",
                          "startlinecolor": "#2a3f5f"
                        },
                        "baxis": {
                          "endlinecolor": "#2a3f5f",
                          "gridcolor": "white",
                          "linecolor": "white",
                          "minorgridcolor": "white",
                          "startlinecolor": "#2a3f5f"
                        },
                        "type": "carpet"
                      }
                    ],
                    "choropleth": [
                      {
                        "colorbar": {
                          "outlinewidth": 0,
                          "ticks": ""
                        },
                        "type": "choropleth"
                      }
                    ],
                    "contour": [
                      {
                        "colorbar": {
                          "outlinewidth": 0,
                          "ticks": ""
                        },
                        "colorscale": [
                          [
                            0,
                            "#0d0887"
                          ],
                          [
                            0.1111111111111111,
                            "#46039f"
                          ],
                          [
                            0.2222222222222222,
                            "#7201a8"
                          ],
                          [
                            0.3333333333333333,
                            "#9c179e"
                          ],
                          [
                            0.4444444444444444,
                            "#bd3786"
                          ],
                          [
                            0.5555555555555556,
                            "#d8576b"
                          ],
                          [
                            0.6666666666666666,
                            "#ed7953"
                          ],
                          [
                            0.7777777777777778,
                            "#fb9f3a"
                          ],
                          [
                            0.8888888888888888,
                            "#fdca26"
                          ],
                          [
                            1,
                            "#f0f921"
                          ]
                        ],
                        "type": "contour"
                      }
                    ],
                    "contourcarpet": [
                      {
                        "colorbar": {
                          "outlinewidth": 0,
                          "ticks": ""
                        },
                        "type": "contourcarpet"
                      }
                    ],
                    "heatmap": [
                      {
                        "colorbar": {
                          "outlinewidth": 0,
                          "ticks": ""
                        },
                        "colorscale": [
                          [
                            0,
                            "#0d0887"
                          ],
                          [
                            0.1111111111111111,
                            "#46039f"
                          ],
                          [
                            0.2222222222222222,
                            "#7201a8"
                          ],
                          [
                            0.3333333333333333,
                            "#9c179e"
                          ],
                          [
                            0.4444444444444444,
                            "#bd3786"
                          ],
                          [
                            0.5555555555555556,
                            "#d8576b"
                          ],
                          [
                            0.6666666666666666,
                            "#ed7953"
                          ],
                          [
                            0.7777777777777778,
                            "#fb9f3a"
                          ],
                          [
                            0.8888888888888888,
                            "#fdca26"
                          ],
                          [
                            1,
                            "#f0f921"
                          ]
                        ],
                        "type": "heatmap"
                      }
                    ],
                    "heatmapgl": [
                      {
                        "colorbar": {
                          "outlinewidth": 0,
                          "ticks": ""
                        },
                        "colorscale": [
                          [
                            0,
                            "#0d0887"
                          ],
                          [
                            0.1111111111111111,
                            "#46039f"
                          ],
                          [
                            0.2222222222222222,
                            "#7201a8"
                          ],
                          [
                            0.3333333333333333,
                            "#9c179e"
                          ],
                          [
                            0.4444444444444444,
                            "#bd3786"
                          ],
                          [
                            0.5555555555555556,
                            "#d8576b"
                          ],
                          [
                            0.6666666666666666,
                            "#ed7953"
                          ],
                          [
                            0.7777777777777778,
                            "#fb9f3a"
                          ],
                          [
                            0.8888888888888888,
                            "#fdca26"
                          ],
                          [
                            1,
                            "#f0f921"
                          ]
                        ],
                        "type": "heatmapgl"
                      }
                    ],
                    "histogram": [
                      {
                        "marker": {
                          "pattern": {
                            "fillmode": "overlay",
                            "size": 10,
                            "solidity": 0.2
                          }
                        },
                        "type": "histogram"
                      }
                    ],
                    "histogram2d": [
                      {
                        "colorbar": {
                          "outlinewidth": 0,
                          "ticks": ""
                        },
                        "colorscale": [
                          [
                            0,
                            "#0d0887"
                          ],
                          [
                            0.1111111111111111,
                            "#46039f"
                          ],
                          [
                            0.2222222222222222,
                            "#7201a8"
                          ],
                          [
                            0.3333333333333333,
                            "#9c179e"
                          ],
                          [
                            0.4444444444444444,
                            "#bd3786"
                          ],
                          [
                            0.5555555555555556,
                            "#d8576b"
                          ],
                          [
                            0.6666666666666666,
                            "#ed7953"
                          ],
                          [
                            0.7777777777777778,
                            "#fb9f3a"
                          ],
                          [
                            0.8888888888888888,
                            "#fdca26"
                          ],
                          [
                            1,
                            "#f0f921"
                          ]
                        ],
                        "type": "histogram2d"
                      }
                    ],
                    "histogram2dcontour": [
                      {
                        "colorbar": {
                          "outlinewidth": 0,
                          "ticks": ""
                        },
                        "colorscale": [
                          [
                            0,
                            "#0d0887"
                          ],
                          [
                            0.1111111111111111,
                            "#46039f"
                          ],
                          [
                            0.2222222222222222,
                            "#7201a8"
                          ],
                          [
                            0.3333333333333333,
                            "#9c179e"
                          ],
                          [
                            0.4444444444444444,
                            "#bd3786"
                          ],
                          [
                            0.5555555555555556,
                            "#d8576b"
                          ],
                          [
                            0.6666666666666666,
                            "#ed7953"
                          ],
                          [
                            0.7777777777777778,
                            "#fb9f3a"
                          ],
                          [
                            0.8888888888888888,
                            "#fdca26"
                          ],
                          [
                            1,
                            "#f0f921"
                          ]
                        ],
                        "type": "histogram2dcontour"
                      }
                    ],
                    "mesh3d": [
                      {
                        "colorbar": {
                          "outlinewidth": 0,
                          "ticks": ""
                        },
                        "type": "mesh3d"
                      }
                    ],
                    "parcoords": [
                      {
                        "line": {
                          "colorbar": {
                            "outlinewidth": 0,
                            "ticks": ""
                          }
                        },
                        "type": "parcoords"
                      }
                    ],
                    "pie": [
                      {
                        "automargin": true,
                        "type": "pie"
                      }
                    ],
                    "scatter": [
                      {
                        "fillpattern": {
                          "fillmode": "overlay",
                          "size": 10,
                          "solidity": 0.2
                        },
                        "type": "scatter"
                      }
                    ],
                    "scatter3d": [
                      {
                        "line": {
                          "colorbar": {
                            "outlinewidth": 0,
                            "ticks": ""
                          }
                        },
                        "marker": {
                          "colorbar": {
                            "outlinewidth": 0,
                            "ticks": ""
                          }
                        },
                        "type": "scatter3d"
                      }
                    ],
                    "scattercarpet": [
                      {
                        "marker": {
                          "colorbar": {
                            "outlinewidth": 0,
                            "ticks": ""
                          }
                        },
                        "type": "scattercarpet"
                      }
                    ],
                    "scattergeo": [
                      {
                        "marker": {
                          "colorbar": {
                            "outlinewidth": 0,
                            "ticks": ""
                          }
                        },
                        "type": "scattergeo"
                      }
                    ],
                    "scattergl": [
                      {
                        "marker": {
                          "colorbar": {
                            "outlinewidth": 0,
                            "ticks": ""
                          }
                        },
                        "type": "scattergl"
                      }
                    ],
                    "scattermapbox": [
                      {
                        "marker": {
                          "colorbar": {
                            "outlinewidth": 0,
                            "ticks": ""
                          }
                        },
                        "type": "scattermapbox"
                      }
                    ],
                    "scatterpolar": [
                      {
                        "marker": {
                          "colorbar": {
                            "outlinewidth": 0,
                            "ticks": ""
                          }
                        },
                        "type": "scatterpolar"
                      }
                    ],
                    "scatterpolargl": [
                      {
                        "marker": {
                          "colorbar": {
                            "outlinewidth": 0,
                            "ticks": ""
                          }
                        },
                        "type": "scatterpolargl"
                      }
                    ],
                    "scatterternary": [
                      {
                        "marker": {
                          "colorbar": {
                            "outlinewidth": 0,
                            "ticks": ""
                          }
                        },
                        "type": "scatterternary"
                      }
                    ],
                    "surface": [
                      {
                        "colorbar": {
                          "outlinewidth": 0,
                          "ticks": ""
                        },
                        "colorscale": [
                          [
                            0,
                            "#0d0887"
                          ],
                          [
                            0.1111111111111111,
                            "#46039f"
                          ],
                          [
                            0.2222222222222222,
                            "#7201a8"
                          ],
                          [
                            0.3333333333333333,
                            "#9c179e"
                          ],
                          [
                            0.4444444444444444,
                            "#bd3786"
                          ],
                          [
                            0.5555555555555556,
                            "#d8576b"
                          ],
                          [
                            0.6666666666666666,
                            "#ed7953"
                          ],
                          [
                            0.7777777777777778,
                            "#fb9f3a"
                          ],
                          [
                            0.8888888888888888,
                            "#fdca26"
                          ],
                          [
                            1,
                            "#f0f921"
                          ]
                        ],
                        "type": "surface"
                      }
                    ],
                    "table": [
                      {
                        "cells": {
                          "fill": {
                            "color": "#EBF0F8"
                          },
                          "line": {
                            "color": "white"
                          }
                        },
                        "header": {
                          "fill": {
                            "color": "#C8D4E3"
                          },
                          "line": {
                            "color": "white"
                          }
                        },
                        "type": "table"
                      }
                    ]
                  },
                  "layout": {
                    "annotationdefaults": {
                      "arrowcolor": "#2a3f5f",
                      "arrowhead": 0,
                      "arrowwidth": 1
                    },
                    "autotypenumbers": "strict",
                    "coloraxis": {
                      "colorbar": {
                        "outlinewidth": 0,
                        "ticks": ""
                      }
                    },
                    "colorscale": {
                      "diverging": [
                        [
                          0,
                          "#8e0152"
                        ],
                        [
                          0.1,
                          "#c51b7d"
                        ],
                        [
                          0.2,
                          "#de77ae"
                        ],
                        [
                          0.3,
                          "#f1b6da"
                        ],
                        [
                          0.4,
                          "#fde0ef"
                        ],
                        [
                          0.5,
                          "#f7f7f7"
                        ],
                        [
                          0.6,
                          "#e6f5d0"
                        ],
                        [
                          0.7,
                          "#b8e186"
                        ],
                        [
                          0.8,
                          "#7fbc41"
                        ],
                        [
                          0.9,
                          "#4d9221"
                        ],
                        [
                          1,
                          "#276419"
                        ]
                      ],
                      "sequential": [
                        [
                          0,
                          "#0d0887"
                        ],
                        [
                          0.1111111111111111,
                          "#46039f"
                        ],
                        [
                          0.2222222222222222,
                          "#7201a8"
                        ],
                        [
                          0.3333333333333333,
                          "#9c179e"
                        ],
                        [
                          0.4444444444444444,
                          "#bd3786"
                        ],
                        [
                          0.5555555555555556,
                          "#d8576b"
                        ],
                        [
                          0.6666666666666666,
                          "#ed7953"
                        ],
                        [
                          0.7777777777777778,
                          "#fb9f3a"
                        ],
                        [
                          0.8888888888888888,
                          "#fdca26"
                        ],
                        [
                          1,
                          "#f0f921"
                        ]
                      ],
                      "sequentialminus": [
                        [
                          0,
                          "#0d0887"
                        ],
                        [
                          0.1111111111111111,
                          "#46039f"
                        ],
                        [
                          0.2222222222222222,
                          "#7201a8"
                        ],
                        [
                          0.3333333333333333,
                          "#9c179e"
                        ],
                        [
                          0.4444444444444444,
                          "#bd3786"
                        ],
                        [
                          0.5555555555555556,
                          "#d8576b"
                        ],
                        [
                          0.6666666666666666,
                          "#ed7953"
                        ],
                        [
                          0.7777777777777778,
                          "#fb9f3a"
                        ],
                        [
                          0.8888888888888888,
                          "#fdca26"
                        ],
                        [
                          1,
                          "#f0f921"
                        ]
                      ]
                    },
                    "colorway": [
                      "#636efa",
                      "#EF553B",
                      "#00cc96",
                      "#ab63fa",
                      "#FFA15A",
                      "#19d3f3",
                      "#FF6692",
                      "#B6E880",
                      "#FF97FF",
                      "#FECB52"
                    ],
                    "font": {
                      "color": "#2a3f5f"
                    },
                    "geo": {
                      "bgcolor": "white",
                      "lakecolor": "white",
                      "landcolor": "#E5ECF6",
                      "showlakes": true,
                      "showland": true,
                      "subunitcolor": "white"
                    },
                    "hoverlabel": {
                      "align": "left"
                    },
                    "hovermode": "closest",
                    "mapbox": {
                      "style": "light"
                    },
                    "paper_bgcolor": "white",
                    "plot_bgcolor": "#E5ECF6",
                    "polar": {
                      "angularaxis": {
                        "gridcolor": "white",
                        "linecolor": "white",
                        "ticks": ""
                      },
                      "bgcolor": "#E5ECF6",
                      "radialaxis": {
                        "gridcolor": "white",
                        "linecolor": "white",
                        "ticks": ""
                      }
                    },
                    "scene": {
                      "xaxis": {
                        "backgroundcolor": "#E5ECF6",
                        "gridcolor": "white",
                        "gridwidth": 2,
                        "linecolor": "white",
                        "showbackground": true,
                        "ticks": "",
                        "zerolinecolor": "white"
                      },
                      "yaxis": {
                        "backgroundcolor": "#E5ECF6",
                        "gridcolor": "white",
                        "gridwidth": 2,
                        "linecolor": "white",
                        "showbackground": true,
                        "ticks": "",
                        "zerolinecolor": "white"
                      },
                      "zaxis": {
                        "backgroundcolor": "#E5ECF6",
                        "gridcolor": "white",
                        "gridwidth": 2,
                        "linecolor": "white",
                        "showbackground": true,
                        "ticks": "",
                        "zerolinecolor": "white"
                      }
                    },
                    "shapedefaults": {
                      "line": {
                        "color": "#2a3f5f"
                      }
                    },
                    "ternary": {
                      "aaxis": {
                        "gridcolor": "white",
                        "linecolor": "white",
                        "ticks": ""
                      },
                      "baxis": {
                        "gridcolor": "white",
                        "linecolor": "white",
                        "ticks": ""
                      },
                      "bgcolor": "#E5ECF6",
                      "caxis": {
                        "gridcolor": "white",
                        "linecolor": "white",
                        "ticks": ""
                      }
                    },
                    "title": {
                      "x": 0.05
                    },
                    "xaxis": {
                      "automargin": true,
                      "gridcolor": "white",
                      "linecolor": "white",
                      "ticks": "",
                      "title": {
                        "standoff": 15
                      },
                      "zerolinecolor": "white",
                      "zerolinewidth": 2
                    },
                    "yaxis": {
                      "automargin": true,
                      "gridcolor": "white",
                      "linecolor": "white",
                      "ticks": "",
                      "title": {
                        "standoff": 15
                      },
                      "zerolinecolor": "white",
                      "zerolinewidth": 2
                    }
                  }
                },
                "title": {
                  "text": "Profession of Customers"
                }
              }
            },
            "text/html": [
              "<div>                            <div id=\"9b164ab6-e5ab-4ca8-ac1d-317e9bda397e\" class=\"plotly-graph-div\" style=\"height:525px; width:100%;\"></div>            <script type=\"text/javascript\">                require([\"plotly\"], function(Plotly) {                    window.PLOTLYENV=window.PLOTLYENV || {};                                    if (document.getElementById(\"9b164ab6-e5ab-4ca8-ac1d-317e9bda397e\")) {                    Plotly.newPlot(                        \"9b164ab6-e5ab-4ca8-ac1d-317e9bda397e\",                        [{\"domain\":{\"x\":[0.0,1.0],\"y\":[0.0,1.0]},\"hovertemplate\":\"label=%{label}<br>value=%{value}<extra></extra>\",\"labels\":[\"Artist\",\"Healthcare\",\"Entertainment\",\"Engineer\",\"Executive\",\"Lawyer\",\"Doctor\",\"Marketing\",\"Homemaker\"],\"legendgroup\":\"\",\"name\":\"\",\"showlegend\":true,\"values\":[607,328,229,183,176,151,142,84,62],\"type\":\"pie\"}],                        {\"template\":{\"data\":{\"histogram2dcontour\":[{\"type\":\"histogram2dcontour\",\"colorbar\":{\"outlinewidth\":0,\"ticks\":\"\"},\"colorscale\":[[0.0,\"#0d0887\"],[0.1111111111111111,\"#46039f\"],[0.2222222222222222,\"#7201a8\"],[0.3333333333333333,\"#9c179e\"],[0.4444444444444444,\"#bd3786\"],[0.5555555555555556,\"#d8576b\"],[0.6666666666666666,\"#ed7953\"],[0.7777777777777778,\"#fb9f3a\"],[0.8888888888888888,\"#fdca26\"],[1.0,\"#f0f921\"]]}],\"choropleth\":[{\"type\":\"choropleth\",\"colorbar\":{\"outlinewidth\":0,\"ticks\":\"\"}}],\"histogram2d\":[{\"type\":\"histogram2d\",\"colorbar\":{\"outlinewidth\":0,\"ticks\":\"\"},\"colorscale\":[[0.0,\"#0d0887\"],[0.1111111111111111,\"#46039f\"],[0.2222222222222222,\"#7201a8\"],[0.3333333333333333,\"#9c179e\"],[0.4444444444444444,\"#bd3786\"],[0.5555555555555556,\"#d8576b\"],[0.6666666666666666,\"#ed7953\"],[0.7777777777777778,\"#fb9f3a\"],[0.8888888888888888,\"#fdca26\"],[1.0,\"#f0f921\"]]}],\"heatmap\":[{\"type\":\"heatmap\",\"colorbar\":{\"outlinewidth\":0,\"ticks\":\"\"},\"colorscale\":[[0.0,\"#0d0887\"],[0.1111111111111111,\"#46039f\"],[0.2222222222222222,\"#7201a8\"],[0.3333333333333333,\"#9c179e\"],[0.4444444444444444,\"#bd3786\"],[0.5555555555555556,\"#d8576b\"],[0.6666666666666666,\"#ed7953\"],[0.7777777777777778,\"#fb9f3a\"],[0.8888888888888888,\"#fdca26\"],[1.0,\"#f0f921\"]]}],\"heatmapgl\":[{\"type\":\"heatmapgl\",\"colorbar\":{\"outlinewidth\":0,\"ticks\":\"\"},\"colorscale\":[[0.0,\"#0d0887\"],[0.1111111111111111,\"#46039f\"],[0.2222222222222222,\"#7201a8\"],[0.3333333333333333,\"#9c179e\"],[0.4444444444444444,\"#bd3786\"],[0.5555555555555556,\"#d8576b\"],[0.6666666666666666,\"#ed7953\"],[0.7777777777777778,\"#fb9f3a\"],[0.8888888888888888,\"#fdca26\"],[1.0,\"#f0f921\"]]}],\"contourcarpet\":[{\"type\":\"contourcarpet\",\"colorbar\":{\"outlinewidth\":0,\"ticks\":\"\"}}],\"contour\":[{\"type\":\"contour\",\"colorbar\":{\"outlinewidth\":0,\"ticks\":\"\"},\"colorscale\":[[0.0,\"#0d0887\"],[0.1111111111111111,\"#46039f\"],[0.2222222222222222,\"#7201a8\"],[0.3333333333333333,\"#9c179e\"],[0.4444444444444444,\"#bd3786\"],[0.5555555555555556,\"#d8576b\"],[0.6666666666666666,\"#ed7953\"],[0.7777777777777778,\"#fb9f3a\"],[0.8888888888888888,\"#fdca26\"],[1.0,\"#f0f921\"]]}],\"surface\":[{\"type\":\"surface\",\"colorbar\":{\"outlinewidth\":0,\"ticks\":\"\"},\"colorscale\":[[0.0,\"#0d0887\"],[0.1111111111111111,\"#46039f\"],[0.2222222222222222,\"#7201a8\"],[0.3333333333333333,\"#9c179e\"],[0.4444444444444444,\"#bd3786\"],[0.5555555555555556,\"#d8576b\"],[0.6666666666666666,\"#ed7953\"],[0.7777777777777778,\"#fb9f3a\"],[0.8888888888888888,\"#fdca26\"],[1.0,\"#f0f921\"]]}],\"mesh3d\":[{\"type\":\"mesh3d\",\"colorbar\":{\"outlinewidth\":0,\"ticks\":\"\"}}],\"scatter\":[{\"fillpattern\":{\"fillmode\":\"overlay\",\"size\":10,\"solidity\":0.2},\"type\":\"scatter\"}],\"parcoords\":[{\"type\":\"parcoords\",\"line\":{\"colorbar\":{\"outlinewidth\":0,\"ticks\":\"\"}}}],\"scatterpolargl\":[{\"type\":\"scatterpolargl\",\"marker\":{\"colorbar\":{\"outlinewidth\":0,\"ticks\":\"\"}}}],\"bar\":[{\"error_x\":{\"color\":\"#2a3f5f\"},\"error_y\":{\"color\":\"#2a3f5f\"},\"marker\":{\"line\":{\"color\":\"#E5ECF6\",\"width\":0.5},\"pattern\":{\"fillmode\":\"overlay\",\"size\":10,\"solidity\":0.2}},\"type\":\"bar\"}],\"scattergeo\":[{\"type\":\"scattergeo\",\"marker\":{\"colorbar\":{\"outlinewidth\":0,\"ticks\":\"\"}}}],\"scatterpolar\":[{\"type\":\"scatterpolar\",\"marker\":{\"colorbar\":{\"outlinewidth\":0,\"ticks\":\"\"}}}],\"histogram\":[{\"marker\":{\"pattern\":{\"fillmode\":\"overlay\",\"size\":10,\"solidity\":0.2}},\"type\":\"histogram\"}],\"scattergl\":[{\"type\":\"scattergl\",\"marker\":{\"colorbar\":{\"outlinewidth\":0,\"ticks\":\"\"}}}],\"scatter3d\":[{\"type\":\"scatter3d\",\"line\":{\"colorbar\":{\"outlinewidth\":0,\"ticks\":\"\"}},\"marker\":{\"colorbar\":{\"outlinewidth\":0,\"ticks\":\"\"}}}],\"scattermapbox\":[{\"type\":\"scattermapbox\",\"marker\":{\"colorbar\":{\"outlinewidth\":0,\"ticks\":\"\"}}}],\"scatterternary\":[{\"type\":\"scatterternary\",\"marker\":{\"colorbar\":{\"outlinewidth\":0,\"ticks\":\"\"}}}],\"scattercarpet\":[{\"type\":\"scattercarpet\",\"marker\":{\"colorbar\":{\"outlinewidth\":0,\"ticks\":\"\"}}}],\"carpet\":[{\"aaxis\":{\"endlinecolor\":\"#2a3f5f\",\"gridcolor\":\"white\",\"linecolor\":\"white\",\"minorgridcolor\":\"white\",\"startlinecolor\":\"#2a3f5f\"},\"baxis\":{\"endlinecolor\":\"#2a3f5f\",\"gridcolor\":\"white\",\"linecolor\":\"white\",\"minorgridcolor\":\"white\",\"startlinecolor\":\"#2a3f5f\"},\"type\":\"carpet\"}],\"table\":[{\"cells\":{\"fill\":{\"color\":\"#EBF0F8\"},\"line\":{\"color\":\"white\"}},\"header\":{\"fill\":{\"color\":\"#C8D4E3\"},\"line\":{\"color\":\"white\"}},\"type\":\"table\"}],\"barpolar\":[{\"marker\":{\"line\":{\"color\":\"#E5ECF6\",\"width\":0.5},\"pattern\":{\"fillmode\":\"overlay\",\"size\":10,\"solidity\":0.2}},\"type\":\"barpolar\"}],\"pie\":[{\"automargin\":true,\"type\":\"pie\"}]},\"layout\":{\"autotypenumbers\":\"strict\",\"colorway\":[\"#636efa\",\"#EF553B\",\"#00cc96\",\"#ab63fa\",\"#FFA15A\",\"#19d3f3\",\"#FF6692\",\"#B6E880\",\"#FF97FF\",\"#FECB52\"],\"font\":{\"color\":\"#2a3f5f\"},\"hovermode\":\"closest\",\"hoverlabel\":{\"align\":\"left\"},\"paper_bgcolor\":\"white\",\"plot_bgcolor\":\"#E5ECF6\",\"polar\":{\"bgcolor\":\"#E5ECF6\",\"angularaxis\":{\"gridcolor\":\"white\",\"linecolor\":\"white\",\"ticks\":\"\"},\"radialaxis\":{\"gridcolor\":\"white\",\"linecolor\":\"white\",\"ticks\":\"\"}},\"ternary\":{\"bgcolor\":\"#E5ECF6\",\"aaxis\":{\"gridcolor\":\"white\",\"linecolor\":\"white\",\"ticks\":\"\"},\"baxis\":{\"gridcolor\":\"white\",\"linecolor\":\"white\",\"ticks\":\"\"},\"caxis\":{\"gridcolor\":\"white\",\"linecolor\":\"white\",\"ticks\":\"\"}},\"coloraxis\":{\"colorbar\":{\"outlinewidth\":0,\"ticks\":\"\"}},\"colorscale\":{\"sequential\":[[0.0,\"#0d0887\"],[0.1111111111111111,\"#46039f\"],[0.2222222222222222,\"#7201a8\"],[0.3333333333333333,\"#9c179e\"],[0.4444444444444444,\"#bd3786\"],[0.5555555555555556,\"#d8576b\"],[0.6666666666666666,\"#ed7953\"],[0.7777777777777778,\"#fb9f3a\"],[0.8888888888888888,\"#fdca26\"],[1.0,\"#f0f921\"]],\"sequentialminus\":[[0.0,\"#0d0887\"],[0.1111111111111111,\"#46039f\"],[0.2222222222222222,\"#7201a8\"],[0.3333333333333333,\"#9c179e\"],[0.4444444444444444,\"#bd3786\"],[0.5555555555555556,\"#d8576b\"],[0.6666666666666666,\"#ed7953\"],[0.7777777777777778,\"#fb9f3a\"],[0.8888888888888888,\"#fdca26\"],[1.0,\"#f0f921\"]],\"diverging\":[[0,\"#8e0152\"],[0.1,\"#c51b7d\"],[0.2,\"#de77ae\"],[0.3,\"#f1b6da\"],[0.4,\"#fde0ef\"],[0.5,\"#f7f7f7\"],[0.6,\"#e6f5d0\"],[0.7,\"#b8e186\"],[0.8,\"#7fbc41\"],[0.9,\"#4d9221\"],[1,\"#276419\"]]},\"xaxis\":{\"gridcolor\":\"white\",\"linecolor\":\"white\",\"ticks\":\"\",\"title\":{\"standoff\":15},\"zerolinecolor\":\"white\",\"automargin\":true,\"zerolinewidth\":2},\"yaxis\":{\"gridcolor\":\"white\",\"linecolor\":\"white\",\"ticks\":\"\",\"title\":{\"standoff\":15},\"zerolinecolor\":\"white\",\"automargin\":true,\"zerolinewidth\":2},\"scene\":{\"xaxis\":{\"backgroundcolor\":\"#E5ECF6\",\"gridcolor\":\"white\",\"linecolor\":\"white\",\"showbackground\":true,\"ticks\":\"\",\"zerolinecolor\":\"white\",\"gridwidth\":2},\"yaxis\":{\"backgroundcolor\":\"#E5ECF6\",\"gridcolor\":\"white\",\"linecolor\":\"white\",\"showbackground\":true,\"ticks\":\"\",\"zerolinecolor\":\"white\",\"gridwidth\":2},\"zaxis\":{\"backgroundcolor\":\"#E5ECF6\",\"gridcolor\":\"white\",\"linecolor\":\"white\",\"showbackground\":true,\"ticks\":\"\",\"zerolinecolor\":\"white\",\"gridwidth\":2}},\"shapedefaults\":{\"line\":{\"color\":\"#2a3f5f\"}},\"annotationdefaults\":{\"arrowcolor\":\"#2a3f5f\",\"arrowhead\":0,\"arrowwidth\":1},\"geo\":{\"bgcolor\":\"white\",\"landcolor\":\"#E5ECF6\",\"subunitcolor\":\"white\",\"showland\":true,\"showlakes\":true,\"lakecolor\":\"white\"},\"title\":{\"x\":0.05},\"mapbox\":{\"style\":\"light\"}}},\"legend\":{\"tracegroupgap\":0},\"title\":{\"text\":\"Profession of Customers\"}},                        {\"responsive\": true}                    ).then(function(){\n",
              "                            \n",
              "var gd = document.getElementById('9b164ab6-e5ab-4ca8-ac1d-317e9bda397e');\n",
              "var x = new MutationObserver(function (mutations, observer) {{\n",
              "        var display = window.getComputedStyle(gd).display;\n",
              "        if (!display || display === 'none') {{\n",
              "            console.log([gd, 'removed!']);\n",
              "            Plotly.purge(gd);\n",
              "            observer.disconnect();\n",
              "        }}\n",
              "}});\n",
              "\n",
              "// Listen for the removal of the full notebook cells\n",
              "var notebookContainer = gd.closest('#notebook-container');\n",
              "if (notebookContainer) {{\n",
              "    x.observe(notebookContainer, {childList: true});\n",
              "}}\n",
              "\n",
              "// Listen for the clearing of the current output cell\n",
              "var outputEl = gd.closest('.output');\n",
              "if (outputEl) {{\n",
              "    x.observe(outputEl, {childList: true});\n",
              "}}\n",
              "\n",
              "                        })                };                });            </script>        </div>"
            ]
          },
          "metadata": {},
          "output_type": "display_data"
        }
      ],
      "source": [
        "top_15 = df_cat['Profession'].value_counts().head(15)\n",
        "fig = px.pie(values = top_15.values,names=top_15.keys(), title='Profession of Customers')\n",
        "fig.show()"
      ]
    },
    {
      "cell_type": "code",
      "execution_count": null,
      "id": "d3b21ac6",
      "metadata": {
        "id": "d3b21ac6",
        "outputId": "79c9fc08-820b-45b4-cd19-e2150b690b49"
      },
      "outputs": [
        {
          "data": {
            "text/html": [
              "<div>\n",
              "<style scoped>\n",
              "    .dataframe tbody tr th:only-of-type {\n",
              "        vertical-align: middle;\n",
              "    }\n",
              "\n",
              "    .dataframe tbody tr th {\n",
              "        vertical-align: top;\n",
              "    }\n",
              "\n",
              "    .dataframe thead th {\n",
              "        text-align: right;\n",
              "    }\n",
              "</style>\n",
              "<table border=\"1\" class=\"dataframe\">\n",
              "  <thead>\n",
              "    <tr style=\"text-align: right;\">\n",
              "      <th></th>\n",
              "      <th>count</th>\n",
              "      <th>percentage</th>\n",
              "    </tr>\n",
              "  </thead>\n",
              "  <tbody>\n",
              "    <tr>\n",
              "      <th>Male</th>\n",
              "      <td>1112</td>\n",
              "      <td>56.0</td>\n",
              "    </tr>\n",
              "    <tr>\n",
              "      <th>Female</th>\n",
              "      <td>888</td>\n",
              "      <td>44.0</td>\n",
              "    </tr>\n",
              "  </tbody>\n",
              "</table>\n",
              "</div>"
            ],
            "text/plain": [
              "        count  percentage\n",
              "Male     1112        56.0\n",
              "Female    888        44.0"
            ]
          },
          "execution_count": 121,
          "metadata": {},
          "output_type": "execute_result"
        }
      ],
      "source": [
        "Gender_stats = pd.concat([df_cat['Gender'].value_counts(), df_cat['Gender'].value_counts(normalize=True).mul(100).round(0)], axis=1, keys=('count','percentage'))\n",
        "Gender_stats"
      ]
    },
    {
      "cell_type": "code",
      "execution_count": null,
      "id": "fc309c71",
      "metadata": {
        "id": "fc309c71",
        "outputId": "b3d72887-fee4-44a5-edd9-efaf6642aa9e"
      },
      "outputs": [
        {
          "data": {
            "text/html": [
              "<div>\n",
              "<style scoped>\n",
              "    .dataframe tbody tr th:only-of-type {\n",
              "        vertical-align: middle;\n",
              "    }\n",
              "\n",
              "    .dataframe tbody tr th {\n",
              "        vertical-align: top;\n",
              "    }\n",
              "\n",
              "    .dataframe thead th {\n",
              "        text-align: right;\n",
              "    }\n",
              "</style>\n",
              "<table border=\"1\" class=\"dataframe\">\n",
              "  <thead>\n",
              "    <tr style=\"text-align: right;\">\n",
              "      <th></th>\n",
              "      <th>count</th>\n",
              "      <th>percentage</th>\n",
              "    </tr>\n",
              "  </thead>\n",
              "  <tbody>\n",
              "    <tr>\n",
              "      <th>Cat_6</th>\n",
              "      <td>1287</td>\n",
              "      <td>65.0</td>\n",
              "    </tr>\n",
              "    <tr>\n",
              "      <th>Cat_4</th>\n",
              "      <td>257</td>\n",
              "      <td>13.0</td>\n",
              "    </tr>\n",
              "    <tr>\n",
              "      <th>Cat_3</th>\n",
              "      <td>207</td>\n",
              "      <td>10.0</td>\n",
              "    </tr>\n",
              "    <tr>\n",
              "      <th>Cat_2</th>\n",
              "      <td>106</td>\n",
              "      <td>5.0</td>\n",
              "    </tr>\n",
              "    <tr>\n",
              "      <th>Cat_7</th>\n",
              "      <td>62</td>\n",
              "      <td>3.0</td>\n",
              "    </tr>\n",
              "    <tr>\n",
              "      <th>Cat_1</th>\n",
              "      <td>39</td>\n",
              "      <td>2.0</td>\n",
              "    </tr>\n",
              "    <tr>\n",
              "      <th>Cat_5</th>\n",
              "      <td>25</td>\n",
              "      <td>1.0</td>\n",
              "    </tr>\n",
              "  </tbody>\n",
              "</table>\n",
              "</div>"
            ],
            "text/plain": [
              "       count  percentage\n",
              "Cat_6   1287        65.0\n",
              "Cat_4    257        13.0\n",
              "Cat_3    207        10.0\n",
              "Cat_2    106         5.0\n",
              "Cat_7     62         3.0\n",
              "Cat_1     39         2.0\n",
              "Cat_5     25         1.0"
            ]
          },
          "execution_count": 122,
          "metadata": {},
          "output_type": "execute_result"
        }
      ],
      "source": [
        "Income_Category_stats = pd.concat([df_cat['Income_Category'].value_counts(), df_cat['Income_Category'].value_counts(normalize=True).mul(100).round(0)], axis=1, keys=('count','percentage'))\n",
        "Income_Category_stats"
      ]
    },
    {
      "cell_type": "code",
      "execution_count": null,
      "id": "45594847",
      "metadata": {
        "id": "45594847",
        "outputId": "b31a7494-8f04-4d92-9aaf-cacdb41274d8"
      },
      "outputs": [
        {
          "data": {
            "text/html": [
              "<div>\n",
              "<style scoped>\n",
              "    .dataframe tbody tr th:only-of-type {\n",
              "        vertical-align: middle;\n",
              "    }\n",
              "\n",
              "    .dataframe tbody tr th {\n",
              "        vertical-align: top;\n",
              "    }\n",
              "\n",
              "    .dataframe thead th {\n",
              "        text-align: right;\n",
              "    }\n",
              "</style>\n",
              "<table border=\"1\" class=\"dataframe\">\n",
              "  <thead>\n",
              "    <tr style=\"text-align: right;\">\n",
              "      <th>Spending_Category</th>\n",
              "      <th>Average</th>\n",
              "      <th>High</th>\n",
              "      <th>Low</th>\n",
              "    </tr>\n",
              "    <tr>\n",
              "      <th>Income_Category</th>\n",
              "      <th></th>\n",
              "      <th></th>\n",
              "      <th></th>\n",
              "    </tr>\n",
              "  </thead>\n",
              "  <tbody>\n",
              "    <tr>\n",
              "      <th>Cat_1</th>\n",
              "      <td>13</td>\n",
              "      <td>7</td>\n",
              "      <td>19</td>\n",
              "    </tr>\n",
              "    <tr>\n",
              "      <th>Cat_2</th>\n",
              "      <td>19</td>\n",
              "      <td>18</td>\n",
              "      <td>69</td>\n",
              "    </tr>\n",
              "    <tr>\n",
              "      <th>Cat_3</th>\n",
              "      <td>48</td>\n",
              "      <td>17</td>\n",
              "      <td>142</td>\n",
              "    </tr>\n",
              "    <tr>\n",
              "      <th>Cat_4</th>\n",
              "      <td>75</td>\n",
              "      <td>23</td>\n",
              "      <td>159</td>\n",
              "    </tr>\n",
              "    <tr>\n",
              "      <th>Cat_5</th>\n",
              "      <td>6</td>\n",
              "      <td>1</td>\n",
              "      <td>18</td>\n",
              "    </tr>\n",
              "    <tr>\n",
              "      <th>Cat_6</th>\n",
              "      <td>304</td>\n",
              "      <td>235</td>\n",
              "      <td>748</td>\n",
              "    </tr>\n",
              "    <tr>\n",
              "      <th>Cat_7</th>\n",
              "      <td>13</td>\n",
              "      <td>11</td>\n",
              "      <td>38</td>\n",
              "    </tr>\n",
              "  </tbody>\n",
              "</table>\n",
              "</div>"
            ],
            "text/plain": [
              "Spending_Category  Average  High  Low\n",
              "Income_Category                      \n",
              "Cat_1                   13     7   19\n",
              "Cat_2                   19    18   69\n",
              "Cat_3                   48    17  142\n",
              "Cat_4                   75    23  159\n",
              "Cat_5                    6     1   18\n",
              "Cat_6                  304   235  748\n",
              "Cat_7                   13    11   38"
            ]
          },
          "execution_count": 137,
          "metadata": {},
          "output_type": "execute_result"
        }
      ],
      "source": [
        "my_df_pivot = pd.pivot_table(df_cat, index='Income_Category', columns='Spending_Category', values='Customer_Category', aggfunc='count')\n",
        "my_df_pivot"
      ]
    },
    {
      "cell_type": "code",
      "execution_count": null,
      "id": "0ec0ee70",
      "metadata": {
        "id": "0ec0ee70",
        "outputId": "f0c6aa23-dafc-42f0-b2d9-561de7c162bf"
      },
      "outputs": [
        {
          "data": {
            "text/html": [
              "<div>\n",
              "<style scoped>\n",
              "    .dataframe tbody tr th:only-of-type {\n",
              "        vertical-align: middle;\n",
              "    }\n",
              "\n",
              "    .dataframe tbody tr th {\n",
              "        vertical-align: top;\n",
              "    }\n",
              "\n",
              "    .dataframe thead th {\n",
              "        text-align: right;\n",
              "    }\n",
              "</style>\n",
              "<table border=\"1\" class=\"dataframe\">\n",
              "  <thead>\n",
              "    <tr style=\"text-align: right;\">\n",
              "      <th></th>\n",
              "      <th>count</th>\n",
              "      <th>percentage</th>\n",
              "    </tr>\n",
              "  </thead>\n",
              "  <tbody>\n",
              "    <tr>\n",
              "      <th>Yes</th>\n",
              "      <td>1241</td>\n",
              "      <td>63.0</td>\n",
              "    </tr>\n",
              "    <tr>\n",
              "      <th>No</th>\n",
              "      <td>740</td>\n",
              "      <td>37.0</td>\n",
              "    </tr>\n",
              "  </tbody>\n",
              "</table>\n",
              "</div>"
            ],
            "text/plain": [
              "     count  percentage\n",
              "Yes   1241        63.0\n",
              "No     740        37.0"
            ]
          },
          "execution_count": 123,
          "metadata": {},
          "output_type": "execute_result"
        }
      ],
      "source": [
        "Graduate_stats = pd.concat([df_cat['Graduate'].value_counts(), df_cat['Graduate'].value_counts(normalize=True).mul(100).round(0)], axis=1, keys=('count','percentage'))\n",
        "Graduate_stats"
      ]
    },
    {
      "cell_type": "markdown",
      "id": "6cc26e76",
      "metadata": {
        "id": "6cc26e76"
      },
      "source": [
        "### 2. Impute Missing Data : {Categorical | Non-Categorical} Subset"
      ]
    },
    {
      "cell_type": "code",
      "execution_count": null,
      "id": "14ff9aa1",
      "metadata": {
        "id": "14ff9aa1",
        "outputId": "6ed999ce-05a1-41fd-fe52-f7cc6240aa4f"
      },
      "outputs": [
        {
          "name": "stdout",
          "output_type": "stream",
          "text": [
            "<class 'pandas.core.frame.DataFrame'>\n",
            "RangeIndex: 2000 entries, 0 to 1999\n",
            "Data columns (total 7 columns):\n",
            " #   Column             Non-Null Count  Dtype \n",
            "---  ------             --------------  ----- \n",
            " 0   Gender             2000 non-null   object\n",
            " 1   Graduate           1981 non-null   object\n",
            " 2   Married            1957 non-null   object\n",
            " 3   Profession         1962 non-null   object\n",
            " 4   Income_Category    1983 non-null   object\n",
            " 5   Spending_Category  2000 non-null   object\n",
            " 6   Customer_Category  2000 non-null   object\n",
            "dtypes: object(7)\n",
            "memory usage: 109.5+ KB\n"
          ]
        }
      ],
      "source": [
        "df_cat.info()"
      ]
    },
    {
      "cell_type": "markdown",
      "id": "0086ac53",
      "metadata": {
        "id": "0086ac53"
      },
      "source": [
        "Graduate, Married, Profession and  Income_Category have missing values. These are categorical varible, hence would be treated using imple Imputer with staretgy as most frequent"
      ]
    },
    {
      "cell_type": "code",
      "execution_count": null,
      "id": "6b7723da",
      "metadata": {
        "id": "6b7723da",
        "outputId": "bedbf86b-c894-43ff-c172-d7951f29c27c"
      },
      "outputs": [
        {
          "data": {
            "text/html": [
              "<div>\n",
              "<style scoped>\n",
              "    .dataframe tbody tr th:only-of-type {\n",
              "        vertical-align: middle;\n",
              "    }\n",
              "\n",
              "    .dataframe tbody tr th {\n",
              "        vertical-align: top;\n",
              "    }\n",
              "\n",
              "    .dataframe thead th {\n",
              "        text-align: right;\n",
              "    }\n",
              "</style>\n",
              "<table border=\"1\" class=\"dataframe\">\n",
              "  <thead>\n",
              "    <tr style=\"text-align: right;\">\n",
              "      <th></th>\n",
              "      <th>Gender</th>\n",
              "      <th>Graduate</th>\n",
              "      <th>Married</th>\n",
              "      <th>Profession</th>\n",
              "      <th>Income_Category</th>\n",
              "      <th>Spending_Category</th>\n",
              "      <th>Customer_Category</th>\n",
              "    </tr>\n",
              "  </thead>\n",
              "  <tbody>\n",
              "    <tr>\n",
              "      <th>0</th>\n",
              "      <td>Male</td>\n",
              "      <td>Yes</td>\n",
              "      <td>No</td>\n",
              "      <td>Entertainment</td>\n",
              "      <td>Cat_1</td>\n",
              "      <td>Low</td>\n",
              "      <td>A</td>\n",
              "    </tr>\n",
              "    <tr>\n",
              "      <th>1</th>\n",
              "      <td>Male</td>\n",
              "      <td>Yes</td>\n",
              "      <td>No</td>\n",
              "      <td>Healthcare</td>\n",
              "      <td>Cat_2</td>\n",
              "      <td>Low</td>\n",
              "      <td>D</td>\n",
              "    </tr>\n",
              "    <tr>\n",
              "      <th>2</th>\n",
              "      <td>Female</td>\n",
              "      <td>Yes</td>\n",
              "      <td>Yes</td>\n",
              "      <td>Homemaker</td>\n",
              "      <td>Cat_6</td>\n",
              "      <td>Low</td>\n",
              "      <td>B</td>\n",
              "    </tr>\n",
              "    <tr>\n",
              "      <th>3</th>\n",
              "      <td>Female</td>\n",
              "      <td>Yes</td>\n",
              "      <td>No</td>\n",
              "      <td>Marketing</td>\n",
              "      <td>Cat_6</td>\n",
              "      <td>Low</td>\n",
              "      <td>B</td>\n",
              "    </tr>\n",
              "    <tr>\n",
              "      <th>4</th>\n",
              "      <td>Female</td>\n",
              "      <td>No</td>\n",
              "      <td>No</td>\n",
              "      <td>Engineer</td>\n",
              "      <td>Cat_6</td>\n",
              "      <td>Low</td>\n",
              "      <td>B</td>\n",
              "    </tr>\n",
              "    <tr>\n",
              "      <th>...</th>\n",
              "      <td>...</td>\n",
              "      <td>...</td>\n",
              "      <td>...</td>\n",
              "      <td>...</td>\n",
              "      <td>...</td>\n",
              "      <td>...</td>\n",
              "      <td>...</td>\n",
              "    </tr>\n",
              "    <tr>\n",
              "      <th>1995</th>\n",
              "      <td>Male</td>\n",
              "      <td>No</td>\n",
              "      <td>No</td>\n",
              "      <td>Healthcare</td>\n",
              "      <td>Cat_6</td>\n",
              "      <td>Low</td>\n",
              "      <td>D</td>\n",
              "    </tr>\n",
              "    <tr>\n",
              "      <th>1996</th>\n",
              "      <td>Male</td>\n",
              "      <td>No</td>\n",
              "      <td>No</td>\n",
              "      <td>Marketing</td>\n",
              "      <td>Cat_5</td>\n",
              "      <td>Low</td>\n",
              "      <td>D</td>\n",
              "    </tr>\n",
              "    <tr>\n",
              "      <th>1997</th>\n",
              "      <td>Female</td>\n",
              "      <td>No</td>\n",
              "      <td>No</td>\n",
              "      <td>Entertainment</td>\n",
              "      <td>Cat_2</td>\n",
              "      <td>Low</td>\n",
              "      <td>D</td>\n",
              "    </tr>\n",
              "    <tr>\n",
              "      <th>1998</th>\n",
              "      <td>Male</td>\n",
              "      <td>No</td>\n",
              "      <td>Yes</td>\n",
              "      <td>Engineer</td>\n",
              "      <td>Cat_6</td>\n",
              "      <td>Average</td>\n",
              "      <td>B</td>\n",
              "    </tr>\n",
              "    <tr>\n",
              "      <th>1999</th>\n",
              "      <td>Male</td>\n",
              "      <td>Yes</td>\n",
              "      <td>Yes</td>\n",
              "      <td>Artist</td>\n",
              "      <td>Cat_6</td>\n",
              "      <td>Average</td>\n",
              "      <td>C</td>\n",
              "    </tr>\n",
              "  </tbody>\n",
              "</table>\n",
              "<p>2000 rows × 7 columns</p>\n",
              "</div>"
            ],
            "text/plain": [
              "      Gender Graduate Married     Profession Income_Category  \\\n",
              "0       Male      Yes      No  Entertainment           Cat_1   \n",
              "1       Male      Yes      No     Healthcare           Cat_2   \n",
              "2     Female      Yes     Yes      Homemaker           Cat_6   \n",
              "3     Female      Yes      No      Marketing           Cat_6   \n",
              "4     Female       No      No       Engineer           Cat_6   \n",
              "...      ...      ...     ...            ...             ...   \n",
              "1995    Male       No      No     Healthcare           Cat_6   \n",
              "1996    Male       No      No      Marketing           Cat_5   \n",
              "1997  Female       No      No  Entertainment           Cat_2   \n",
              "1998    Male       No     Yes       Engineer           Cat_6   \n",
              "1999    Male      Yes     Yes         Artist           Cat_6   \n",
              "\n",
              "     Spending_Category Customer_Category  \n",
              "0                  Low                 A  \n",
              "1                  Low                 D  \n",
              "2                  Low                 B  \n",
              "3                  Low                 B  \n",
              "4                  Low                 B  \n",
              "...                ...               ...  \n",
              "1995               Low                 D  \n",
              "1996               Low                 D  \n",
              "1997               Low                 D  \n",
              "1998           Average                 B  \n",
              "1999           Average                 C  \n",
              "\n",
              "[2000 rows x 7 columns]"
            ]
          },
          "execution_count": 31,
          "metadata": {},
          "output_type": "execute_result"
        }
      ],
      "source": [
        "si_cat = SimpleImputer(missing_values=np.nan, strategy='most_frequent') # Strategy = median [When Odd Number of Categories Exists]\n",
        "si_cat_fit = si_cat.fit_transform(df_cat)\n",
        "df_cat_mdt = pd.DataFrame(si_cat_fit, columns=df_cat.columns); df_cat_mdt # Missing Categorical Data Imputed Subset"
      ]
    },
    {
      "cell_type": "code",
      "execution_count": null,
      "id": "9102eefa",
      "metadata": {
        "id": "9102eefa",
        "outputId": "c84e04da-1ba9-472f-a39c-afb4e21762b6"
      },
      "outputs": [
        {
          "name": "stdout",
          "output_type": "stream",
          "text": [
            "<class 'pandas.core.frame.DataFrame'>\n",
            "RangeIndex: 2000 entries, 0 to 1999\n",
            "Data columns (total 7 columns):\n",
            " #   Column             Non-Null Count  Dtype \n",
            "---  ------             --------------  ----- \n",
            " 0   Gender             2000 non-null   object\n",
            " 1   Graduate           2000 non-null   object\n",
            " 2   Married            2000 non-null   object\n",
            " 3   Profession         2000 non-null   object\n",
            " 4   Income_Category    2000 non-null   object\n",
            " 5   Spending_Category  2000 non-null   object\n",
            " 6   Customer_Category  2000 non-null   object\n",
            "dtypes: object(7)\n",
            "memory usage: 109.5+ KB\n"
          ]
        }
      ],
      "source": [
        "df_cat_mdt.info()"
      ]
    },
    {
      "cell_type": "code",
      "execution_count": null,
      "id": "d3a35295",
      "metadata": {
        "id": "d3a35295",
        "outputId": "9b5ffc94-a7ae-4898-d44c-7137dd348001"
      },
      "outputs": [
        {
          "name": "stdout",
          "output_type": "stream",
          "text": [
            "<class 'pandas.core.frame.DataFrame'>\n",
            "RangeIndex: 2000 entries, 0 to 1999\n",
            "Data columns (total 3 columns):\n",
            " #   Column           Non-Null Count  Dtype  \n",
            "---  ------           --------------  -----  \n",
            " 0   Age              2000 non-null   int64  \n",
            " 1   Family_Size      1915 non-null   float64\n",
            " 2   Work_Experience  1786 non-null   float64\n",
            "dtypes: float64(2), int64(1)\n",
            "memory usage: 47.0 KB\n"
          ]
        }
      ],
      "source": [
        "df_noncat.info()"
      ]
    },
    {
      "cell_type": "markdown",
      "id": "fbd5e282",
      "metadata": {
        "id": "fbd5e282"
      },
      "source": [
        "Family_size and Work Exprinace have missing values. Since these are non-categorical variables they are treated using the simpleIimpluter with the mean strategy"
      ]
    },
    {
      "cell_type": "code",
      "execution_count": null,
      "id": "5c23e436",
      "metadata": {
        "id": "5c23e436",
        "outputId": "8a14057f-1da7-44f0-e5c6-91b74666083a"
      },
      "outputs": [
        {
          "data": {
            "text/html": [
              "<div>\n",
              "<style scoped>\n",
              "    .dataframe tbody tr th:only-of-type {\n",
              "        vertical-align: middle;\n",
              "    }\n",
              "\n",
              "    .dataframe tbody tr th {\n",
              "        vertical-align: top;\n",
              "    }\n",
              "\n",
              "    .dataframe thead th {\n",
              "        text-align: right;\n",
              "    }\n",
              "</style>\n",
              "<table border=\"1\" class=\"dataframe\">\n",
              "  <thead>\n",
              "    <tr style=\"text-align: right;\">\n",
              "      <th></th>\n",
              "      <th>Age</th>\n",
              "      <th>Family_Size</th>\n",
              "      <th>Work_Experience</th>\n",
              "    </tr>\n",
              "  </thead>\n",
              "  <tbody>\n",
              "    <tr>\n",
              "      <th>0</th>\n",
              "      <td>39.0</td>\n",
              "      <td>2.0</td>\n",
              "      <td>3.0000</td>\n",
              "    </tr>\n",
              "    <tr>\n",
              "      <th>1</th>\n",
              "      <td>26.0</td>\n",
              "      <td>3.0</td>\n",
              "      <td>2.6243</td>\n",
              "    </tr>\n",
              "    <tr>\n",
              "      <th>2</th>\n",
              "      <td>48.0</td>\n",
              "      <td>4.0</td>\n",
              "      <td>1.0000</td>\n",
              "    </tr>\n",
              "    <tr>\n",
              "      <th>3</th>\n",
              "      <td>55.0</td>\n",
              "      <td>1.0</td>\n",
              "      <td>3.0000</td>\n",
              "    </tr>\n",
              "    <tr>\n",
              "      <th>4</th>\n",
              "      <td>38.0</td>\n",
              "      <td>1.0</td>\n",
              "      <td>2.6243</td>\n",
              "    </tr>\n",
              "    <tr>\n",
              "      <th>...</th>\n",
              "      <td>...</td>\n",
              "      <td>...</td>\n",
              "      <td>...</td>\n",
              "    </tr>\n",
              "    <tr>\n",
              "      <th>1995</th>\n",
              "      <td>23.0</td>\n",
              "      <td>4.0</td>\n",
              "      <td>1.0000</td>\n",
              "    </tr>\n",
              "    <tr>\n",
              "      <th>1996</th>\n",
              "      <td>25.0</td>\n",
              "      <td>3.0</td>\n",
              "      <td>3.0000</td>\n",
              "    </tr>\n",
              "    <tr>\n",
              "      <th>1997</th>\n",
              "      <td>28.0</td>\n",
              "      <td>5.0</td>\n",
              "      <td>0.0000</td>\n",
              "    </tr>\n",
              "    <tr>\n",
              "      <th>1998</th>\n",
              "      <td>60.0</td>\n",
              "      <td>2.0</td>\n",
              "      <td>0.0000</td>\n",
              "    </tr>\n",
              "    <tr>\n",
              "      <th>1999</th>\n",
              "      <td>61.0</td>\n",
              "      <td>2.0</td>\n",
              "      <td>3.0000</td>\n",
              "    </tr>\n",
              "  </tbody>\n",
              "</table>\n",
              "<p>2000 rows × 3 columns</p>\n",
              "</div>"
            ],
            "text/plain": [
              "       Age  Family_Size  Work_Experience\n",
              "0     39.0          2.0           3.0000\n",
              "1     26.0          3.0           2.6243\n",
              "2     48.0          4.0           1.0000\n",
              "3     55.0          1.0           3.0000\n",
              "4     38.0          1.0           2.6243\n",
              "...    ...          ...              ...\n",
              "1995  23.0          4.0           1.0000\n",
              "1996  25.0          3.0           3.0000\n",
              "1997  28.0          5.0           0.0000\n",
              "1998  60.0          2.0           0.0000\n",
              "1999  61.0          2.0           3.0000\n",
              "\n",
              "[2000 rows x 3 columns]"
            ]
          },
          "execution_count": 34,
          "metadata": {},
          "output_type": "execute_result"
        }
      ],
      "source": [
        "si_noncat = SimpleImputer(missing_values=np.nan, strategy='mean')\n",
        "si_noncat_fit = si_noncat.fit_transform(df_noncat)\n",
        "df_noncat_mdi_si = pd.DataFrame(si_noncat_fit, columns=df_noncat.columns); df_noncat_mdi_si # Missing Non-Categorical Data Imputed Subset using Simple Imputer\n"
      ]
    },
    {
      "cell_type": "code",
      "execution_count": null,
      "id": "0bc31d69",
      "metadata": {
        "id": "0bc31d69",
        "outputId": "0583c51c-86c8-42df-e4f7-6b3a79c7f265"
      },
      "outputs": [
        {
          "name": "stdout",
          "output_type": "stream",
          "text": [
            "<class 'pandas.core.frame.DataFrame'>\n",
            "RangeIndex: 2000 entries, 0 to 1999\n",
            "Data columns (total 3 columns):\n",
            " #   Column           Non-Null Count  Dtype  \n",
            "---  ------           --------------  -----  \n",
            " 0   Age              2000 non-null   float64\n",
            " 1   Family_Size      2000 non-null   float64\n",
            " 2   Work_Experience  2000 non-null   float64\n",
            "dtypes: float64(3)\n",
            "memory usage: 47.0 KB\n"
          ]
        }
      ],
      "source": [
        "df_noncat_mdi_si.info()"
      ]
    },
    {
      "cell_type": "markdown",
      "id": "8cbbefa8",
      "metadata": {
        "id": "8cbbefa8"
      },
      "source": [
        "### 3. Data Encoding : Categorical Subset"
      ]
    },
    {
      "cell_type": "code",
      "execution_count": null,
      "id": "7fc96107",
      "metadata": {
        "id": "7fc96107"
      },
      "outputs": [],
      "source": [
        "df_cat_mdt_code = df_cat_mdt.copy()"
      ]
    },
    {
      "cell_type": "code",
      "execution_count": null,
      "id": "e6b71d4c",
      "metadata": {
        "id": "e6b71d4c",
        "outputId": "4a4f57fa-2bb5-459c-b649-37d39c839dd6"
      },
      "outputs": [
        {
          "data": {
            "text/plain": [
              "Index(['Gender', 'Graduate', 'Married', 'Profession', 'Income_Category',\n",
              "       'Spending_Category', 'Customer_Category'],\n",
              "      dtype='object')"
            ]
          },
          "execution_count": 37,
          "metadata": {},
          "output_type": "execute_result"
        }
      ],
      "source": [
        "df_cat_mdt.columns"
      ]
    },
    {
      "cell_type": "code",
      "execution_count": null,
      "id": "a3e07dff",
      "metadata": {
        "id": "a3e07dff",
        "outputId": "e31da0f6-00a5-4af6-c7f3-448a3742d67b"
      },
      "outputs": [
        {
          "data": {
            "text/html": [
              "<div>\n",
              "<style scoped>\n",
              "    .dataframe tbody tr th:only-of-type {\n",
              "        vertical-align: middle;\n",
              "    }\n",
              "\n",
              "    .dataframe tbody tr th {\n",
              "        vertical-align: top;\n",
              "    }\n",
              "\n",
              "    .dataframe thead th {\n",
              "        text-align: right;\n",
              "    }\n",
              "</style>\n",
              "<table border=\"1\" class=\"dataframe\">\n",
              "  <thead>\n",
              "    <tr style=\"text-align: right;\">\n",
              "      <th></th>\n",
              "      <th>Gender</th>\n",
              "      <th>Graduate</th>\n",
              "      <th>Married</th>\n",
              "      <th>Profession</th>\n",
              "      <th>Income_Category</th>\n",
              "      <th>Spending_Category</th>\n",
              "      <th>Customer_Category</th>\n",
              "      <th>gender_code</th>\n",
              "      <th>Gradute_code</th>\n",
              "      <th>Married_code</th>\n",
              "      <th>Profession_code</th>\n",
              "      <th>Income_Category_code</th>\n",
              "      <th>Spending_Category_code</th>\n",
              "      <th>Customer_Category_code</th>\n",
              "    </tr>\n",
              "  </thead>\n",
              "  <tbody>\n",
              "    <tr>\n",
              "      <th>0</th>\n",
              "      <td>Male</td>\n",
              "      <td>Yes</td>\n",
              "      <td>No</td>\n",
              "      <td>Entertainment</td>\n",
              "      <td>Cat_1</td>\n",
              "      <td>Low</td>\n",
              "      <td>A</td>\n",
              "      <td>1.0</td>\n",
              "      <td>1.0</td>\n",
              "      <td>0.0</td>\n",
              "      <td>3.0</td>\n",
              "      <td>0.0</td>\n",
              "      <td>2.0</td>\n",
              "      <td>0.0</td>\n",
              "    </tr>\n",
              "    <tr>\n",
              "      <th>1</th>\n",
              "      <td>Male</td>\n",
              "      <td>Yes</td>\n",
              "      <td>No</td>\n",
              "      <td>Healthcare</td>\n",
              "      <td>Cat_2</td>\n",
              "      <td>Low</td>\n",
              "      <td>D</td>\n",
              "      <td>1.0</td>\n",
              "      <td>1.0</td>\n",
              "      <td>0.0</td>\n",
              "      <td>5.0</td>\n",
              "      <td>1.0</td>\n",
              "      <td>2.0</td>\n",
              "      <td>3.0</td>\n",
              "    </tr>\n",
              "    <tr>\n",
              "      <th>2</th>\n",
              "      <td>Female</td>\n",
              "      <td>Yes</td>\n",
              "      <td>Yes</td>\n",
              "      <td>Homemaker</td>\n",
              "      <td>Cat_6</td>\n",
              "      <td>Low</td>\n",
              "      <td>B</td>\n",
              "      <td>0.0</td>\n",
              "      <td>1.0</td>\n",
              "      <td>1.0</td>\n",
              "      <td>6.0</td>\n",
              "      <td>5.0</td>\n",
              "      <td>2.0</td>\n",
              "      <td>1.0</td>\n",
              "    </tr>\n",
              "    <tr>\n",
              "      <th>3</th>\n",
              "      <td>Female</td>\n",
              "      <td>Yes</td>\n",
              "      <td>No</td>\n",
              "      <td>Marketing</td>\n",
              "      <td>Cat_6</td>\n",
              "      <td>Low</td>\n",
              "      <td>B</td>\n",
              "      <td>0.0</td>\n",
              "      <td>1.0</td>\n",
              "      <td>0.0</td>\n",
              "      <td>8.0</td>\n",
              "      <td>5.0</td>\n",
              "      <td>2.0</td>\n",
              "      <td>1.0</td>\n",
              "    </tr>\n",
              "    <tr>\n",
              "      <th>4</th>\n",
              "      <td>Female</td>\n",
              "      <td>No</td>\n",
              "      <td>No</td>\n",
              "      <td>Engineer</td>\n",
              "      <td>Cat_6</td>\n",
              "      <td>Low</td>\n",
              "      <td>B</td>\n",
              "      <td>0.0</td>\n",
              "      <td>0.0</td>\n",
              "      <td>0.0</td>\n",
              "      <td>2.0</td>\n",
              "      <td>5.0</td>\n",
              "      <td>2.0</td>\n",
              "      <td>1.0</td>\n",
              "    </tr>\n",
              "    <tr>\n",
              "      <th>...</th>\n",
              "      <td>...</td>\n",
              "      <td>...</td>\n",
              "      <td>...</td>\n",
              "      <td>...</td>\n",
              "      <td>...</td>\n",
              "      <td>...</td>\n",
              "      <td>...</td>\n",
              "      <td>...</td>\n",
              "      <td>...</td>\n",
              "      <td>...</td>\n",
              "      <td>...</td>\n",
              "      <td>...</td>\n",
              "      <td>...</td>\n",
              "      <td>...</td>\n",
              "    </tr>\n",
              "    <tr>\n",
              "      <th>1995</th>\n",
              "      <td>Male</td>\n",
              "      <td>No</td>\n",
              "      <td>No</td>\n",
              "      <td>Healthcare</td>\n",
              "      <td>Cat_6</td>\n",
              "      <td>Low</td>\n",
              "      <td>D</td>\n",
              "      <td>1.0</td>\n",
              "      <td>0.0</td>\n",
              "      <td>0.0</td>\n",
              "      <td>5.0</td>\n",
              "      <td>5.0</td>\n",
              "      <td>2.0</td>\n",
              "      <td>3.0</td>\n",
              "    </tr>\n",
              "    <tr>\n",
              "      <th>1996</th>\n",
              "      <td>Male</td>\n",
              "      <td>No</td>\n",
              "      <td>No</td>\n",
              "      <td>Marketing</td>\n",
              "      <td>Cat_5</td>\n",
              "      <td>Low</td>\n",
              "      <td>D</td>\n",
              "      <td>1.0</td>\n",
              "      <td>0.0</td>\n",
              "      <td>0.0</td>\n",
              "      <td>8.0</td>\n",
              "      <td>4.0</td>\n",
              "      <td>2.0</td>\n",
              "      <td>3.0</td>\n",
              "    </tr>\n",
              "    <tr>\n",
              "      <th>1997</th>\n",
              "      <td>Female</td>\n",
              "      <td>No</td>\n",
              "      <td>No</td>\n",
              "      <td>Entertainment</td>\n",
              "      <td>Cat_2</td>\n",
              "      <td>Low</td>\n",
              "      <td>D</td>\n",
              "      <td>0.0</td>\n",
              "      <td>0.0</td>\n",
              "      <td>0.0</td>\n",
              "      <td>3.0</td>\n",
              "      <td>1.0</td>\n",
              "      <td>2.0</td>\n",
              "      <td>3.0</td>\n",
              "    </tr>\n",
              "    <tr>\n",
              "      <th>1998</th>\n",
              "      <td>Male</td>\n",
              "      <td>No</td>\n",
              "      <td>Yes</td>\n",
              "      <td>Engineer</td>\n",
              "      <td>Cat_6</td>\n",
              "      <td>Average</td>\n",
              "      <td>B</td>\n",
              "      <td>1.0</td>\n",
              "      <td>0.0</td>\n",
              "      <td>1.0</td>\n",
              "      <td>2.0</td>\n",
              "      <td>5.0</td>\n",
              "      <td>0.0</td>\n",
              "      <td>1.0</td>\n",
              "    </tr>\n",
              "    <tr>\n",
              "      <th>1999</th>\n",
              "      <td>Male</td>\n",
              "      <td>Yes</td>\n",
              "      <td>Yes</td>\n",
              "      <td>Artist</td>\n",
              "      <td>Cat_6</td>\n",
              "      <td>Average</td>\n",
              "      <td>C</td>\n",
              "      <td>1.0</td>\n",
              "      <td>1.0</td>\n",
              "      <td>1.0</td>\n",
              "      <td>0.0</td>\n",
              "      <td>5.0</td>\n",
              "      <td>0.0</td>\n",
              "      <td>2.0</td>\n",
              "    </tr>\n",
              "  </tbody>\n",
              "</table>\n",
              "<p>2000 rows × 14 columns</p>\n",
              "</div>"
            ],
            "text/plain": [
              "      Gender Graduate Married     Profession Income_Category  \\\n",
              "0       Male      Yes      No  Entertainment           Cat_1   \n",
              "1       Male      Yes      No     Healthcare           Cat_2   \n",
              "2     Female      Yes     Yes      Homemaker           Cat_6   \n",
              "3     Female      Yes      No      Marketing           Cat_6   \n",
              "4     Female       No      No       Engineer           Cat_6   \n",
              "...      ...      ...     ...            ...             ...   \n",
              "1995    Male       No      No     Healthcare           Cat_6   \n",
              "1996    Male       No      No      Marketing           Cat_5   \n",
              "1997  Female       No      No  Entertainment           Cat_2   \n",
              "1998    Male       No     Yes       Engineer           Cat_6   \n",
              "1999    Male      Yes     Yes         Artist           Cat_6   \n",
              "\n",
              "     Spending_Category Customer_Category  gender_code  Gradute_code  \\\n",
              "0                  Low                 A          1.0           1.0   \n",
              "1                  Low                 D          1.0           1.0   \n",
              "2                  Low                 B          0.0           1.0   \n",
              "3                  Low                 B          0.0           1.0   \n",
              "4                  Low                 B          0.0           0.0   \n",
              "...                ...               ...          ...           ...   \n",
              "1995               Low                 D          1.0           0.0   \n",
              "1996               Low                 D          1.0           0.0   \n",
              "1997               Low                 D          0.0           0.0   \n",
              "1998           Average                 B          1.0           0.0   \n",
              "1999           Average                 C          1.0           1.0   \n",
              "\n",
              "      Married_code  Profession_code  Income_Category_code  \\\n",
              "0              0.0              3.0                   0.0   \n",
              "1              0.0              5.0                   1.0   \n",
              "2              1.0              6.0                   5.0   \n",
              "3              0.0              8.0                   5.0   \n",
              "4              0.0              2.0                   5.0   \n",
              "...            ...              ...                   ...   \n",
              "1995           0.0              5.0                   5.0   \n",
              "1996           0.0              8.0                   4.0   \n",
              "1997           0.0              3.0                   1.0   \n",
              "1998           1.0              2.0                   5.0   \n",
              "1999           1.0              0.0                   5.0   \n",
              "\n",
              "      Spending_Category_code  Customer_Category_code  \n",
              "0                        2.0                     0.0  \n",
              "1                        2.0                     3.0  \n",
              "2                        2.0                     1.0  \n",
              "3                        2.0                     1.0  \n",
              "4                        2.0                     1.0  \n",
              "...                      ...                     ...  \n",
              "1995                     2.0                     3.0  \n",
              "1996                     2.0                     3.0  \n",
              "1997                     2.0                     3.0  \n",
              "1998                     0.0                     1.0  \n",
              "1999                     0.0                     2.0  \n",
              "\n",
              "[2000 rows x 14 columns]"
            ]
          },
          "execution_count": 38,
          "metadata": {},
          "output_type": "execute_result"
        }
      ],
      "source": [
        "oe = OrdinalEncoder()\n",
        "oe_fit = oe.fit_transform(df_cat_mdt_code)\n",
        "df_cat_code_oe = pd.DataFrame(oe_fit, columns=['gender_code', 'Gradute_code','Married_code', 'Profession_code', 'Income_Category_code',\n",
        "       'Spending_Category_code', 'Customer_Category_code' ]); df_cat_code_oe\n",
        "#df_cat_mdt_code_oe = df_cat_mdt_code.join(df_cat_code_oe); df_cat_mdt_code_oe # (Missing Data Treated) Numeric Coded Categorical Dataset using Scikit Learn Ordinal Encoder\n",
        "df_cat_mdt_code_oe = pd.merge(df_cat_mdt_code, df_cat_code_oe, left_index=True, right_index=True); df_cat_mdt_code_oe"
      ]
    },
    {
      "cell_type": "markdown",
      "id": "a0d9adad",
      "metadata": {
        "id": "a0d9adad"
      },
      "source": [
        "### 4. Outlier Treatment : Non-Categorical Subset"
      ]
    },
    {
      "cell_type": "code",
      "execution_count": null,
      "id": "9d9b80b8",
      "metadata": {
        "id": "9d9b80b8"
      },
      "outputs": [],
      "source": [
        "df_noncat_mdt = df_noncat_mdi_si.copy()"
      ]
    },
    {
      "cell_type": "code",
      "execution_count": null,
      "id": "0485b14c",
      "metadata": {
        "id": "0485b14c",
        "outputId": "6d8e8cb2-70ba-456a-8aea-c35f99337393"
      },
      "outputs": [
        {
          "data": {
            "text/plain": [
              "Index(['Age', 'Family_Size', 'Work_Experience'], dtype='object')"
            ]
          },
          "execution_count": 41,
          "metadata": {},
          "output_type": "execute_result"
        }
      ],
      "source": [
        "df_noncat_mdt.columns"
      ]
    },
    {
      "cell_type": "code",
      "execution_count": null,
      "id": "86cbcf54",
      "metadata": {
        "id": "86cbcf54",
        "outputId": "5a784655-8e29-4cb6-cc5e-4642d9761f5e"
      },
      "outputs": [
        {
          "data": {
            "text/html": [
              "<div>\n",
              "<style scoped>\n",
              "    .dataframe tbody tr th:only-of-type {\n",
              "        vertical-align: middle;\n",
              "    }\n",
              "\n",
              "    .dataframe tbody tr th {\n",
              "        vertical-align: top;\n",
              "    }\n",
              "\n",
              "    .dataframe thead th {\n",
              "        text-align: right;\n",
              "    }\n",
              "</style>\n",
              "<table border=\"1\" class=\"dataframe\">\n",
              "  <thead>\n",
              "    <tr style=\"text-align: right;\">\n",
              "      <th></th>\n",
              "      <th>Age</th>\n",
              "      <th>Family_Size</th>\n",
              "      <th>Work_Experience</th>\n",
              "      <th>Age_norm</th>\n",
              "      <th>Family_Size_norm</th>\n",
              "      <th>Work_Experience_norm</th>\n",
              "    </tr>\n",
              "  </thead>\n",
              "  <tbody>\n",
              "    <tr>\n",
              "      <th>0</th>\n",
              "      <td>39.0</td>\n",
              "      <td>2.0</td>\n",
              "      <td>3.0000</td>\n",
              "      <td>0.295775</td>\n",
              "      <td>0.125</td>\n",
              "      <td>0.214286</td>\n",
              "    </tr>\n",
              "    <tr>\n",
              "      <th>1</th>\n",
              "      <td>26.0</td>\n",
              "      <td>3.0</td>\n",
              "      <td>2.6243</td>\n",
              "      <td>0.112676</td>\n",
              "      <td>0.250</td>\n",
              "      <td>0.187450</td>\n",
              "    </tr>\n",
              "    <tr>\n",
              "      <th>2</th>\n",
              "      <td>48.0</td>\n",
              "      <td>4.0</td>\n",
              "      <td>1.0000</td>\n",
              "      <td>0.422535</td>\n",
              "      <td>0.375</td>\n",
              "      <td>0.071429</td>\n",
              "    </tr>\n",
              "    <tr>\n",
              "      <th>3</th>\n",
              "      <td>55.0</td>\n",
              "      <td>1.0</td>\n",
              "      <td>3.0000</td>\n",
              "      <td>0.521127</td>\n",
              "      <td>0.000</td>\n",
              "      <td>0.214286</td>\n",
              "    </tr>\n",
              "    <tr>\n",
              "      <th>4</th>\n",
              "      <td>38.0</td>\n",
              "      <td>1.0</td>\n",
              "      <td>2.6243</td>\n",
              "      <td>0.281690</td>\n",
              "      <td>0.000</td>\n",
              "      <td>0.187450</td>\n",
              "    </tr>\n",
              "    <tr>\n",
              "      <th>...</th>\n",
              "      <td>...</td>\n",
              "      <td>...</td>\n",
              "      <td>...</td>\n",
              "      <td>...</td>\n",
              "      <td>...</td>\n",
              "      <td>...</td>\n",
              "    </tr>\n",
              "    <tr>\n",
              "      <th>1995</th>\n",
              "      <td>23.0</td>\n",
              "      <td>4.0</td>\n",
              "      <td>1.0000</td>\n",
              "      <td>0.070423</td>\n",
              "      <td>0.375</td>\n",
              "      <td>0.071429</td>\n",
              "    </tr>\n",
              "    <tr>\n",
              "      <th>1996</th>\n",
              "      <td>25.0</td>\n",
              "      <td>3.0</td>\n",
              "      <td>3.0000</td>\n",
              "      <td>0.098592</td>\n",
              "      <td>0.250</td>\n",
              "      <td>0.214286</td>\n",
              "    </tr>\n",
              "    <tr>\n",
              "      <th>1997</th>\n",
              "      <td>28.0</td>\n",
              "      <td>5.0</td>\n",
              "      <td>0.0000</td>\n",
              "      <td>0.140845</td>\n",
              "      <td>0.500</td>\n",
              "      <td>0.000000</td>\n",
              "    </tr>\n",
              "    <tr>\n",
              "      <th>1998</th>\n",
              "      <td>60.0</td>\n",
              "      <td>2.0</td>\n",
              "      <td>0.0000</td>\n",
              "      <td>0.591549</td>\n",
              "      <td>0.125</td>\n",
              "      <td>0.000000</td>\n",
              "    </tr>\n",
              "    <tr>\n",
              "      <th>1999</th>\n",
              "      <td>61.0</td>\n",
              "      <td>2.0</td>\n",
              "      <td>3.0000</td>\n",
              "      <td>0.605634</td>\n",
              "      <td>0.125</td>\n",
              "      <td>0.214286</td>\n",
              "    </tr>\n",
              "  </tbody>\n",
              "</table>\n",
              "<p>2000 rows × 6 columns</p>\n",
              "</div>"
            ],
            "text/plain": [
              "       Age  Family_Size  Work_Experience  Age_norm  Family_Size_norm  \\\n",
              "0     39.0          2.0           3.0000  0.295775             0.125   \n",
              "1     26.0          3.0           2.6243  0.112676             0.250   \n",
              "2     48.0          4.0           1.0000  0.422535             0.375   \n",
              "3     55.0          1.0           3.0000  0.521127             0.000   \n",
              "4     38.0          1.0           2.6243  0.281690             0.000   \n",
              "...    ...          ...              ...       ...               ...   \n",
              "1995  23.0          4.0           1.0000  0.070423             0.375   \n",
              "1996  25.0          3.0           3.0000  0.098592             0.250   \n",
              "1997  28.0          5.0           0.0000  0.140845             0.500   \n",
              "1998  60.0          2.0           0.0000  0.591549             0.125   \n",
              "1999  61.0          2.0           3.0000  0.605634             0.125   \n",
              "\n",
              "      Work_Experience_norm  \n",
              "0                 0.214286  \n",
              "1                 0.187450  \n",
              "2                 0.071429  \n",
              "3                 0.214286  \n",
              "4                 0.187450  \n",
              "...                    ...  \n",
              "1995              0.071429  \n",
              "1996              0.214286  \n",
              "1997              0.000000  \n",
              "1998              0.000000  \n",
              "1999              0.214286  \n",
              "\n",
              "[2000 rows x 6 columns]"
            ]
          },
          "execution_count": 42,
          "metadata": {},
          "output_type": "execute_result"
        }
      ],
      "source": [
        "mms = MinMaxScaler()\n",
        "mms_fit = mms.fit_transform(df_noncat_mdt[['Age', 'Family_Size', 'Work_Experience']])\n",
        "df_noncat_minmax_norm = pd.DataFrame(mms_fit, columns=['Age_norm', 'Family_Size_norm', 'Work_Experience_norm']); df_noncat_minmax_norm\n",
        "df_noncat_mdt_mmn = pd.merge(df_noncat_mdt, df_noncat_minmax_norm, left_index=True, right_index=True); df_noncat_mdt_mmn"
      ]
    },
    {
      "cell_type": "markdown",
      "id": "0a82def7",
      "metadata": {
        "id": "0a82def7"
      },
      "source": [
        "### 5. Join Processed {Categorical & Non-Categorical} Subsets to Create Processed Dataset"
      ]
    },
    {
      "cell_type": "code",
      "execution_count": null,
      "id": "927c8767",
      "metadata": {
        "id": "927c8767",
        "outputId": "be4ae47d-abbc-4ebe-f71f-8b383d262975"
      },
      "outputs": [
        {
          "data": {
            "text/html": [
              "<div>\n",
              "<style scoped>\n",
              "    .dataframe tbody tr th:only-of-type {\n",
              "        vertical-align: middle;\n",
              "    }\n",
              "\n",
              "    .dataframe tbody tr th {\n",
              "        vertical-align: top;\n",
              "    }\n",
              "\n",
              "    .dataframe thead th {\n",
              "        text-align: right;\n",
              "    }\n",
              "</style>\n",
              "<table border=\"1\" class=\"dataframe\">\n",
              "  <thead>\n",
              "    <tr style=\"text-align: right;\">\n",
              "      <th></th>\n",
              "      <th>Gender</th>\n",
              "      <th>Graduate</th>\n",
              "      <th>Married</th>\n",
              "      <th>Profession</th>\n",
              "      <th>Income_Category</th>\n",
              "      <th>Spending_Category</th>\n",
              "      <th>Customer_Category</th>\n",
              "      <th>gender_code</th>\n",
              "      <th>Gradute_code</th>\n",
              "      <th>Married_code</th>\n",
              "      <th>Profession_code</th>\n",
              "      <th>Income_Category_code</th>\n",
              "      <th>Spending_Category_code</th>\n",
              "      <th>Customer_Category_code</th>\n",
              "      <th>Age</th>\n",
              "      <th>Family_Size</th>\n",
              "      <th>Work_Experience</th>\n",
              "      <th>Age_norm</th>\n",
              "      <th>Family_Size_norm</th>\n",
              "      <th>Work_Experience_norm</th>\n",
              "    </tr>\n",
              "  </thead>\n",
              "  <tbody>\n",
              "    <tr>\n",
              "      <th>0</th>\n",
              "      <td>Male</td>\n",
              "      <td>Yes</td>\n",
              "      <td>No</td>\n",
              "      <td>Entertainment</td>\n",
              "      <td>Cat_1</td>\n",
              "      <td>Low</td>\n",
              "      <td>A</td>\n",
              "      <td>1.0</td>\n",
              "      <td>1.0</td>\n",
              "      <td>0.0</td>\n",
              "      <td>3.0</td>\n",
              "      <td>0.0</td>\n",
              "      <td>2.0</td>\n",
              "      <td>0.0</td>\n",
              "      <td>39.0</td>\n",
              "      <td>2.0</td>\n",
              "      <td>3.0000</td>\n",
              "      <td>0.295775</td>\n",
              "      <td>0.125</td>\n",
              "      <td>0.214286</td>\n",
              "    </tr>\n",
              "    <tr>\n",
              "      <th>1</th>\n",
              "      <td>Male</td>\n",
              "      <td>Yes</td>\n",
              "      <td>No</td>\n",
              "      <td>Healthcare</td>\n",
              "      <td>Cat_2</td>\n",
              "      <td>Low</td>\n",
              "      <td>D</td>\n",
              "      <td>1.0</td>\n",
              "      <td>1.0</td>\n",
              "      <td>0.0</td>\n",
              "      <td>5.0</td>\n",
              "      <td>1.0</td>\n",
              "      <td>2.0</td>\n",
              "      <td>3.0</td>\n",
              "      <td>26.0</td>\n",
              "      <td>3.0</td>\n",
              "      <td>2.6243</td>\n",
              "      <td>0.112676</td>\n",
              "      <td>0.250</td>\n",
              "      <td>0.187450</td>\n",
              "    </tr>\n",
              "    <tr>\n",
              "      <th>2</th>\n",
              "      <td>Female</td>\n",
              "      <td>Yes</td>\n",
              "      <td>Yes</td>\n",
              "      <td>Homemaker</td>\n",
              "      <td>Cat_6</td>\n",
              "      <td>Low</td>\n",
              "      <td>B</td>\n",
              "      <td>0.0</td>\n",
              "      <td>1.0</td>\n",
              "      <td>1.0</td>\n",
              "      <td>6.0</td>\n",
              "      <td>5.0</td>\n",
              "      <td>2.0</td>\n",
              "      <td>1.0</td>\n",
              "      <td>48.0</td>\n",
              "      <td>4.0</td>\n",
              "      <td>1.0000</td>\n",
              "      <td>0.422535</td>\n",
              "      <td>0.375</td>\n",
              "      <td>0.071429</td>\n",
              "    </tr>\n",
              "    <tr>\n",
              "      <th>3</th>\n",
              "      <td>Female</td>\n",
              "      <td>Yes</td>\n",
              "      <td>No</td>\n",
              "      <td>Marketing</td>\n",
              "      <td>Cat_6</td>\n",
              "      <td>Low</td>\n",
              "      <td>B</td>\n",
              "      <td>0.0</td>\n",
              "      <td>1.0</td>\n",
              "      <td>0.0</td>\n",
              "      <td>8.0</td>\n",
              "      <td>5.0</td>\n",
              "      <td>2.0</td>\n",
              "      <td>1.0</td>\n",
              "      <td>55.0</td>\n",
              "      <td>1.0</td>\n",
              "      <td>3.0000</td>\n",
              "      <td>0.521127</td>\n",
              "      <td>0.000</td>\n",
              "      <td>0.214286</td>\n",
              "    </tr>\n",
              "    <tr>\n",
              "      <th>4</th>\n",
              "      <td>Female</td>\n",
              "      <td>No</td>\n",
              "      <td>No</td>\n",
              "      <td>Engineer</td>\n",
              "      <td>Cat_6</td>\n",
              "      <td>Low</td>\n",
              "      <td>B</td>\n",
              "      <td>0.0</td>\n",
              "      <td>0.0</td>\n",
              "      <td>0.0</td>\n",
              "      <td>2.0</td>\n",
              "      <td>5.0</td>\n",
              "      <td>2.0</td>\n",
              "      <td>1.0</td>\n",
              "      <td>38.0</td>\n",
              "      <td>1.0</td>\n",
              "      <td>2.6243</td>\n",
              "      <td>0.281690</td>\n",
              "      <td>0.000</td>\n",
              "      <td>0.187450</td>\n",
              "    </tr>\n",
              "    <tr>\n",
              "      <th>...</th>\n",
              "      <td>...</td>\n",
              "      <td>...</td>\n",
              "      <td>...</td>\n",
              "      <td>...</td>\n",
              "      <td>...</td>\n",
              "      <td>...</td>\n",
              "      <td>...</td>\n",
              "      <td>...</td>\n",
              "      <td>...</td>\n",
              "      <td>...</td>\n",
              "      <td>...</td>\n",
              "      <td>...</td>\n",
              "      <td>...</td>\n",
              "      <td>...</td>\n",
              "      <td>...</td>\n",
              "      <td>...</td>\n",
              "      <td>...</td>\n",
              "      <td>...</td>\n",
              "      <td>...</td>\n",
              "      <td>...</td>\n",
              "    </tr>\n",
              "    <tr>\n",
              "      <th>1995</th>\n",
              "      <td>Male</td>\n",
              "      <td>No</td>\n",
              "      <td>No</td>\n",
              "      <td>Healthcare</td>\n",
              "      <td>Cat_6</td>\n",
              "      <td>Low</td>\n",
              "      <td>D</td>\n",
              "      <td>1.0</td>\n",
              "      <td>0.0</td>\n",
              "      <td>0.0</td>\n",
              "      <td>5.0</td>\n",
              "      <td>5.0</td>\n",
              "      <td>2.0</td>\n",
              "      <td>3.0</td>\n",
              "      <td>23.0</td>\n",
              "      <td>4.0</td>\n",
              "      <td>1.0000</td>\n",
              "      <td>0.070423</td>\n",
              "      <td>0.375</td>\n",
              "      <td>0.071429</td>\n",
              "    </tr>\n",
              "    <tr>\n",
              "      <th>1996</th>\n",
              "      <td>Male</td>\n",
              "      <td>No</td>\n",
              "      <td>No</td>\n",
              "      <td>Marketing</td>\n",
              "      <td>Cat_5</td>\n",
              "      <td>Low</td>\n",
              "      <td>D</td>\n",
              "      <td>1.0</td>\n",
              "      <td>0.0</td>\n",
              "      <td>0.0</td>\n",
              "      <td>8.0</td>\n",
              "      <td>4.0</td>\n",
              "      <td>2.0</td>\n",
              "      <td>3.0</td>\n",
              "      <td>25.0</td>\n",
              "      <td>3.0</td>\n",
              "      <td>3.0000</td>\n",
              "      <td>0.098592</td>\n",
              "      <td>0.250</td>\n",
              "      <td>0.214286</td>\n",
              "    </tr>\n",
              "    <tr>\n",
              "      <th>1997</th>\n",
              "      <td>Female</td>\n",
              "      <td>No</td>\n",
              "      <td>No</td>\n",
              "      <td>Entertainment</td>\n",
              "      <td>Cat_2</td>\n",
              "      <td>Low</td>\n",
              "      <td>D</td>\n",
              "      <td>0.0</td>\n",
              "      <td>0.0</td>\n",
              "      <td>0.0</td>\n",
              "      <td>3.0</td>\n",
              "      <td>1.0</td>\n",
              "      <td>2.0</td>\n",
              "      <td>3.0</td>\n",
              "      <td>28.0</td>\n",
              "      <td>5.0</td>\n",
              "      <td>0.0000</td>\n",
              "      <td>0.140845</td>\n",
              "      <td>0.500</td>\n",
              "      <td>0.000000</td>\n",
              "    </tr>\n",
              "    <tr>\n",
              "      <th>1998</th>\n",
              "      <td>Male</td>\n",
              "      <td>No</td>\n",
              "      <td>Yes</td>\n",
              "      <td>Engineer</td>\n",
              "      <td>Cat_6</td>\n",
              "      <td>Average</td>\n",
              "      <td>B</td>\n",
              "      <td>1.0</td>\n",
              "      <td>0.0</td>\n",
              "      <td>1.0</td>\n",
              "      <td>2.0</td>\n",
              "      <td>5.0</td>\n",
              "      <td>0.0</td>\n",
              "      <td>1.0</td>\n",
              "      <td>60.0</td>\n",
              "      <td>2.0</td>\n",
              "      <td>0.0000</td>\n",
              "      <td>0.591549</td>\n",
              "      <td>0.125</td>\n",
              "      <td>0.000000</td>\n",
              "    </tr>\n",
              "    <tr>\n",
              "      <th>1999</th>\n",
              "      <td>Male</td>\n",
              "      <td>Yes</td>\n",
              "      <td>Yes</td>\n",
              "      <td>Artist</td>\n",
              "      <td>Cat_6</td>\n",
              "      <td>Average</td>\n",
              "      <td>C</td>\n",
              "      <td>1.0</td>\n",
              "      <td>1.0</td>\n",
              "      <td>1.0</td>\n",
              "      <td>0.0</td>\n",
              "      <td>5.0</td>\n",
              "      <td>0.0</td>\n",
              "      <td>2.0</td>\n",
              "      <td>61.0</td>\n",
              "      <td>2.0</td>\n",
              "      <td>3.0000</td>\n",
              "      <td>0.605634</td>\n",
              "      <td>0.125</td>\n",
              "      <td>0.214286</td>\n",
              "    </tr>\n",
              "  </tbody>\n",
              "</table>\n",
              "<p>2000 rows × 20 columns</p>\n",
              "</div>"
            ],
            "text/plain": [
              "      Gender Graduate Married     Profession Income_Category  \\\n",
              "0       Male      Yes      No  Entertainment           Cat_1   \n",
              "1       Male      Yes      No     Healthcare           Cat_2   \n",
              "2     Female      Yes     Yes      Homemaker           Cat_6   \n",
              "3     Female      Yes      No      Marketing           Cat_6   \n",
              "4     Female       No      No       Engineer           Cat_6   \n",
              "...      ...      ...     ...            ...             ...   \n",
              "1995    Male       No      No     Healthcare           Cat_6   \n",
              "1996    Male       No      No      Marketing           Cat_5   \n",
              "1997  Female       No      No  Entertainment           Cat_2   \n",
              "1998    Male       No     Yes       Engineer           Cat_6   \n",
              "1999    Male      Yes     Yes         Artist           Cat_6   \n",
              "\n",
              "     Spending_Category Customer_Category  gender_code  Gradute_code  \\\n",
              "0                  Low                 A          1.0           1.0   \n",
              "1                  Low                 D          1.0           1.0   \n",
              "2                  Low                 B          0.0           1.0   \n",
              "3                  Low                 B          0.0           1.0   \n",
              "4                  Low                 B          0.0           0.0   \n",
              "...                ...               ...          ...           ...   \n",
              "1995               Low                 D          1.0           0.0   \n",
              "1996               Low                 D          1.0           0.0   \n",
              "1997               Low                 D          0.0           0.0   \n",
              "1998           Average                 B          1.0           0.0   \n",
              "1999           Average                 C          1.0           1.0   \n",
              "\n",
              "      Married_code  Profession_code  Income_Category_code  \\\n",
              "0              0.0              3.0                   0.0   \n",
              "1              0.0              5.0                   1.0   \n",
              "2              1.0              6.0                   5.0   \n",
              "3              0.0              8.0                   5.0   \n",
              "4              0.0              2.0                   5.0   \n",
              "...            ...              ...                   ...   \n",
              "1995           0.0              5.0                   5.0   \n",
              "1996           0.0              8.0                   4.0   \n",
              "1997           0.0              3.0                   1.0   \n",
              "1998           1.0              2.0                   5.0   \n",
              "1999           1.0              0.0                   5.0   \n",
              "\n",
              "      Spending_Category_code  Customer_Category_code   Age  Family_Size  \\\n",
              "0                        2.0                     0.0  39.0          2.0   \n",
              "1                        2.0                     3.0  26.0          3.0   \n",
              "2                        2.0                     1.0  48.0          4.0   \n",
              "3                        2.0                     1.0  55.0          1.0   \n",
              "4                        2.0                     1.0  38.0          1.0   \n",
              "...                      ...                     ...   ...          ...   \n",
              "1995                     2.0                     3.0  23.0          4.0   \n",
              "1996                     2.0                     3.0  25.0          3.0   \n",
              "1997                     2.0                     3.0  28.0          5.0   \n",
              "1998                     0.0                     1.0  60.0          2.0   \n",
              "1999                     0.0                     2.0  61.0          2.0   \n",
              "\n",
              "      Work_Experience  Age_norm  Family_Size_norm  Work_Experience_norm  \n",
              "0              3.0000  0.295775             0.125              0.214286  \n",
              "1              2.6243  0.112676             0.250              0.187450  \n",
              "2              1.0000  0.422535             0.375              0.071429  \n",
              "3              3.0000  0.521127             0.000              0.214286  \n",
              "4              2.6243  0.281690             0.000              0.187450  \n",
              "...               ...       ...               ...                   ...  \n",
              "1995           1.0000  0.070423             0.375              0.071429  \n",
              "1996           3.0000  0.098592             0.250              0.214286  \n",
              "1997           0.0000  0.140845             0.500              0.000000  \n",
              "1998           0.0000  0.591549             0.125              0.000000  \n",
              "1999           3.0000  0.605634             0.125              0.214286  \n",
              "\n",
              "[2000 rows x 20 columns]"
            ]
          },
          "execution_count": 44,
          "metadata": {},
          "output_type": "execute_result"
        }
      ],
      "source": [
        "df_noncat_ppd = df_noncat_mdt_mmn.copy(); df_noncat_ppd # Preferred Data Subset\n",
        "df_cat_ppd = df_cat_mdt_code_oe.copy(); df_cat_ppd # Preferred Data Subset\n",
        "df_ppd = pd.merge(df_cat_ppd, df_noncat_ppd, left_index=True, right_index=True); df_ppd"
      ]
    },
    {
      "cell_type": "markdown",
      "id": "77bc327f",
      "metadata": {
        "deletable": false,
        "editable": false,
        "id": "77bc327f"
      },
      "source": [
        "### -----------------------------------------------------------------------------------------------------------------------------------------------------------"
      ]
    },
    {
      "cell_type": "markdown",
      "id": "9d8f8047",
      "metadata": {
        "deletable": false,
        "editable": false,
        "id": "9d8f8047"
      },
      "source": [
        "### Part A : Data Analysis :: II. Supervised Learning ::: Classification - Decision Tree\n",
        "#### 1. Split Dataset into Training & Testing Subsets [75% : 25%]\n",
        "#### 2. Take any 4 variables as Input and an Output variable of One's choice and Create a Decision Tree Model using Training Subset\n",
        "#### 3. Record the Model Rules & the Feature Importance\n",
        "#### 4. Predict using the Testing Subset\n",
        "#### 5. Record the Model Performance (on the Testing Subset) using Classification Report\n",
        "\n",
        "##### Note : Use One's Roll Number as \"random_state\""
      ]
    },
    {
      "cell_type": "code",
      "execution_count": null,
      "id": "45334770",
      "metadata": {
        "id": "45334770",
        "outputId": "671678e1-4896-4cc3-b0cf-ef066a835254"
      },
      "outputs": [
        {
          "data": {
            "text/plain": [
              "Index(['Gender', 'Graduate', 'Married', 'Profession', 'Income_Category',\n",
              "       'Spending_Category', 'Customer_Category', 'gender_code', 'Gradute_code',\n",
              "       'Married_code', 'Profession_code', 'Income_Category_code',\n",
              "       'Spending_Category_code', 'Customer_Category_code', 'Age',\n",
              "       'Family_Size', 'Work_Experience', 'Age_norm', 'Family_Size_norm',\n",
              "       'Work_Experience_norm'],\n",
              "      dtype='object')"
            ]
          },
          "execution_count": 45,
          "metadata": {},
          "output_type": "execute_result"
        }
      ],
      "source": [
        "df_ppd.columns"
      ]
    },
    {
      "cell_type": "code",
      "execution_count": null,
      "id": "612ed669",
      "metadata": {
        "id": "612ed669"
      },
      "outputs": [],
      "source": [
        "# Subset df based on Inputs as {mpg, hp, cyl, vs} & Output as {am}\n",
        "df_ppd_inputs = df_ppd[['Profession_code', 'Income_Category_code', 'Age_norm', 'Family_Size_norm']]; df_ppd_inputs\n",
        "df_ppd_output = df_ppd[['Customer_Category_code']]"
      ]
    },
    {
      "cell_type": "code",
      "execution_count": null,
      "id": "63c3fe61",
      "metadata": {
        "id": "63c3fe61",
        "outputId": "22351077-bf11-4d71-c314-363e8cd1ae16"
      },
      "outputs": [
        {
          "data": {
            "text/plain": [
              "array(['0.0', '3.0', '1.0', '2.0'], dtype='<U32')"
            ]
          },
          "execution_count": 76,
          "metadata": {},
          "output_type": "execute_result"
        }
      ],
      "source": [
        "df_ppd_inputs_names = df_ppd_inputs.columns; df_ppd_inputs_names\n",
        "df_ppd_output_labels = df_ppd_output['Customer_Category_code'].unique().astype(str); df_ppd_output_labels"
      ]
    },
    {
      "cell_type": "code",
      "execution_count": null,
      "id": "dd130763",
      "metadata": {
        "id": "dd130763"
      },
      "outputs": [],
      "source": [
        "train_df_ppd_inputs, test_df_ppd_inputs, train_df_ppd_output, test_df_ppd_output = train_test_split(df_ppd_inputs, df_ppd_output, test_size=0.25, random_state=5039)"
      ]
    },
    {
      "cell_type": "code",
      "execution_count": null,
      "id": "bcbdf913",
      "metadata": {
        "id": "bcbdf913",
        "outputId": "2e254ac6-5d69-474b-d110-915c620b4b68"
      },
      "outputs": [
        {
          "data": {
            "text/plain": [
              "DecisionTreeClassifier(random_state=5039)"
            ]
          },
          "execution_count": 78,
          "metadata": {},
          "output_type": "execute_result"
        }
      ],
      "source": [
        "# Decision Tree Clustering Model\n",
        "# ------------------------------\n",
        "\n",
        "# Decision Tree : Model (Training Subset)\n",
        "dtc = DecisionTreeClassifier(criterion='gini', random_state=5039) # Other Criteria : Entropy,  Log Loss\n",
        "dtc_model = dtc.fit(train_df_ppd_inputs, train_df_ppd_output); dtc_model"
      ]
    },
    {
      "cell_type": "code",
      "execution_count": null,
      "id": "60dfbb2d",
      "metadata": {
        "id": "60dfbb2d",
        "outputId": "c6fcec3a-a22e-41ca-98c9-85738b6a6788"
      },
      "outputs": [
        {
          "name": "stdout",
          "output_type": "stream",
          "text": [
            "|--- Age_norm <= 0.23\n",
            "|   |--- Age_norm <= 0.08\n",
            "|   |   |--- Profession_code <= 2.50\n",
            "|   |   |   |--- Income_Category_code <= 3.50\n",
            "|   |   |   |   |--- Profession_code <= 0.50\n",
            "|   |   |   |   |   |--- class: 3.0\n",
            "|   |   |   |   |--- Profession_code >  0.50\n",
            "|   |   |   |   |   |--- Family_Size_norm <= 0.38\n",
            "|   |   |   |   |   |   |--- class: 0.0\n",
            "|   |   |   |   |   |--- Family_Size_norm >  0.38\n",
            "|   |   |   |   |   |   |--- Age_norm <= 0.03\n",
            "|   |   |   |   |   |   |   |--- class: 3.0\n",
            "|   |   |   |   |   |   |--- Age_norm >  0.03\n",
            "|   |   |   |   |   |   |   |--- class: 1.0\n",
            "|   |   |   |--- Income_Category_code >  3.50\n",
            "|   |   |   |   |--- Family_Size_norm <= 0.44\n",
            "|   |   |   |   |   |--- Age_norm <= 0.04\n",
            "|   |   |   |   |   |   |--- class: 0.0\n",
            "|   |   |   |   |   |--- Age_norm >  0.04\n",
            "|   |   |   |   |   |   |--- class: 2.0\n",
            "|   |   |   |   |--- Family_Size_norm >  0.44\n",
            "|   |   |   |   |   |--- class: 3.0\n",
            "|   |   |--- Profession_code >  2.50\n",
            "|   |   |   |--- Profession_code <= 6.00\n",
            "|   |   |   |   |--- Family_Size_norm <= 0.44\n",
            "|   |   |   |   |   |--- Age_norm <= 0.04\n",
            "|   |   |   |   |   |   |--- Family_Size_norm <= 0.24\n",
            "|   |   |   |   |   |   |   |--- class: 3.0\n",
            "|   |   |   |   |   |   |--- Family_Size_norm >  0.24\n",
            "|   |   |   |   |   |   |   |--- Age_norm <= 0.01\n",
            "|   |   |   |   |   |   |   |   |--- Income_Category_code <= 4.00\n",
            "|   |   |   |   |   |   |   |   |   |--- Family_Size_norm <= 0.31\n",
            "|   |   |   |   |   |   |   |   |   |   |--- class: 3.0\n",
            "|   |   |   |   |   |   |   |   |   |--- Family_Size_norm >  0.31\n",
            "|   |   |   |   |   |   |   |   |   |   |--- class: 1.0\n",
            "|   |   |   |   |   |   |   |   |--- Income_Category_code >  4.00\n",
            "|   |   |   |   |   |   |   |   |   |--- class: 3.0\n",
            "|   |   |   |   |   |   |   |--- Age_norm >  0.01\n",
            "|   |   |   |   |   |   |   |   |--- Income_Category_code <= 2.50\n",
            "|   |   |   |   |   |   |   |   |   |--- Age_norm <= 0.02\n",
            "|   |   |   |   |   |   |   |   |   |   |--- class: 0.0\n",
            "|   |   |   |   |   |   |   |   |   |--- Age_norm >  0.02\n",
            "|   |   |   |   |   |   |   |   |   |   |--- Income_Category_code <= 1.50\n",
            "|   |   |   |   |   |   |   |   |   |   |   |--- class: 3.0\n",
            "|   |   |   |   |   |   |   |   |   |   |--- Income_Category_code >  1.50\n",
            "|   |   |   |   |   |   |   |   |   |   |   |--- class: 1.0\n",
            "|   |   |   |   |   |   |   |   |--- Income_Category_code >  2.50\n",
            "|   |   |   |   |   |   |   |   |   |--- Income_Category_code <= 4.00\n",
            "|   |   |   |   |   |   |   |   |   |   |--- class: 3.0\n",
            "|   |   |   |   |   |   |   |   |   |--- Income_Category_code >  4.00\n",
            "|   |   |   |   |   |   |   |   |   |   |--- Family_Size_norm <= 0.31\n",
            "|   |   |   |   |   |   |   |   |   |   |   |--- truncated branch of depth 2\n",
            "|   |   |   |   |   |   |   |   |   |   |--- Family_Size_norm >  0.31\n",
            "|   |   |   |   |   |   |   |   |   |   |   |--- truncated branch of depth 2\n",
            "|   |   |   |   |   |--- Age_norm >  0.04\n",
            "|   |   |   |   |   |   |--- Age_norm <= 0.06\n",
            "|   |   |   |   |   |   |   |--- Age_norm <= 0.05\n",
            "|   |   |   |   |   |   |   |   |--- class: 3.0\n",
            "|   |   |   |   |   |   |   |--- Age_norm >  0.05\n",
            "|   |   |   |   |   |   |   |   |--- Family_Size_norm <= 0.31\n",
            "|   |   |   |   |   |   |   |   |   |--- class: 3.0\n",
            "|   |   |   |   |   |   |   |   |--- Family_Size_norm >  0.31\n",
            "|   |   |   |   |   |   |   |   |   |--- Income_Category_code <= 4.00\n",
            "|   |   |   |   |   |   |   |   |   |   |--- class: 3.0\n",
            "|   |   |   |   |   |   |   |   |   |--- Income_Category_code >  4.00\n",
            "|   |   |   |   |   |   |   |   |   |   |--- Income_Category_code <= 5.50\n",
            "|   |   |   |   |   |   |   |   |   |   |   |--- class: 3.0\n",
            "|   |   |   |   |   |   |   |   |   |   |--- Income_Category_code >  5.50\n",
            "|   |   |   |   |   |   |   |   |   |   |   |--- class: 3.0\n",
            "|   |   |   |   |   |   |--- Age_norm >  0.06\n",
            "|   |   |   |   |   |   |   |--- Income_Category_code <= 4.00\n",
            "|   |   |   |   |   |   |   |   |--- Income_Category_code <= 2.50\n",
            "|   |   |   |   |   |   |   |   |   |--- class: 3.0\n",
            "|   |   |   |   |   |   |   |   |--- Income_Category_code >  2.50\n",
            "|   |   |   |   |   |   |   |   |   |--- class: 2.0\n",
            "|   |   |   |   |   |   |   |--- Income_Category_code >  4.00\n",
            "|   |   |   |   |   |   |   |   |--- class: 3.0\n",
            "|   |   |   |   |--- Family_Size_norm >  0.44\n",
            "|   |   |   |   |   |--- Profession_code <= 4.50\n",
            "|   |   |   |   |   |   |--- Income_Category_code <= 2.00\n",
            "|   |   |   |   |   |   |   |--- Age_norm <= 0.05\n",
            "|   |   |   |   |   |   |   |   |--- class: 1.0\n",
            "|   |   |   |   |   |   |   |--- Age_norm >  0.05\n",
            "|   |   |   |   |   |   |   |   |--- class: 3.0\n",
            "|   |   |   |   |   |   |--- Income_Category_code >  2.00\n",
            "|   |   |   |   |   |   |   |--- class: 0.0\n",
            "|   |   |   |   |   |--- Profession_code >  4.50\n",
            "|   |   |   |   |   |   |--- Family_Size_norm <= 0.56\n",
            "|   |   |   |   |   |   |   |--- Age_norm <= 0.02\n",
            "|   |   |   |   |   |   |   |   |--- Income_Category_code <= 2.50\n",
            "|   |   |   |   |   |   |   |   |   |--- Income_Category_code <= 1.50\n",
            "|   |   |   |   |   |   |   |   |   |   |--- class: 0.0\n",
            "|   |   |   |   |   |   |   |   |   |--- Income_Category_code >  1.50\n",
            "|   |   |   |   |   |   |   |   |   |   |--- class: 3.0\n",
            "|   |   |   |   |   |   |   |   |--- Income_Category_code >  2.50\n",
            "|   |   |   |   |   |   |   |   |   |--- class: 0.0\n",
            "|   |   |   |   |   |   |   |--- Age_norm >  0.02\n",
            "|   |   |   |   |   |   |   |   |--- Income_Category_code <= 4.50\n",
            "|   |   |   |   |   |   |   |   |   |--- class: 3.0\n",
            "|   |   |   |   |   |   |   |   |--- Income_Category_code >  4.50\n",
            "|   |   |   |   |   |   |   |   |   |--- Age_norm <= 0.04\n",
            "|   |   |   |   |   |   |   |   |   |   |--- class: 3.0\n",
            "|   |   |   |   |   |   |   |   |   |--- Age_norm >  0.04\n",
            "|   |   |   |   |   |   |   |   |   |   |--- Age_norm <= 0.05\n",
            "|   |   |   |   |   |   |   |   |   |   |   |--- class: 0.0\n",
            "|   |   |   |   |   |   |   |   |   |   |--- Age_norm >  0.05\n",
            "|   |   |   |   |   |   |   |   |   |   |   |--- class: 3.0\n",
            "|   |   |   |   |   |   |--- Family_Size_norm >  0.56\n",
            "|   |   |   |   |   |   |   |--- class: 3.0\n",
            "|   |   |   |--- Profession_code >  6.00\n",
            "|   |   |   |   |--- Profession_code <= 7.50\n",
            "|   |   |   |   |   |--- class: 1.0\n",
            "|   |   |   |   |--- Profession_code >  7.50\n",
            "|   |   |   |   |   |--- Family_Size_norm <= 0.06\n",
            "|   |   |   |   |   |   |--- class: 1.0\n",
            "|   |   |   |   |   |--- Family_Size_norm >  0.06\n",
            "|   |   |   |   |   |   |--- Age_norm <= 0.01\n",
            "|   |   |   |   |   |   |   |--- class: 3.0\n",
            "|   |   |   |   |   |   |--- Age_norm >  0.01\n",
            "|   |   |   |   |   |   |   |--- Age_norm <= 0.02\n",
            "|   |   |   |   |   |   |   |   |--- class: 2.0\n",
            "|   |   |   |   |   |   |   |--- Age_norm >  0.02\n",
            "|   |   |   |   |   |   |   |   |--- Age_norm <= 0.06\n",
            "|   |   |   |   |   |   |   |   |   |--- class: 3.0\n",
            "|   |   |   |   |   |   |   |   |--- Age_norm >  0.06\n",
            "|   |   |   |   |   |   |   |   |   |--- class: 2.0\n",
            "|   |--- Age_norm >  0.08\n",
            "|   |   |--- Profession_code <= 3.50\n",
            "|   |   |   |--- Profession_code <= 0.50\n",
            "|   |   |   |   |--- Family_Size_norm <= 0.44\n",
            "|   |   |   |   |   |--- Family_Size_norm <= 0.31\n",
            "|   |   |   |   |   |   |--- Income_Category_code <= 3.50\n",
            "|   |   |   |   |   |   |   |--- Age_norm <= 0.17\n",
            "|   |   |   |   |   |   |   |   |--- Income_Category_code <= 0.50\n",
            "|   |   |   |   |   |   |   |   |   |--- class: 1.0\n",
            "|   |   |   |   |   |   |   |   |--- Income_Category_code >  0.50\n",
            "|   |   |   |   |   |   |   |   |   |--- Income_Category_code <= 1.50\n",
            "|   |   |   |   |   |   |   |   |   |   |--- class: 0.0\n",
            "|   |   |   |   |   |   |   |   |   |--- Income_Category_code >  1.50\n",
            "|   |   |   |   |   |   |   |   |   |   |--- class: 3.0\n",
            "|   |   |   |   |   |   |   |--- Age_norm >  0.17\n",
            "|   |   |   |   |   |   |   |   |--- Family_Size_norm <= 0.06\n",
            "|   |   |   |   |   |   |   |   |   |--- class: 1.0\n",
            "|   |   |   |   |   |   |   |   |--- Family_Size_norm >  0.06\n",
            "|   |   |   |   |   |   |   |   |   |--- Family_Size_norm <= 0.24\n",
            "|   |   |   |   |   |   |   |   |   |   |--- Income_Category_code <= 1.50\n",
            "|   |   |   |   |   |   |   |   |   |   |   |--- class: 3.0\n",
            "|   |   |   |   |   |   |   |   |   |   |--- Income_Category_code >  1.50\n",
            "|   |   |   |   |   |   |   |   |   |   |   |--- class: 2.0\n",
            "|   |   |   |   |   |   |   |   |   |--- Family_Size_norm >  0.24\n",
            "|   |   |   |   |   |   |   |   |   |   |--- class: 3.0\n",
            "|   |   |   |   |   |   |--- Income_Category_code >  3.50\n",
            "|   |   |   |   |   |   |   |--- Family_Size_norm <= 0.19\n",
            "|   |   |   |   |   |   |   |   |--- Age_norm <= 0.20\n",
            "|   |   |   |   |   |   |   |   |   |--- Age_norm <= 0.11\n",
            "|   |   |   |   |   |   |   |   |   |   |--- class: 1.0\n",
            "|   |   |   |   |   |   |   |   |   |--- Age_norm >  0.11\n",
            "|   |   |   |   |   |   |   |   |   |   |--- Income_Category_code <= 4.50\n",
            "|   |   |   |   |   |   |   |   |   |   |   |--- class: 0.0\n",
            "|   |   |   |   |   |   |   |   |   |   |--- Income_Category_code >  4.50\n",
            "|   |   |   |   |   |   |   |   |   |   |   |--- truncated branch of depth 7\n",
            "|   |   |   |   |   |   |   |   |--- Age_norm >  0.20\n",
            "|   |   |   |   |   |   |   |   |   |--- class: 2.0\n",
            "|   |   |   |   |   |   |   |--- Family_Size_norm >  0.19\n",
            "|   |   |   |   |   |   |   |   |--- Age_norm <= 0.17\n",
            "|   |   |   |   |   |   |   |   |   |--- Age_norm <= 0.11\n",
            "|   |   |   |   |   |   |   |   |   |   |--- class: 2.0\n",
            "|   |   |   |   |   |   |   |   |   |--- Age_norm >  0.11\n",
            "|   |   |   |   |   |   |   |   |   |   |--- Age_norm <= 0.15\n",
            "|   |   |   |   |   |   |   |   |   |   |   |--- truncated branch of depth 2\n",
            "|   |   |   |   |   |   |   |   |   |   |--- Age_norm >  0.15\n",
            "|   |   |   |   |   |   |   |   |   |   |   |--- class: 2.0\n",
            "|   |   |   |   |   |   |   |   |--- Age_norm >  0.17\n",
            "|   |   |   |   |   |   |   |   |   |--- class: 0.0\n",
            "|   |   |   |   |   |--- Family_Size_norm >  0.31\n",
            "|   |   |   |   |   |   |--- Age_norm <= 0.12\n",
            "|   |   |   |   |   |   |   |--- class: 1.0\n",
            "|   |   |   |   |   |   |--- Age_norm >  0.12\n",
            "|   |   |   |   |   |   |   |--- Age_norm <= 0.16\n",
            "|   |   |   |   |   |   |   |   |--- class: 2.0\n",
            "|   |   |   |   |   |   |   |--- Age_norm >  0.16\n",
            "|   |   |   |   |   |   |   |   |--- class: 0.0\n",
            "|   |   |   |   |--- Family_Size_norm >  0.44\n",
            "|   |   |   |   |   |--- Income_Category_code <= 2.00\n",
            "|   |   |   |   |   |   |--- class: 0.0\n",
            "|   |   |   |   |   |--- Income_Category_code >  2.00\n",
            "|   |   |   |   |   |   |--- Age_norm <= 0.15\n",
            "|   |   |   |   |   |   |   |--- class: 3.0\n",
            "|   |   |   |   |   |   |--- Age_norm >  0.15\n",
            "|   |   |   |   |   |   |   |--- class: 0.0\n",
            "|   |   |   |--- Profession_code >  0.50\n",
            "|   |   |   |   |--- Family_Size_norm <= 0.31\n",
            "|   |   |   |   |   |--- Age_norm <= 0.20\n",
            "|   |   |   |   |   |   |--- Income_Category_code <= 1.50\n",
            "|   |   |   |   |   |   |   |--- Age_norm <= 0.15\n",
            "|   |   |   |   |   |   |   |   |--- class: 0.0\n",
            "|   |   |   |   |   |   |   |--- Age_norm >  0.15\n",
            "|   |   |   |   |   |   |   |   |--- class: 2.0\n",
            "|   |   |   |   |   |   |--- Income_Category_code >  1.50\n",
            "|   |   |   |   |   |   |   |--- Age_norm <= 0.19\n",
            "|   |   |   |   |   |   |   |   |--- Age_norm <= 0.18\n",
            "|   |   |   |   |   |   |   |   |   |--- Profession_code <= 1.50\n",
            "|   |   |   |   |   |   |   |   |   |   |--- Income_Category_code <= 3.50\n",
            "|   |   |   |   |   |   |   |   |   |   |   |--- truncated branch of depth 3\n",
            "|   |   |   |   |   |   |   |   |   |   |--- Income_Category_code >  3.50\n",
            "|   |   |   |   |   |   |   |   |   |   |   |--- truncated branch of depth 6\n",
            "|   |   |   |   |   |   |   |   |   |--- Profession_code >  1.50\n",
            "|   |   |   |   |   |   |   |   |   |   |--- Family_Size_norm <= 0.06\n",
            "|   |   |   |   |   |   |   |   |   |   |   |--- class: 3.0\n",
            "|   |   |   |   |   |   |   |   |   |   |--- Family_Size_norm >  0.06\n",
            "|   |   |   |   |   |   |   |   |   |   |   |--- truncated branch of depth 7\n",
            "|   |   |   |   |   |   |   |   |--- Age_norm >  0.18\n",
            "|   |   |   |   |   |   |   |   |   |--- Family_Size_norm <= 0.06\n",
            "|   |   |   |   |   |   |   |   |   |   |--- class: 0.0\n",
            "|   |   |   |   |   |   |   |   |   |--- Family_Size_norm >  0.06\n",
            "|   |   |   |   |   |   |   |   |   |   |--- Family_Size_norm <= 0.19\n",
            "|   |   |   |   |   |   |   |   |   |   |   |--- class: 0.0\n",
            "|   |   |   |   |   |   |   |   |   |   |--- Family_Size_norm >  0.19\n",
            "|   |   |   |   |   |   |   |   |   |   |   |--- class: 0.0\n",
            "|   |   |   |   |   |   |   |--- Age_norm >  0.19\n",
            "|   |   |   |   |   |   |   |   |--- Family_Size_norm <= 0.12\n",
            "|   |   |   |   |   |   |   |   |   |--- class: 3.0\n",
            "|   |   |   |   |   |   |   |   |--- Family_Size_norm >  0.12\n",
            "|   |   |   |   |   |   |   |   |   |--- Income_Category_code <= 4.00\n",
            "|   |   |   |   |   |   |   |   |   |   |--- class: 1.0\n",
            "|   |   |   |   |   |   |   |   |   |--- Income_Category_code >  4.00\n",
            "|   |   |   |   |   |   |   |   |   |   |--- class: 0.0\n",
            "|   |   |   |   |   |--- Age_norm >  0.20\n",
            "|   |   |   |   |   |   |--- Income_Category_code <= 4.00\n",
            "|   |   |   |   |   |   |   |--- Family_Size_norm <= 0.12\n",
            "|   |   |   |   |   |   |   |   |--- class: 0.0\n",
            "|   |   |   |   |   |   |   |--- Family_Size_norm >  0.12\n",
            "|   |   |   |   |   |   |   |   |--- class: 1.0\n",
            "|   |   |   |   |   |   |--- Income_Category_code >  4.00\n",
            "|   |   |   |   |   |   |   |--- Family_Size_norm <= 0.18\n",
            "|   |   |   |   |   |   |   |   |--- class: 0.0\n",
            "|   |   |   |   |   |   |   |--- Family_Size_norm >  0.18\n",
            "|   |   |   |   |   |   |   |   |--- Family_Size_norm <= 0.24\n",
            "|   |   |   |   |   |   |   |   |   |--- class: 3.0\n",
            "|   |   |   |   |   |   |   |   |--- Family_Size_norm >  0.24\n",
            "|   |   |   |   |   |   |   |   |   |--- Profession_code <= 2.00\n",
            "|   |   |   |   |   |   |   |   |   |   |--- class: 0.0\n",
            "|   |   |   |   |   |   |   |   |   |--- Profession_code >  2.00\n",
            "|   |   |   |   |   |   |   |   |   |   |--- class: 0.0\n",
            "|   |   |   |   |--- Family_Size_norm >  0.31\n",
            "|   |   |   |   |   |--- Age_norm <= 0.12\n",
            "|   |   |   |   |   |   |--- class: 0.0\n",
            "|   |   |   |   |   |--- Age_norm >  0.12\n",
            "|   |   |   |   |   |   |--- Age_norm <= 0.16\n",
            "|   |   |   |   |   |   |   |--- Profession_code <= 1.50\n",
            "|   |   |   |   |   |   |   |   |--- Family_Size_norm <= 0.44\n",
            "|   |   |   |   |   |   |   |   |   |--- Income_Category_code <= 3.50\n",
            "|   |   |   |   |   |   |   |   |   |   |--- class: 3.0\n",
            "|   |   |   |   |   |   |   |   |   |--- Income_Category_code >  3.50\n",
            "|   |   |   |   |   |   |   |   |   |   |--- class: 1.0\n",
            "|   |   |   |   |   |   |   |   |--- Family_Size_norm >  0.44\n",
            "|   |   |   |   |   |   |   |   |   |--- class: 1.0\n",
            "|   |   |   |   |   |   |   |--- Profession_code >  1.50\n",
            "|   |   |   |   |   |   |   |   |--- Income_Category_code <= 3.50\n",
            "|   |   |   |   |   |   |   |   |   |--- Family_Size_norm <= 0.44\n",
            "|   |   |   |   |   |   |   |   |   |   |--- class: 1.0\n",
            "|   |   |   |   |   |   |   |   |   |--- Family_Size_norm >  0.44\n",
            "|   |   |   |   |   |   |   |   |   |   |--- class: 3.0\n",
            "|   |   |   |   |   |   |   |   |--- Income_Category_code >  3.50\n",
            "|   |   |   |   |   |   |   |   |   |--- Family_Size_norm <= 0.44\n",
            "|   |   |   |   |   |   |   |   |   |   |--- Income_Category_code <= 5.50\n",
            "|   |   |   |   |   |   |   |   |   |   |   |--- truncated branch of depth 4\n",
            "|   |   |   |   |   |   |   |   |   |   |--- Income_Category_code >  5.50\n",
            "|   |   |   |   |   |   |   |   |   |   |   |--- class: 3.0\n",
            "|   |   |   |   |   |   |   |   |   |--- Family_Size_norm >  0.44\n",
            "|   |   |   |   |   |   |   |   |   |   |--- class: 1.0\n",
            "|   |   |   |   |   |   |--- Age_norm >  0.16\n",
            "|   |   |   |   |   |   |   |--- Family_Size_norm <= 0.44\n",
            "|   |   |   |   |   |   |   |   |--- Age_norm <= 0.20\n",
            "|   |   |   |   |   |   |   |   |   |--- Age_norm <= 0.19\n",
            "|   |   |   |   |   |   |   |   |   |   |--- class: 3.0\n",
            "|   |   |   |   |   |   |   |   |   |--- Age_norm >  0.19\n",
            "|   |   |   |   |   |   |   |   |   |   |--- Profession_code <= 2.00\n",
            "|   |   |   |   |   |   |   |   |   |   |   |--- truncated branch of depth 2\n",
            "|   |   |   |   |   |   |   |   |   |   |--- Profession_code >  2.00\n",
            "|   |   |   |   |   |   |   |   |   |   |   |--- class: 3.0\n",
            "|   |   |   |   |   |   |   |   |--- Age_norm >  0.20\n",
            "|   |   |   |   |   |   |   |   |   |--- Profession_code <= 2.00\n",
            "|   |   |   |   |   |   |   |   |   |   |--- class: 3.0\n",
            "|   |   |   |   |   |   |   |   |   |--- Profession_code >  2.00\n",
            "|   |   |   |   |   |   |   |   |   |   |--- class: 2.0\n",
            "|   |   |   |   |   |   |   |--- Family_Size_norm >  0.44\n",
            "|   |   |   |   |   |   |   |   |--- Income_Category_code <= 4.00\n",
            "|   |   |   |   |   |   |   |   |   |--- Family_Size_norm <= 0.81\n",
            "|   |   |   |   |   |   |   |   |   |   |--- Family_Size_norm <= 0.69\n",
            "|   |   |   |   |   |   |   |   |   |   |   |--- truncated branch of depth 7\n",
            "|   |   |   |   |   |   |   |   |   |   |--- Family_Size_norm >  0.69\n",
            "|   |   |   |   |   |   |   |   |   |   |   |--- class: 0.0\n",
            "|   |   |   |   |   |   |   |   |   |--- Family_Size_norm >  0.81\n",
            "|   |   |   |   |   |   |   |   |   |   |--- class: 3.0\n",
            "|   |   |   |   |   |   |   |   |--- Income_Category_code >  4.00\n",
            "|   |   |   |   |   |   |   |   |   |--- Profession_code <= 1.50\n",
            "|   |   |   |   |   |   |   |   |   |   |--- class: 1.0\n",
            "|   |   |   |   |   |   |   |   |   |--- Profession_code >  1.50\n",
            "|   |   |   |   |   |   |   |   |   |   |--- class: 3.0\n",
            "|   |   |--- Profession_code >  3.50\n",
            "|   |   |   |--- Income_Category_code <= 2.50\n",
            "|   |   |   |   |--- Age_norm <= 0.12\n",
            "|   |   |   |   |   |--- Family_Size_norm <= 0.24\n",
            "|   |   |   |   |   |   |--- class: 3.0\n",
            "|   |   |   |   |   |--- Family_Size_norm >  0.24\n",
            "|   |   |   |   |   |   |--- Profession_code <= 5.50\n",
            "|   |   |   |   |   |   |   |--- Income_Category_code <= 1.50\n",
            "|   |   |   |   |   |   |   |   |--- Age_norm <= 0.11\n",
            "|   |   |   |   |   |   |   |   |   |--- class: 2.0\n",
            "|   |   |   |   |   |   |   |   |--- Age_norm >  0.11\n",
            "|   |   |   |   |   |   |   |   |   |--- Family_Size_norm <= 0.31\n",
            "|   |   |   |   |   |   |   |   |   |   |--- class: 3.0\n",
            "|   |   |   |   |   |   |   |   |   |--- Family_Size_norm >  0.31\n",
            "|   |   |   |   |   |   |   |   |   |   |--- class: 0.0\n",
            "|   |   |   |   |   |   |   |--- Income_Category_code >  1.50\n",
            "|   |   |   |   |   |   |   |   |--- Age_norm <= 0.11\n",
            "|   |   |   |   |   |   |   |   |   |--- class: 2.0\n",
            "|   |   |   |   |   |   |   |   |--- Age_norm >  0.11\n",
            "|   |   |   |   |   |   |   |   |   |--- class: 2.0\n",
            "|   |   |   |   |   |   |--- Profession_code >  5.50\n",
            "|   |   |   |   |   |   |   |--- class: 2.0\n",
            "|   |   |   |   |--- Age_norm >  0.12\n",
            "|   |   |   |   |   |--- Age_norm <= 0.13\n",
            "|   |   |   |   |   |   |--- Family_Size_norm <= 0.06\n",
            "|   |   |   |   |   |   |   |--- class: 1.0\n",
            "|   |   |   |   |   |   |--- Family_Size_norm >  0.06\n",
            "|   |   |   |   |   |   |   |--- Family_Size_norm <= 0.44\n",
            "|   |   |   |   |   |   |   |   |--- class: 0.0\n",
            "|   |   |   |   |   |   |   |--- Family_Size_norm >  0.44\n",
            "|   |   |   |   |   |   |   |   |--- Family_Size_norm <= 0.62\n",
            "|   |   |   |   |   |   |   |   |   |--- class: 1.0\n",
            "|   |   |   |   |   |   |   |   |--- Family_Size_norm >  0.62\n",
            "|   |   |   |   |   |   |   |   |   |--- class: 0.0\n",
            "|   |   |   |   |   |--- Age_norm >  0.13\n",
            "|   |   |   |   |   |   |--- Income_Category_code <= 0.50\n",
            "|   |   |   |   |   |   |   |--- class: 3.0\n",
            "|   |   |   |   |   |   |--- Income_Category_code >  0.50\n",
            "|   |   |   |   |   |   |   |--- Income_Category_code <= 1.50\n",
            "|   |   |   |   |   |   |   |   |--- Profession_code <= 7.00\n",
            "|   |   |   |   |   |   |   |   |   |--- Profession_code <= 5.50\n",
            "|   |   |   |   |   |   |   |   |   |   |--- Age_norm <= 0.19\n",
            "|   |   |   |   |   |   |   |   |   |   |   |--- class: 2.0\n",
            "|   |   |   |   |   |   |   |   |   |   |--- Age_norm >  0.19\n",
            "|   |   |   |   |   |   |   |   |   |   |   |--- truncated branch of depth 3\n",
            "|   |   |   |   |   |   |   |   |   |--- Profession_code >  5.50\n",
            "|   |   |   |   |   |   |   |   |   |   |--- class: 2.0\n",
            "|   |   |   |   |   |   |   |   |--- Profession_code >  7.00\n",
            "|   |   |   |   |   |   |   |   |   |--- Age_norm <= 0.19\n",
            "|   |   |   |   |   |   |   |   |   |   |--- class: 0.0\n",
            "|   |   |   |   |   |   |   |   |   |--- Age_norm >  0.19\n",
            "|   |   |   |   |   |   |   |   |   |   |--- class: 1.0\n",
            "|   |   |   |   |   |   |   |--- Income_Category_code >  1.50\n",
            "|   |   |   |   |   |   |   |   |--- Age_norm <= 0.16\n",
            "|   |   |   |   |   |   |   |   |   |--- Family_Size_norm <= 0.18\n",
            "|   |   |   |   |   |   |   |   |   |   |--- Age_norm <= 0.15\n",
            "|   |   |   |   |   |   |   |   |   |   |   |--- class: 2.0\n",
            "|   |   |   |   |   |   |   |   |   |   |--- Age_norm >  0.15\n",
            "|   |   |   |   |   |   |   |   |   |   |   |--- class: 0.0\n",
            "|   |   |   |   |   |   |   |   |   |--- Family_Size_norm >  0.18\n",
            "|   |   |   |   |   |   |   |   |   |   |--- class: 3.0\n",
            "|   |   |   |   |   |   |   |   |--- Age_norm >  0.16\n",
            "|   |   |   |   |   |   |   |   |   |--- Age_norm <= 0.19\n",
            "|   |   |   |   |   |   |   |   |   |   |--- class: 0.0\n",
            "|   |   |   |   |   |   |   |   |   |--- Age_norm >  0.19\n",
            "|   |   |   |   |   |   |   |   |   |   |--- Family_Size_norm <= 0.56\n",
            "|   |   |   |   |   |   |   |   |   |   |   |--- truncated branch of depth 4\n",
            "|   |   |   |   |   |   |   |   |   |   |--- Family_Size_norm >  0.56\n",
            "|   |   |   |   |   |   |   |   |   |   |   |--- class: 0.0\n",
            "|   |   |   |--- Income_Category_code >  2.50\n",
            "|   |   |   |   |--- Family_Size_norm <= 0.31\n",
            "|   |   |   |   |   |--- Income_Category_code <= 3.50\n",
            "|   |   |   |   |   |   |--- Age_norm <= 0.16\n",
            "|   |   |   |   |   |   |   |--- Age_norm <= 0.15\n",
            "|   |   |   |   |   |   |   |   |--- Age_norm <= 0.13\n",
            "|   |   |   |   |   |   |   |   |   |--- Profession_code <= 7.00\n",
            "|   |   |   |   |   |   |   |   |   |   |--- class: 3.0\n",
            "|   |   |   |   |   |   |   |   |   |--- Profession_code >  7.00\n",
            "|   |   |   |   |   |   |   |   |   |   |--- class: 0.0\n",
            "|   |   |   |   |   |   |   |   |--- Age_norm >  0.13\n",
            "|   |   |   |   |   |   |   |   |   |--- class: 1.0\n",
            "|   |   |   |   |   |   |   |--- Age_norm >  0.15\n",
            "|   |   |   |   |   |   |   |   |--- class: 0.0\n",
            "|   |   |   |   |   |   |--- Age_norm >  0.16\n",
            "|   |   |   |   |   |   |   |--- Age_norm <= 0.20\n",
            "|   |   |   |   |   |   |   |   |--- class: 3.0\n",
            "|   |   |   |   |   |   |   |--- Age_norm >  0.20\n",
            "|   |   |   |   |   |   |   |   |--- class: 1.0\n",
            "|   |   |   |   |   |--- Income_Category_code >  3.50\n",
            "|   |   |   |   |   |   |--- Family_Size_norm <= 0.06\n",
            "|   |   |   |   |   |   |   |--- Profession_code <= 5.50\n",
            "|   |   |   |   |   |   |   |   |--- Age_norm <= 0.15\n",
            "|   |   |   |   |   |   |   |   |   |--- Age_norm <= 0.12\n",
            "|   |   |   |   |   |   |   |   |   |   |--- Age_norm <= 0.11\n",
            "|   |   |   |   |   |   |   |   |   |   |   |--- class: 3.0\n",
            "|   |   |   |   |   |   |   |   |   |   |--- Age_norm >  0.11\n",
            "|   |   |   |   |   |   |   |   |   |   |   |--- class: 3.0\n",
            "|   |   |   |   |   |   |   |   |   |--- Age_norm >  0.12\n",
            "|   |   |   |   |   |   |   |   |   |   |--- class: 0.0\n",
            "|   |   |   |   |   |   |   |   |--- Age_norm >  0.15\n",
            "|   |   |   |   |   |   |   |   |   |--- Age_norm <= 0.19\n",
            "|   |   |   |   |   |   |   |   |   |   |--- class: 3.0\n",
            "|   |   |   |   |   |   |   |   |   |--- Age_norm >  0.19\n",
            "|   |   |   |   |   |   |   |   |   |   |--- class: 3.0\n",
            "|   |   |   |   |   |   |   |--- Profession_code >  5.50\n",
            "|   |   |   |   |   |   |   |   |--- class: 3.0\n",
            "|   |   |   |   |   |   |--- Family_Size_norm >  0.06\n",
            "|   |   |   |   |   |   |   |--- Family_Size_norm <= 0.18\n",
            "|   |   |   |   |   |   |   |   |--- Age_norm <= 0.15\n",
            "|   |   |   |   |   |   |   |   |   |--- Income_Category_code <= 5.50\n",
            "|   |   |   |   |   |   |   |   |   |   |--- Age_norm <= 0.13\n",
            "|   |   |   |   |   |   |   |   |   |   |   |--- truncated branch of depth 5\n",
            "|   |   |   |   |   |   |   |   |   |   |--- Age_norm >  0.13\n",
            "|   |   |   |   |   |   |   |   |   |   |   |--- class: 1.0\n",
            "|   |   |   |   |   |   |   |   |   |--- Income_Category_code >  5.50\n",
            "|   |   |   |   |   |   |   |   |   |   |--- class: 3.0\n",
            "|   |   |   |   |   |   |   |   |--- Age_norm >  0.15\n",
            "|   |   |   |   |   |   |   |   |   |--- Profession_code <= 4.50\n",
            "|   |   |   |   |   |   |   |   |   |   |--- class: 3.0\n",
            "|   |   |   |   |   |   |   |   |   |--- Profession_code >  4.50\n",
            "|   |   |   |   |   |   |   |   |   |   |--- Age_norm <= 0.18\n",
            "|   |   |   |   |   |   |   |   |   |   |   |--- class: 2.0\n",
            "|   |   |   |   |   |   |   |   |   |   |--- Age_norm >  0.18\n",
            "|   |   |   |   |   |   |   |   |   |   |   |--- truncated branch of depth 2\n",
            "|   |   |   |   |   |   |   |--- Family_Size_norm >  0.18\n",
            "|   |   |   |   |   |   |   |   |--- Age_norm <= 0.16\n",
            "|   |   |   |   |   |   |   |   |   |--- Income_Category_code <= 4.50\n",
            "|   |   |   |   |   |   |   |   |   |   |--- Profession_code <= 6.50\n",
            "|   |   |   |   |   |   |   |   |   |   |   |--- class: 0.0\n",
            "|   |   |   |   |   |   |   |   |   |   |--- Profession_code >  6.50\n",
            "|   |   |   |   |   |   |   |   |   |   |   |--- class: 3.0\n",
            "|   |   |   |   |   |   |   |   |   |--- Income_Category_code >  4.50\n",
            "|   |   |   |   |   |   |   |   |   |   |--- Profession_code <= 4.50\n",
            "|   |   |   |   |   |   |   |   |   |   |   |--- truncated branch of depth 3\n",
            "|   |   |   |   |   |   |   |   |   |   |--- Profession_code >  4.50\n",
            "|   |   |   |   |   |   |   |   |   |   |   |--- class: 3.0\n",
            "|   |   |   |   |   |   |   |   |--- Age_norm >  0.16\n",
            "|   |   |   |   |   |   |   |   |   |--- Profession_code <= 4.50\n",
            "|   |   |   |   |   |   |   |   |   |   |--- class: 2.0\n",
            "|   |   |   |   |   |   |   |   |   |--- Profession_code >  4.50\n",
            "|   |   |   |   |   |   |   |   |   |   |--- Family_Size_norm <= 0.24\n",
            "|   |   |   |   |   |   |   |   |   |   |   |--- class: 3.0\n",
            "|   |   |   |   |   |   |   |   |   |   |--- Family_Size_norm >  0.24\n",
            "|   |   |   |   |   |   |   |   |   |   |   |--- truncated branch of depth 5\n",
            "|   |   |   |   |--- Family_Size_norm >  0.31\n",
            "|   |   |   |   |   |--- Age_norm <= 0.16\n",
            "|   |   |   |   |   |   |--- Family_Size_norm <= 0.69\n",
            "|   |   |   |   |   |   |   |--- Family_Size_norm <= 0.44\n",
            "|   |   |   |   |   |   |   |   |--- Age_norm <= 0.11\n",
            "|   |   |   |   |   |   |   |   |   |--- Income_Category_code <= 4.50\n",
            "|   |   |   |   |   |   |   |   |   |   |--- class: 2.0\n",
            "|   |   |   |   |   |   |   |   |   |--- Income_Category_code >  4.50\n",
            "|   |   |   |   |   |   |   |   |   |   |--- class: 2.0\n",
            "|   |   |   |   |   |   |   |   |--- Age_norm >  0.11\n",
            "|   |   |   |   |   |   |   |   |   |--- Age_norm <= 0.15\n",
            "|   |   |   |   |   |   |   |   |   |   |--- Age_norm <= 0.12\n",
            "|   |   |   |   |   |   |   |   |   |   |   |--- class: 0.0\n",
            "|   |   |   |   |   |   |   |   |   |   |--- Age_norm >  0.12\n",
            "|   |   |   |   |   |   |   |   |   |   |   |--- truncated branch of depth 3\n",
            "|   |   |   |   |   |   |   |   |   |--- Age_norm >  0.15\n",
            "|   |   |   |   |   |   |   |   |   |   |--- class: 2.0\n",
            "|   |   |   |   |   |   |   |--- Family_Size_norm >  0.44\n",
            "|   |   |   |   |   |   |   |   |--- Income_Category_code <= 5.50\n",
            "|   |   |   |   |   |   |   |   |   |--- Age_norm <= 0.11\n",
            "|   |   |   |   |   |   |   |   |   |   |--- Income_Category_code <= 4.00\n",
            "|   |   |   |   |   |   |   |   |   |   |   |--- class: 3.0\n",
            "|   |   |   |   |   |   |   |   |   |   |--- Income_Category_code >  4.00\n",
            "|   |   |   |   |   |   |   |   |   |   |   |--- truncated branch of depth 2\n",
            "|   |   |   |   |   |   |   |   |   |--- Age_norm >  0.11\n",
            "|   |   |   |   |   |   |   |   |   |   |--- class: 3.0\n",
            "|   |   |   |   |   |   |   |   |--- Income_Category_code >  5.50\n",
            "|   |   |   |   |   |   |   |   |   |--- class: 0.0\n",
            "|   |   |   |   |   |   |--- Family_Size_norm >  0.69\n",
            "|   |   |   |   |   |   |   |--- Age_norm <= 0.11\n",
            "|   |   |   |   |   |   |   |   |--- class: 3.0\n",
            "|   |   |   |   |   |   |   |--- Age_norm >  0.11\n",
            "|   |   |   |   |   |   |   |   |--- class: 2.0\n",
            "|   |   |   |   |   |--- Age_norm >  0.16\n",
            "|   |   |   |   |   |   |--- Age_norm <= 0.18\n",
            "|   |   |   |   |   |   |   |--- Income_Category_code <= 4.00\n",
            "|   |   |   |   |   |   |   |   |--- Profession_code <= 6.50\n",
            "|   |   |   |   |   |   |   |   |   |--- Family_Size_norm <= 0.44\n",
            "|   |   |   |   |   |   |   |   |   |   |--- class: 1.0\n",
            "|   |   |   |   |   |   |   |   |   |--- Family_Size_norm >  0.44\n",
            "|   |   |   |   |   |   |   |   |   |   |--- Family_Size_norm <= 0.56\n",
            "|   |   |   |   |   |   |   |   |   |   |   |--- class: 3.0\n",
            "|   |   |   |   |   |   |   |   |   |   |--- Family_Size_norm >  0.56\n",
            "|   |   |   |   |   |   |   |   |   |   |   |--- class: 2.0\n",
            "|   |   |   |   |   |   |   |   |--- Profession_code >  6.50\n",
            "|   |   |   |   |   |   |   |   |   |--- Family_Size_norm <= 0.44\n",
            "|   |   |   |   |   |   |   |   |   |   |--- class: 2.0\n",
            "|   |   |   |   |   |   |   |   |   |--- Family_Size_norm >  0.44\n",
            "|   |   |   |   |   |   |   |   |   |   |--- class: 1.0\n",
            "|   |   |   |   |   |   |   |--- Income_Category_code >  4.00\n",
            "|   |   |   |   |   |   |   |   |--- Family_Size_norm <= 0.56\n",
            "|   |   |   |   |   |   |   |   |   |--- Family_Size_norm <= 0.44\n",
            "|   |   |   |   |   |   |   |   |   |   |--- class: 1.0\n",
            "|   |   |   |   |   |   |   |   |   |--- Family_Size_norm >  0.44\n",
            "|   |   |   |   |   |   |   |   |   |   |--- class: 3.0\n",
            "|   |   |   |   |   |   |   |   |--- Family_Size_norm >  0.56\n",
            "|   |   |   |   |   |   |   |   |   |--- class: 0.0\n",
            "|   |   |   |   |   |   |--- Age_norm >  0.18\n",
            "|   |   |   |   |   |   |   |--- Age_norm <= 0.20\n",
            "|   |   |   |   |   |   |   |   |--- Family_Size_norm <= 0.44\n",
            "|   |   |   |   |   |   |   |   |   |--- Age_norm <= 0.19\n",
            "|   |   |   |   |   |   |   |   |   |   |--- class: 0.0\n",
            "|   |   |   |   |   |   |   |   |   |--- Age_norm >  0.19\n",
            "|   |   |   |   |   |   |   |   |   |   |--- Income_Category_code <= 4.00\n",
            "|   |   |   |   |   |   |   |   |   |   |   |--- class: 3.0\n",
            "|   |   |   |   |   |   |   |   |   |   |--- Income_Category_code >  4.00\n",
            "|   |   |   |   |   |   |   |   |   |   |   |--- class: 3.0\n",
            "|   |   |   |   |   |   |   |   |--- Family_Size_norm >  0.44\n",
            "|   |   |   |   |   |   |   |   |   |--- class: 3.0\n",
            "|   |   |   |   |   |   |   |--- Age_norm >  0.20\n",
            "|   |   |   |   |   |   |   |   |--- Family_Size_norm <= 0.44\n",
            "|   |   |   |   |   |   |   |   |   |--- class: 2.0\n",
            "|   |   |   |   |   |   |   |   |--- Family_Size_norm >  0.44\n",
            "|   |   |   |   |   |   |   |   |   |--- Income_Category_code <= 5.50\n",
            "|   |   |   |   |   |   |   |   |   |   |--- Income_Category_code <= 3.50\n",
            "|   |   |   |   |   |   |   |   |   |   |   |--- truncated branch of depth 2\n",
            "|   |   |   |   |   |   |   |   |   |   |--- Income_Category_code >  3.50\n",
            "|   |   |   |   |   |   |   |   |   |   |   |--- truncated branch of depth 3\n",
            "|   |   |   |   |   |   |   |   |   |--- Income_Category_code >  5.50\n",
            "|   |   |   |   |   |   |   |   |   |   |--- class: 2.0\n",
            "|--- Age_norm >  0.23\n",
            "|   |--- Profession_code <= 0.50\n",
            "|   |   |--- Family_Size_norm <= 0.06\n",
            "|   |   |   |--- Income_Category_code <= 5.50\n",
            "|   |   |   |   |--- Age_norm <= 0.68\n",
            "|   |   |   |   |   |--- Age_norm <= 0.39\n",
            "|   |   |   |   |   |   |--- Age_norm <= 0.32\n",
            "|   |   |   |   |   |   |   |--- Income_Category_code <= 2.50\n",
            "|   |   |   |   |   |   |   |   |--- Income_Category_code <= 1.50\n",
            "|   |   |   |   |   |   |   |   |   |--- class: 1.0\n",
            "|   |   |   |   |   |   |   |   |--- Income_Category_code >  1.50\n",
            "|   |   |   |   |   |   |   |   |   |--- Age_norm <= 0.27\n",
            "|   |   |   |   |   |   |   |   |   |   |--- class: 0.0\n",
            "|   |   |   |   |   |   |   |   |   |--- Age_norm >  0.27\n",
            "|   |   |   |   |   |   |   |   |   |   |--- class: 2.0\n",
            "|   |   |   |   |   |   |   |--- Income_Category_code >  2.50\n",
            "|   |   |   |   |   |   |   |   |--- Income_Category_code <= 4.50\n",
            "|   |   |   |   |   |   |   |   |   |--- class: 1.0\n",
            "|   |   |   |   |   |   |   |   |--- Income_Category_code >  4.50\n",
            "|   |   |   |   |   |   |   |   |   |--- Age_norm <= 0.30\n",
            "|   |   |   |   |   |   |   |   |   |   |--- Age_norm <= 0.27\n",
            "|   |   |   |   |   |   |   |   |   |   |   |--- truncated branch of depth 3\n",
            "|   |   |   |   |   |   |   |   |   |   |--- Age_norm >  0.27\n",
            "|   |   |   |   |   |   |   |   |   |   |   |--- truncated branch of depth 2\n",
            "|   |   |   |   |   |   |   |   |   |--- Age_norm >  0.30\n",
            "|   |   |   |   |   |   |   |   |   |   |--- class: 0.0\n",
            "|   |   |   |   |   |   |--- Age_norm >  0.32\n",
            "|   |   |   |   |   |   |   |--- Income_Category_code <= 3.50\n",
            "|   |   |   |   |   |   |   |   |--- Age_norm <= 0.35\n",
            "|   |   |   |   |   |   |   |   |   |--- class: 1.0\n",
            "|   |   |   |   |   |   |   |   |--- Age_norm >  0.35\n",
            "|   |   |   |   |   |   |   |   |   |--- class: 3.0\n",
            "|   |   |   |   |   |   |   |--- Income_Category_code >  3.50\n",
            "|   |   |   |   |   |   |   |   |--- Age_norm <= 0.33\n",
            "|   |   |   |   |   |   |   |   |   |--- class: 3.0\n",
            "|   |   |   |   |   |   |   |   |--- Age_norm >  0.33\n",
            "|   |   |   |   |   |   |   |   |   |--- Age_norm <= 0.37\n",
            "|   |   |   |   |   |   |   |   |   |   |--- Age_norm <= 0.35\n",
            "|   |   |   |   |   |   |   |   |   |   |   |--- class: 0.0\n",
            "|   |   |   |   |   |   |   |   |   |   |--- Age_norm >  0.35\n",
            "|   |   |   |   |   |   |   |   |   |   |   |--- class: 0.0\n",
            "|   |   |   |   |   |   |   |   |   |--- Age_norm >  0.37\n",
            "|   |   |   |   |   |   |   |   |   |   |--- class: 0.0\n",
            "|   |   |   |   |   |--- Age_norm >  0.39\n",
            "|   |   |   |   |   |   |--- Income_Category_code <= 0.50\n",
            "|   |   |   |   |   |   |   |--- class: 2.0\n",
            "|   |   |   |   |   |   |--- Income_Category_code >  0.50\n",
            "|   |   |   |   |   |   |   |--- Age_norm <= 0.44\n",
            "|   |   |   |   |   |   |   |   |--- Income_Category_code <= 4.00\n",
            "|   |   |   |   |   |   |   |   |   |--- class: 1.0\n",
            "|   |   |   |   |   |   |   |   |--- Income_Category_code >  4.00\n",
            "|   |   |   |   |   |   |   |   |   |--- Age_norm <= 0.40\n",
            "|   |   |   |   |   |   |   |   |   |   |--- class: 1.0\n",
            "|   |   |   |   |   |   |   |   |   |--- Age_norm >  0.40\n",
            "|   |   |   |   |   |   |   |   |   |   |--- Age_norm <= 0.43\n",
            "|   |   |   |   |   |   |   |   |   |   |   |--- truncated branch of depth 2\n",
            "|   |   |   |   |   |   |   |   |   |   |--- Age_norm >  0.43\n",
            "|   |   |   |   |   |   |   |   |   |   |   |--- class: 1.0\n",
            "|   |   |   |   |   |   |   |--- Age_norm >  0.44\n",
            "|   |   |   |   |   |   |   |   |--- Income_Category_code <= 4.00\n",
            "|   |   |   |   |   |   |   |   |   |--- Income_Category_code <= 2.50\n",
            "|   |   |   |   |   |   |   |   |   |   |--- Age_norm <= 0.51\n",
            "|   |   |   |   |   |   |   |   |   |   |   |--- class: 0.0\n",
            "|   |   |   |   |   |   |   |   |   |   |--- Age_norm >  0.51\n",
            "|   |   |   |   |   |   |   |   |   |   |   |--- truncated branch of depth 2\n",
            "|   |   |   |   |   |   |   |   |   |--- Income_Category_code >  2.50\n",
            "|   |   |   |   |   |   |   |   |   |   |--- class: 3.0\n",
            "|   |   |   |   |   |   |   |   |--- Income_Category_code >  4.00\n",
            "|   |   |   |   |   |   |   |   |   |--- Age_norm <= 0.49\n",
            "|   |   |   |   |   |   |   |   |   |   |--- class: 1.0\n",
            "|   |   |   |   |   |   |   |   |   |--- Age_norm >  0.49\n",
            "|   |   |   |   |   |   |   |   |   |   |--- Age_norm <= 0.61\n",
            "|   |   |   |   |   |   |   |   |   |   |   |--- truncated branch of depth 5\n",
            "|   |   |   |   |   |   |   |   |   |   |--- Age_norm >  0.61\n",
            "|   |   |   |   |   |   |   |   |   |   |   |--- truncated branch of depth 3\n",
            "|   |   |   |   |--- Age_norm >  0.68\n",
            "|   |   |   |   |   |--- Income_Category_code <= 4.00\n",
            "|   |   |   |   |   |   |--- class: 3.0\n",
            "|   |   |   |   |   |--- Income_Category_code >  4.00\n",
            "|   |   |   |   |   |   |--- Age_norm <= 0.70\n",
            "|   |   |   |   |   |   |   |--- class: 3.0\n",
            "|   |   |   |   |   |   |--- Age_norm >  0.70\n",
            "|   |   |   |   |   |   |   |--- Age_norm <= 0.74\n",
            "|   |   |   |   |   |   |   |   |--- Age_norm <= 0.71\n",
            "|   |   |   |   |   |   |   |   |   |--- class: 0.0\n",
            "|   |   |   |   |   |   |   |   |--- Age_norm >  0.71\n",
            "|   |   |   |   |   |   |   |   |   |--- class: 0.0\n",
            "|   |   |   |   |   |   |   |--- Age_norm >  0.74\n",
            "|   |   |   |   |   |   |   |   |--- Age_norm <= 0.87\n",
            "|   |   |   |   |   |   |   |   |   |--- class: 1.0\n",
            "|   |   |   |   |   |   |   |   |--- Age_norm >  0.87\n",
            "|   |   |   |   |   |   |   |   |   |--- class: 0.0\n",
            "|   |   |   |--- Income_Category_code >  5.50\n",
            "|   |   |   |   |--- class: 2.0\n",
            "|   |   |--- Family_Size_norm >  0.06\n",
            "|   |   |   |--- Age_norm <= 0.40\n",
            "|   |   |   |   |--- Family_Size_norm <= 0.44\n",
            "|   |   |   |   |   |--- Income_Category_code <= 5.50\n",
            "|   |   |   |   |   |   |--- Income_Category_code <= 1.50\n",
            "|   |   |   |   |   |   |   |--- Income_Category_code <= 0.50\n",
            "|   |   |   |   |   |   |   |   |--- Family_Size_norm <= 0.31\n",
            "|   |   |   |   |   |   |   |   |   |--- class: 3.0\n",
            "|   |   |   |   |   |   |   |   |--- Family_Size_norm >  0.31\n",
            "|   |   |   |   |   |   |   |   |   |--- Age_norm <= 0.34\n",
            "|   |   |   |   |   |   |   |   |   |   |--- class: 2.0\n",
            "|   |   |   |   |   |   |   |   |   |--- Age_norm >  0.34\n",
            "|   |   |   |   |   |   |   |   |   |   |--- class: 0.0\n",
            "|   |   |   |   |   |   |   |--- Income_Category_code >  0.50\n",
            "|   |   |   |   |   |   |   |   |--- Age_norm <= 0.33\n",
            "|   |   |   |   |   |   |   |   |   |--- Family_Size_norm <= 0.31\n",
            "|   |   |   |   |   |   |   |   |   |   |--- Age_norm <= 0.27\n",
            "|   |   |   |   |   |   |   |   |   |   |   |--- class: 1.0\n",
            "|   |   |   |   |   |   |   |   |   |   |--- Age_norm >  0.27\n",
            "|   |   |   |   |   |   |   |   |   |   |   |--- truncated branch of depth 3\n",
            "|   |   |   |   |   |   |   |   |   |--- Family_Size_norm >  0.31\n",
            "|   |   |   |   |   |   |   |   |   |   |--- class: 1.0\n",
            "|   |   |   |   |   |   |   |   |--- Age_norm >  0.33\n",
            "|   |   |   |   |   |   |   |   |   |--- Family_Size_norm <= 0.19\n",
            "|   |   |   |   |   |   |   |   |   |   |--- class: 1.0\n",
            "|   |   |   |   |   |   |   |   |   |--- Family_Size_norm >  0.19\n",
            "|   |   |   |   |   |   |   |   |   |   |--- class: 2.0\n",
            "|   |   |   |   |   |   |--- Income_Category_code >  1.50\n",
            "|   |   |   |   |   |   |   |--- Family_Size_norm <= 0.18\n",
            "|   |   |   |   |   |   |   |   |--- Age_norm <= 0.25\n",
            "|   |   |   |   |   |   |   |   |   |--- Income_Category_code <= 4.00\n",
            "|   |   |   |   |   |   |   |   |   |   |--- class: 1.0\n",
            "|   |   |   |   |   |   |   |   |   |--- Income_Category_code >  4.00\n",
            "|   |   |   |   |   |   |   |   |   |   |--- class: 1.0\n",
            "|   |   |   |   |   |   |   |   |--- Age_norm >  0.25\n",
            "|   |   |   |   |   |   |   |   |   |--- Age_norm <= 0.39\n",
            "|   |   |   |   |   |   |   |   |   |   |--- Age_norm <= 0.35\n",
            "|   |   |   |   |   |   |   |   |   |   |   |--- truncated branch of depth 6\n",
            "|   |   |   |   |   |   |   |   |   |   |--- Age_norm >  0.35\n",
            "|   |   |   |   |   |   |   |   |   |   |   |--- truncated branch of depth 2\n",
            "|   |   |   |   |   |   |   |   |   |--- Age_norm >  0.39\n",
            "|   |   |   |   |   |   |   |   |   |   |--- Income_Category_code <= 3.50\n",
            "|   |   |   |   |   |   |   |   |   |   |   |--- class: 2.0\n",
            "|   |   |   |   |   |   |   |   |   |   |--- Income_Category_code >  3.50\n",
            "|   |   |   |   |   |   |   |   |   |   |   |--- class: 2.0\n",
            "|   |   |   |   |   |   |   |--- Family_Size_norm >  0.18\n",
            "|   |   |   |   |   |   |   |   |--- Income_Category_code <= 4.00\n",
            "|   |   |   |   |   |   |   |   |   |--- Age_norm <= 0.25\n",
            "|   |   |   |   |   |   |   |   |   |   |--- class: 0.0\n",
            "|   |   |   |   |   |   |   |   |   |--- Age_norm >  0.25\n",
            "|   |   |   |   |   |   |   |   |   |   |--- Age_norm <= 0.29\n",
            "|   |   |   |   |   |   |   |   |   |   |   |--- class: 1.0\n",
            "|   |   |   |   |   |   |   |   |   |   |--- Age_norm >  0.29\n",
            "|   |   |   |   |   |   |   |   |   |   |   |--- truncated branch of depth 4\n",
            "|   |   |   |   |   |   |   |   |--- Income_Category_code >  4.00\n",
            "|   |   |   |   |   |   |   |   |   |--- Family_Size_norm <= 0.31\n",
            "|   |   |   |   |   |   |   |   |   |   |--- Age_norm <= 0.29\n",
            "|   |   |   |   |   |   |   |   |   |   |   |--- truncated branch of depth 3\n",
            "|   |   |   |   |   |   |   |   |   |   |--- Age_norm >  0.29\n",
            "|   |   |   |   |   |   |   |   |   |   |   |--- truncated branch of depth 6\n",
            "|   |   |   |   |   |   |   |   |   |--- Family_Size_norm >  0.31\n",
            "|   |   |   |   |   |   |   |   |   |   |--- Age_norm <= 0.39\n",
            "|   |   |   |   |   |   |   |   |   |   |   |--- truncated branch of depth 5\n",
            "|   |   |   |   |   |   |   |   |   |   |--- Age_norm >  0.39\n",
            "|   |   |   |   |   |   |   |   |   |   |   |--- class: 1.0\n",
            "|   |   |   |   |   |--- Income_Category_code >  5.50\n",
            "|   |   |   |   |   |   |--- Age_norm <= 0.25\n",
            "|   |   |   |   |   |   |   |--- Family_Size_norm <= 0.18\n",
            "|   |   |   |   |   |   |   |   |--- class: 0.0\n",
            "|   |   |   |   |   |   |   |--- Family_Size_norm >  0.18\n",
            "|   |   |   |   |   |   |   |   |--- Family_Size_norm <= 0.30\n",
            "|   |   |   |   |   |   |   |   |   |--- class: 2.0\n",
            "|   |   |   |   |   |   |   |   |--- Family_Size_norm >  0.30\n",
            "|   |   |   |   |   |   |   |   |   |--- class: 0.0\n",
            "|   |   |   |   |   |   |--- Age_norm >  0.25\n",
            "|   |   |   |   |   |   |   |--- class: 2.0\n",
            "|   |   |   |   |--- Family_Size_norm >  0.44\n",
            "|   |   |   |   |   |--- Age_norm <= 0.29\n",
            "|   |   |   |   |   |   |--- Income_Category_code <= 4.00\n",
            "|   |   |   |   |   |   |   |--- Family_Size_norm <= 0.62\n",
            "|   |   |   |   |   |   |   |   |--- class: 3.0\n",
            "|   |   |   |   |   |   |   |--- Family_Size_norm >  0.62\n",
            "|   |   |   |   |   |   |   |   |--- class: 2.0\n",
            "|   |   |   |   |   |   |--- Income_Category_code >  4.00\n",
            "|   |   |   |   |   |   |   |--- class: 2.0\n",
            "|   |   |   |   |   |--- Age_norm >  0.29\n",
            "|   |   |   |   |   |   |--- Age_norm <= 0.33\n",
            "|   |   |   |   |   |   |   |--- class: 1.0\n",
            "|   |   |   |   |   |   |--- Age_norm >  0.33\n",
            "|   |   |   |   |   |   |   |--- Family_Size_norm <= 0.88\n",
            "|   |   |   |   |   |   |   |   |--- Family_Size_norm <= 0.62\n",
            "|   |   |   |   |   |   |   |   |   |--- Income_Category_code <= 3.50\n",
            "|   |   |   |   |   |   |   |   |   |   |--- Age_norm <= 0.36\n",
            "|   |   |   |   |   |   |   |   |   |   |   |--- class: 2.0\n",
            "|   |   |   |   |   |   |   |   |   |   |--- Age_norm >  0.36\n",
            "|   |   |   |   |   |   |   |   |   |   |   |--- class: 1.0\n",
            "|   |   |   |   |   |   |   |   |   |--- Income_Category_code >  3.50\n",
            "|   |   |   |   |   |   |   |   |   |   |--- Age_norm <= 0.36\n",
            "|   |   |   |   |   |   |   |   |   |   |   |--- class: 1.0\n",
            "|   |   |   |   |   |   |   |   |   |   |--- Age_norm >  0.36\n",
            "|   |   |   |   |   |   |   |   |   |   |   |--- class: 2.0\n",
            "|   |   |   |   |   |   |   |   |--- Family_Size_norm >  0.62\n",
            "|   |   |   |   |   |   |   |   |   |--- class: 2.0\n",
            "|   |   |   |   |   |   |   |--- Family_Size_norm >  0.88\n",
            "|   |   |   |   |   |   |   |   |--- class: 1.0\n",
            "|   |   |   |--- Age_norm >  0.40\n",
            "|   |   |   |   |--- Family_Size_norm <= 0.24\n",
            "|   |   |   |   |   |--- Age_norm <= 0.73\n",
            "|   |   |   |   |   |   |--- Age_norm <= 0.51\n",
            "|   |   |   |   |   |   |   |--- Age_norm <= 0.49\n",
            "|   |   |   |   |   |   |   |   |--- Age_norm <= 0.46\n",
            "|   |   |   |   |   |   |   |   |   |--- Family_Size_norm <= 0.18\n",
            "|   |   |   |   |   |   |   |   |   |   |--- Income_Category_code <= 5.50\n",
            "|   |   |   |   |   |   |   |   |   |   |   |--- truncated branch of depth 5\n",
            "|   |   |   |   |   |   |   |   |   |   |--- Income_Category_code >  5.50\n",
            "|   |   |   |   |   |   |   |   |   |   |   |--- class: 0.0\n",
            "|   |   |   |   |   |   |   |   |   |--- Family_Size_norm >  0.18\n",
            "|   |   |   |   |   |   |   |   |   |   |--- class: 3.0\n",
            "|   |   |   |   |   |   |   |   |--- Age_norm >  0.46\n",
            "|   |   |   |   |   |   |   |   |   |--- Family_Size_norm <= 0.18\n",
            "|   |   |   |   |   |   |   |   |   |   |--- Age_norm <= 0.47\n",
            "|   |   |   |   |   |   |   |   |   |   |   |--- truncated branch of depth 2\n",
            "|   |   |   |   |   |   |   |   |   |   |--- Age_norm >  0.47\n",
            "|   |   |   |   |   |   |   |   |   |   |   |--- class: 2.0\n",
            "|   |   |   |   |   |   |   |   |   |--- Family_Size_norm >  0.18\n",
            "|   |   |   |   |   |   |   |   |   |   |--- class: 0.0\n",
            "|   |   |   |   |   |   |   |--- Age_norm >  0.49\n",
            "|   |   |   |   |   |   |   |   |--- class: 0.0\n",
            "|   |   |   |   |   |   |--- Age_norm >  0.51\n",
            "|   |   |   |   |   |   |   |--- Age_norm <= 0.54\n",
            "|   |   |   |   |   |   |   |   |--- Income_Category_code <= 5.50\n",
            "|   |   |   |   |   |   |   |   |   |--- Age_norm <= 0.53\n",
            "|   |   |   |   |   |   |   |   |   |   |--- class: 1.0\n",
            "|   |   |   |   |   |   |   |   |   |--- Age_norm >  0.53\n",
            "|   |   |   |   |   |   |   |   |   |   |--- class: 1.0\n",
            "|   |   |   |   |   |   |   |   |--- Income_Category_code >  5.50\n",
            "|   |   |   |   |   |   |   |   |   |--- class: 0.0\n",
            "|   |   |   |   |   |   |   |--- Age_norm >  0.54\n",
            "|   |   |   |   |   |   |   |   |--- Age_norm <= 0.65\n",
            "|   |   |   |   |   |   |   |   |   |--- Income_Category_code <= 4.00\n",
            "|   |   |   |   |   |   |   |   |   |   |--- Age_norm <= 0.61\n",
            "|   |   |   |   |   |   |   |   |   |   |   |--- class: 1.0\n",
            "|   |   |   |   |   |   |   |   |   |   |--- Age_norm >  0.61\n",
            "|   |   |   |   |   |   |   |   |   |   |   |--- class: 3.0\n",
            "|   |   |   |   |   |   |   |   |   |--- Income_Category_code >  4.00\n",
            "|   |   |   |   |   |   |   |   |   |   |--- Family_Size_norm <= 0.18\n",
            "|   |   |   |   |   |   |   |   |   |   |   |--- truncated branch of depth 6\n",
            "|   |   |   |   |   |   |   |   |   |   |--- Family_Size_norm >  0.18\n",
            "|   |   |   |   |   |   |   |   |   |   |   |--- class: 0.0\n",
            "|   |   |   |   |   |   |   |   |--- Age_norm >  0.65\n",
            "|   |   |   |   |   |   |   |   |   |--- Income_Category_code <= 3.50\n",
            "|   |   |   |   |   |   |   |   |   |   |--- class: 2.0\n",
            "|   |   |   |   |   |   |   |   |   |--- Income_Category_code >  3.50\n",
            "|   |   |   |   |   |   |   |   |   |   |--- Age_norm <= 0.68\n",
            "|   |   |   |   |   |   |   |   |   |   |   |--- class: 1.0\n",
            "|   |   |   |   |   |   |   |   |   |   |--- Age_norm >  0.68\n",
            "|   |   |   |   |   |   |   |   |   |   |   |--- truncated branch of depth 2\n",
            "|   |   |   |   |   |--- Age_norm >  0.73\n",
            "|   |   |   |   |   |   |--- Age_norm <= 0.81\n",
            "|   |   |   |   |   |   |   |--- Age_norm <= 0.76\n",
            "|   |   |   |   |   |   |   |   |--- class: 2.0\n",
            "|   |   |   |   |   |   |   |--- Age_norm >  0.76\n",
            "|   |   |   |   |   |   |   |   |--- Income_Category_code <= 3.50\n",
            "|   |   |   |   |   |   |   |   |   |--- class: 2.0\n",
            "|   |   |   |   |   |   |   |   |--- Income_Category_code >  3.50\n",
            "|   |   |   |   |   |   |   |   |   |--- Age_norm <= 0.79\n",
            "|   |   |   |   |   |   |   |   |   |   |--- class: 1.0\n",
            "|   |   |   |   |   |   |   |   |   |--- Age_norm >  0.79\n",
            "|   |   |   |   |   |   |   |   |   |   |--- class: 2.0\n",
            "|   |   |   |   |   |   |--- Age_norm >  0.81\n",
            "|   |   |   |   |   |   |   |--- Age_norm <= 0.90\n",
            "|   |   |   |   |   |   |   |   |--- class: 0.0\n",
            "|   |   |   |   |   |   |   |--- Age_norm >  0.90\n",
            "|   |   |   |   |   |   |   |   |--- class: 2.0\n",
            "|   |   |   |   |--- Family_Size_norm >  0.24\n",
            "|   |   |   |   |   |--- Age_norm <= 0.86\n",
            "|   |   |   |   |   |   |--- Income_Category_code <= 4.50\n",
            "|   |   |   |   |   |   |   |--- Income_Category_code <= 2.50\n",
            "|   |   |   |   |   |   |   |   |--- Age_norm <= 0.57\n",
            "|   |   |   |   |   |   |   |   |   |--- Family_Size_norm <= 0.69\n",
            "|   |   |   |   |   |   |   |   |   |   |--- class: 2.0\n",
            "|   |   |   |   |   |   |   |   |   |--- Family_Size_norm >  0.69\n",
            "|   |   |   |   |   |   |   |   |   |   |--- class: 1.0\n",
            "|   |   |   |   |   |   |   |   |--- Age_norm >  0.57\n",
            "|   |   |   |   |   |   |   |   |   |--- Income_Category_code <= 1.50\n",
            "|   |   |   |   |   |   |   |   |   |   |--- class: 1.0\n",
            "|   |   |   |   |   |   |   |   |   |--- Income_Category_code >  1.50\n",
            "|   |   |   |   |   |   |   |   |   |   |--- class: 0.0\n",
            "|   |   |   |   |   |   |   |--- Income_Category_code >  2.50\n",
            "|   |   |   |   |   |   |   |   |--- Family_Size_norm <= 0.38\n",
            "|   |   |   |   |   |   |   |   |   |--- Age_norm <= 0.63\n",
            "|   |   |   |   |   |   |   |   |   |   |--- Income_Category_code <= 3.50\n",
            "|   |   |   |   |   |   |   |   |   |   |   |--- truncated branch of depth 3\n",
            "|   |   |   |   |   |   |   |   |   |   |--- Income_Category_code >  3.50\n",
            "|   |   |   |   |   |   |   |   |   |   |   |--- class: 1.0\n",
            "|   |   |   |   |   |   |   |   |   |--- Age_norm >  0.63\n",
            "|   |   |   |   |   |   |   |   |   |   |--- Age_norm <= 0.66\n",
            "|   |   |   |   |   |   |   |   |   |   |   |--- class: 2.0\n",
            "|   |   |   |   |   |   |   |   |   |   |--- Age_norm >  0.66\n",
            "|   |   |   |   |   |   |   |   |   |   |   |--- class: 0.0\n",
            "|   |   |   |   |   |   |   |   |--- Family_Size_norm >  0.38\n",
            "|   |   |   |   |   |   |   |   |   |--- Age_norm <= 0.50\n",
            "|   |   |   |   |   |   |   |   |   |   |--- class: 2.0\n",
            "|   |   |   |   |   |   |   |   |   |--- Age_norm >  0.50\n",
            "|   |   |   |   |   |   |   |   |   |   |--- Family_Size_norm <= 0.56\n",
            "|   |   |   |   |   |   |   |   |   |   |   |--- class: 3.0\n",
            "|   |   |   |   |   |   |   |   |   |   |--- Family_Size_norm >  0.56\n",
            "|   |   |   |   |   |   |   |   |   |   |   |--- class: 1.0\n",
            "|   |   |   |   |   |   |--- Income_Category_code >  4.50\n",
            "|   |   |   |   |   |   |   |--- Age_norm <= 0.61\n",
            "|   |   |   |   |   |   |   |   |--- Age_norm <= 0.43\n",
            "|   |   |   |   |   |   |   |   |   |--- Family_Size_norm <= 0.31\n",
            "|   |   |   |   |   |   |   |   |   |   |--- class: 0.0\n",
            "|   |   |   |   |   |   |   |   |   |--- Family_Size_norm >  0.31\n",
            "|   |   |   |   |   |   |   |   |   |   |--- Age_norm <= 0.42\n",
            "|   |   |   |   |   |   |   |   |   |   |   |--- class: 2.0\n",
            "|   |   |   |   |   |   |   |   |   |   |--- Age_norm >  0.42\n",
            "|   |   |   |   |   |   |   |   |   |   |   |--- class: 2.0\n",
            "|   |   |   |   |   |   |   |   |--- Age_norm >  0.43\n",
            "|   |   |   |   |   |   |   |   |   |--- Age_norm <= 0.46\n",
            "|   |   |   |   |   |   |   |   |   |   |--- Family_Size_norm <= 0.31\n",
            "|   |   |   |   |   |   |   |   |   |   |   |--- truncated branch of depth 2\n",
            "|   |   |   |   |   |   |   |   |   |   |--- Family_Size_norm >  0.31\n",
            "|   |   |   |   |   |   |   |   |   |   |   |--- truncated branch of depth 4\n",
            "|   |   |   |   |   |   |   |   |   |--- Age_norm >  0.46\n",
            "|   |   |   |   |   |   |   |   |   |   |--- Family_Size_norm <= 0.50\n",
            "|   |   |   |   |   |   |   |   |   |   |   |--- truncated branch of depth 6\n",
            "|   |   |   |   |   |   |   |   |   |   |--- Family_Size_norm >  0.50\n",
            "|   |   |   |   |   |   |   |   |   |   |   |--- truncated branch of depth 2\n",
            "|   |   |   |   |   |   |   |--- Age_norm >  0.61\n",
            "|   |   |   |   |   |   |   |   |--- Age_norm <= 0.69\n",
            "|   |   |   |   |   |   |   |   |   |--- Family_Size_norm <= 0.31\n",
            "|   |   |   |   |   |   |   |   |   |   |--- Age_norm <= 0.63\n",
            "|   |   |   |   |   |   |   |   |   |   |   |--- class: 0.0\n",
            "|   |   |   |   |   |   |   |   |   |   |--- Age_norm >  0.63\n",
            "|   |   |   |   |   |   |   |   |   |   |   |--- class: 2.0\n",
            "|   |   |   |   |   |   |   |   |   |--- Family_Size_norm >  0.31\n",
            "|   |   |   |   |   |   |   |   |   |   |--- Family_Size_norm <= 0.62\n",
            "|   |   |   |   |   |   |   |   |   |   |   |--- class: 0.0\n",
            "|   |   |   |   |   |   |   |   |   |   |--- Family_Size_norm >  0.62\n",
            "|   |   |   |   |   |   |   |   |   |   |   |--- class: 2.0\n",
            "|   |   |   |   |   |   |   |   |--- Age_norm >  0.69\n",
            "|   |   |   |   |   |   |   |   |   |--- class: 2.0\n",
            "|   |   |   |   |   |--- Age_norm >  0.86\n",
            "|   |   |   |   |   |   |--- class: 3.0\n",
            "|   |--- Profession_code >  0.50\n",
            "|   |   |--- Profession_code <= 7.50\n",
            "|   |   |   |--- Family_Size_norm <= 0.24\n",
            "|   |   |   |   |--- Income_Category_code <= 4.50\n",
            "|   |   |   |   |   |--- Age_norm <= 0.97\n",
            "|   |   |   |   |   |   |--- Family_Size_norm <= 0.18\n",
            "|   |   |   |   |   |   |   |--- Age_norm <= 0.37\n",
            "|   |   |   |   |   |   |   |   |--- Profession_code <= 6.50\n",
            "|   |   |   |   |   |   |   |   |   |--- Profession_code <= 1.50\n",
            "|   |   |   |   |   |   |   |   |   |   |--- Income_Category_code <= 2.50\n",
            "|   |   |   |   |   |   |   |   |   |   |   |--- truncated branch of depth 3\n",
            "|   |   |   |   |   |   |   |   |   |   |--- Income_Category_code >  2.50\n",
            "|   |   |   |   |   |   |   |   |   |   |   |--- class: 1.0\n",
            "|   |   |   |   |   |   |   |   |   |--- Profession_code >  1.50\n",
            "|   |   |   |   |   |   |   |   |   |   |--- Age_norm <= 0.26\n",
            "|   |   |   |   |   |   |   |   |   |   |   |--- truncated branch of depth 2\n",
            "|   |   |   |   |   |   |   |   |   |   |--- Age_norm >  0.26\n",
            "|   |   |   |   |   |   |   |   |   |   |   |--- truncated branch of depth 10\n",
            "|   |   |   |   |   |   |   |   |--- Profession_code >  6.50\n",
            "|   |   |   |   |   |   |   |   |   |--- class: 2.0\n",
            "|   |   |   |   |   |   |   |--- Age_norm >  0.37\n",
            "|   |   |   |   |   |   |   |   |--- Age_norm <= 0.50\n",
            "|   |   |   |   |   |   |   |   |   |--- Age_norm <= 0.42\n",
            "|   |   |   |   |   |   |   |   |   |   |--- class: 1.0\n",
            "|   |   |   |   |   |   |   |   |   |--- Age_norm >  0.42\n",
            "|   |   |   |   |   |   |   |   |   |   |--- Age_norm <= 0.46\n",
            "|   |   |   |   |   |   |   |   |   |   |   |--- truncated branch of depth 6\n",
            "|   |   |   |   |   |   |   |   |   |   |--- Age_norm >  0.46\n",
            "|   |   |   |   |   |   |   |   |   |   |   |--- truncated branch of depth 2\n",
            "|   |   |   |   |   |   |   |   |--- Age_norm >  0.50\n",
            "|   |   |   |   |   |   |   |   |   |--- Age_norm <= 0.61\n",
            "|   |   |   |   |   |   |   |   |   |   |--- Income_Category_code <= 0.50\n",
            "|   |   |   |   |   |   |   |   |   |   |   |--- class: 1.0\n",
            "|   |   |   |   |   |   |   |   |   |   |--- Income_Category_code >  0.50\n",
            "|   |   |   |   |   |   |   |   |   |   |   |--- class: 0.0\n",
            "|   |   |   |   |   |   |   |   |   |--- Age_norm >  0.61\n",
            "|   |   |   |   |   |   |   |   |   |   |--- Income_Category_code <= 3.50\n",
            "|   |   |   |   |   |   |   |   |   |   |   |--- truncated branch of depth 7\n",
            "|   |   |   |   |   |   |   |   |   |   |--- Income_Category_code >  3.50\n",
            "|   |   |   |   |   |   |   |   |   |   |   |--- class: 0.0\n",
            "|   |   |   |   |   |   |--- Family_Size_norm >  0.18\n",
            "|   |   |   |   |   |   |   |--- Income_Category_code <= 2.50\n",
            "|   |   |   |   |   |   |   |   |--- Age_norm <= 0.42\n",
            "|   |   |   |   |   |   |   |   |   |--- class: 0.0\n",
            "|   |   |   |   |   |   |   |   |--- Age_norm >  0.42\n",
            "|   |   |   |   |   |   |   |   |   |--- class: 1.0\n",
            "|   |   |   |   |   |   |   |--- Income_Category_code >  2.50\n",
            "|   |   |   |   |   |   |   |   |--- class: 0.0\n",
            "|   |   |   |   |   |--- Age_norm >  0.97\n",
            "|   |   |   |   |   |   |--- class: 2.0\n",
            "|   |   |   |   |--- Income_Category_code >  4.50\n",
            "|   |   |   |   |   |--- Family_Size_norm <= 0.06\n",
            "|   |   |   |   |   |   |--- Profession_code <= 3.50\n",
            "|   |   |   |   |   |   |   |--- Age_norm <= 0.70\n",
            "|   |   |   |   |   |   |   |   |--- Age_norm <= 0.26\n",
            "|   |   |   |   |   |   |   |   |   |--- class: 0.0\n",
            "|   |   |   |   |   |   |   |   |--- Age_norm >  0.26\n",
            "|   |   |   |   |   |   |   |   |   |--- Age_norm <= 0.29\n",
            "|   |   |   |   |   |   |   |   |   |   |--- Profession_code <= 2.50\n",
            "|   |   |   |   |   |   |   |   |   |   |   |--- class: 1.0\n",
            "|   |   |   |   |   |   |   |   |   |   |--- Profession_code >  2.50\n",
            "|   |   |   |   |   |   |   |   |   |   |   |--- truncated branch of depth 2\n",
            "|   |   |   |   |   |   |   |   |   |--- Age_norm >  0.29\n",
            "|   |   |   |   |   |   |   |   |   |   |--- Profession_code <= 1.50\n",
            "|   |   |   |   |   |   |   |   |   |   |   |--- truncated branch of depth 5\n",
            "|   |   |   |   |   |   |   |   |   |   |--- Profession_code >  1.50\n",
            "|   |   |   |   |   |   |   |   |   |   |   |--- truncated branch of depth 6\n",
            "|   |   |   |   |   |   |   |--- Age_norm >  0.70\n",
            "|   |   |   |   |   |   |   |   |--- Age_norm <= 0.80\n",
            "|   |   |   |   |   |   |   |   |   |--- class: 1.0\n",
            "|   |   |   |   |   |   |   |   |--- Age_norm >  0.80\n",
            "|   |   |   |   |   |   |   |   |   |--- class: 2.0\n",
            "|   |   |   |   |   |   |--- Profession_code >  3.50\n",
            "|   |   |   |   |   |   |   |--- Age_norm <= 0.79\n",
            "|   |   |   |   |   |   |   |   |--- Age_norm <= 0.29\n",
            "|   |   |   |   |   |   |   |   |   |--- Age_norm <= 0.25\n",
            "|   |   |   |   |   |   |   |   |   |   |--- Profession_code <= 5.50\n",
            "|   |   |   |   |   |   |   |   |   |   |   |--- class: 3.0\n",
            "|   |   |   |   |   |   |   |   |   |   |--- Profession_code >  5.50\n",
            "|   |   |   |   |   |   |   |   |   |   |   |--- class: 2.0\n",
            "|   |   |   |   |   |   |   |   |   |--- Age_norm >  0.25\n",
            "|   |   |   |   |   |   |   |   |   |   |--- class: 3.0\n",
            "|   |   |   |   |   |   |   |   |--- Age_norm >  0.29\n",
            "|   |   |   |   |   |   |   |   |   |--- Profession_code <= 5.50\n",
            "|   |   |   |   |   |   |   |   |   |   |--- Age_norm <= 0.32\n",
            "|   |   |   |   |   |   |   |   |   |   |   |--- class: 1.0\n",
            "|   |   |   |   |   |   |   |   |   |   |--- Age_norm >  0.32\n",
            "|   |   |   |   |   |   |   |   |   |   |   |--- class: 3.0\n",
            "|   |   |   |   |   |   |   |   |   |--- Profession_code >  5.50\n",
            "|   |   |   |   |   |   |   |   |   |   |--- Age_norm <= 0.34\n",
            "|   |   |   |   |   |   |   |   |   |   |   |--- class: 0.0\n",
            "|   |   |   |   |   |   |   |   |   |   |--- Age_norm >  0.34\n",
            "|   |   |   |   |   |   |   |   |   |   |   |--- truncated branch of depth 7\n",
            "|   |   |   |   |   |   |   |--- Age_norm >  0.79\n",
            "|   |   |   |   |   |   |   |   |--- Profession_code <= 6.50\n",
            "|   |   |   |   |   |   |   |   |   |--- Age_norm <= 0.82\n",
            "|   |   |   |   |   |   |   |   |   |   |--- class: 2.0\n",
            "|   |   |   |   |   |   |   |   |   |--- Age_norm >  0.82\n",
            "|   |   |   |   |   |   |   |   |   |   |--- class: 3.0\n",
            "|   |   |   |   |   |   |   |   |--- Profession_code >  6.50\n",
            "|   |   |   |   |   |   |   |   |   |--- Age_norm <= 0.85\n",
            "|   |   |   |   |   |   |   |   |   |   |--- class: 0.0\n",
            "|   |   |   |   |   |   |   |   |   |--- Age_norm >  0.85\n",
            "|   |   |   |   |   |   |   |   |   |   |--- Age_norm <= 0.99\n",
            "|   |   |   |   |   |   |   |   |   |   |   |--- truncated branch of depth 5\n",
            "|   |   |   |   |   |   |   |   |   |   |--- Age_norm >  0.99\n",
            "|   |   |   |   |   |   |   |   |   |   |   |--- class: 0.0\n",
            "|   |   |   |   |   |--- Family_Size_norm >  0.06\n",
            "|   |   |   |   |   |   |--- Profession_code <= 1.50\n",
            "|   |   |   |   |   |   |   |--- Age_norm <= 0.25\n",
            "|   |   |   |   |   |   |   |   |--- class: 3.0\n",
            "|   |   |   |   |   |   |   |--- Age_norm >  0.25\n",
            "|   |   |   |   |   |   |   |   |--- Income_Category_code <= 5.50\n",
            "|   |   |   |   |   |   |   |   |   |--- Age_norm <= 0.30\n",
            "|   |   |   |   |   |   |   |   |   |   |--- Age_norm <= 0.27\n",
            "|   |   |   |   |   |   |   |   |   |   |   |--- class: 0.0\n",
            "|   |   |   |   |   |   |   |   |   |   |--- Age_norm >  0.27\n",
            "|   |   |   |   |   |   |   |   |   |   |   |--- class: 0.0\n",
            "|   |   |   |   |   |   |   |   |   |--- Age_norm >  0.30\n",
            "|   |   |   |   |   |   |   |   |   |   |--- Age_norm <= 0.33\n",
            "|   |   |   |   |   |   |   |   |   |   |   |--- class: 1.0\n",
            "|   |   |   |   |   |   |   |   |   |   |--- Age_norm >  0.33\n",
            "|   |   |   |   |   |   |   |   |   |   |   |--- truncated branch of depth 3\n",
            "|   |   |   |   |   |   |   |   |--- Income_Category_code >  5.50\n",
            "|   |   |   |   |   |   |   |   |   |--- class: 1.0\n",
            "|   |   |   |   |   |   |--- Profession_code >  1.50\n",
            "|   |   |   |   |   |   |   |--- Age_norm <= 0.99\n",
            "|   |   |   |   |   |   |   |   |--- Age_norm <= 0.33\n",
            "|   |   |   |   |   |   |   |   |   |--- Age_norm <= 0.30\n",
            "|   |   |   |   |   |   |   |   |   |   |--- Profession_code <= 6.50\n",
            "|   |   |   |   |   |   |   |   |   |   |   |--- truncated branch of depth 7\n",
            "|   |   |   |   |   |   |   |   |   |   |--- Profession_code >  6.50\n",
            "|   |   |   |   |   |   |   |   |   |   |   |--- class: 2.0\n",
            "|   |   |   |   |   |   |   |   |   |--- Age_norm >  0.30\n",
            "|   |   |   |   |   |   |   |   |   |   |--- Age_norm <= 0.32\n",
            "|   |   |   |   |   |   |   |   |   |   |   |--- truncated branch of depth 3\n",
            "|   |   |   |   |   |   |   |   |   |   |--- Age_norm >  0.32\n",
            "|   |   |   |   |   |   |   |   |   |   |   |--- truncated branch of depth 3\n",
            "|   |   |   |   |   |   |   |   |--- Age_norm >  0.33\n",
            "|   |   |   |   |   |   |   |   |   |--- Age_norm <= 0.42\n",
            "|   |   |   |   |   |   |   |   |   |   |--- Age_norm <= 0.37\n",
            "|   |   |   |   |   |   |   |   |   |   |   |--- truncated branch of depth 5\n",
            "|   |   |   |   |   |   |   |   |   |   |--- Age_norm >  0.37\n",
            "|   |   |   |   |   |   |   |   |   |   |   |--- truncated branch of depth 3\n",
            "|   |   |   |   |   |   |   |   |   |--- Age_norm >  0.42\n",
            "|   |   |   |   |   |   |   |   |   |   |--- Age_norm <= 0.44\n",
            "|   |   |   |   |   |   |   |   |   |   |   |--- class: 3.0\n",
            "|   |   |   |   |   |   |   |   |   |   |--- Age_norm >  0.44\n",
            "|   |   |   |   |   |   |   |   |   |   |   |--- truncated branch of depth 12\n",
            "|   |   |   |   |   |   |   |--- Age_norm >  0.99\n",
            "|   |   |   |   |   |   |   |   |--- class: 0.0\n",
            "|   |   |   |--- Family_Size_norm >  0.24\n",
            "|   |   |   |   |--- Age_norm <= 0.42\n",
            "|   |   |   |   |   |--- Age_norm <= 0.25\n",
            "|   |   |   |   |   |   |--- Family_Size_norm <= 0.31\n",
            "|   |   |   |   |   |   |   |--- Income_Category_code <= 3.50\n",
            "|   |   |   |   |   |   |   |   |--- class: 1.0\n",
            "|   |   |   |   |   |   |   |--- Income_Category_code >  3.50\n",
            "|   |   |   |   |   |   |   |   |--- class: 0.0\n",
            "|   |   |   |   |   |   |--- Family_Size_norm >  0.31\n",
            "|   |   |   |   |   |   |   |--- Profession_code <= 3.50\n",
            "|   |   |   |   |   |   |   |   |--- class: 2.0\n",
            "|   |   |   |   |   |   |   |--- Profession_code >  3.50\n",
            "|   |   |   |   |   |   |   |   |--- Profession_code <= 4.50\n",
            "|   |   |   |   |   |   |   |   |   |--- class: 0.0\n",
            "|   |   |   |   |   |   |   |   |--- Profession_code >  4.50\n",
            "|   |   |   |   |   |   |   |   |   |--- class: 2.0\n",
            "|   |   |   |   |   |--- Age_norm >  0.25\n",
            "|   |   |   |   |   |   |--- Age_norm <= 0.30\n",
            "|   |   |   |   |   |   |   |--- Profession_code <= 4.50\n",
            "|   |   |   |   |   |   |   |   |--- Profession_code <= 3.50\n",
            "|   |   |   |   |   |   |   |   |   |--- Profession_code <= 1.50\n",
            "|   |   |   |   |   |   |   |   |   |   |--- Age_norm <= 0.26\n",
            "|   |   |   |   |   |   |   |   |   |   |   |--- class: 1.0\n",
            "|   |   |   |   |   |   |   |   |   |   |--- Age_norm >  0.26\n",
            "|   |   |   |   |   |   |   |   |   |   |   |--- truncated branch of depth 3\n",
            "|   |   |   |   |   |   |   |   |   |--- Profession_code >  1.50\n",
            "|   |   |   |   |   |   |   |   |   |   |--- Profession_code <= 2.50\n",
            "|   |   |   |   |   |   |   |   |   |   |   |--- truncated branch of depth 4\n",
            "|   |   |   |   |   |   |   |   |   |   |--- Profession_code >  2.50\n",
            "|   |   |   |   |   |   |   |   |   |   |   |--- truncated branch of depth 4\n",
            "|   |   |   |   |   |   |   |   |--- Profession_code >  3.50\n",
            "|   |   |   |   |   |   |   |   |   |--- Family_Size_norm <= 0.31\n",
            "|   |   |   |   |   |   |   |   |   |   |--- Income_Category_code <= 4.00\n",
            "|   |   |   |   |   |   |   |   |   |   |   |--- class: 1.0\n",
            "|   |   |   |   |   |   |   |   |   |   |--- Income_Category_code >  4.00\n",
            "|   |   |   |   |   |   |   |   |   |   |   |--- truncated branch of depth 2\n",
            "|   |   |   |   |   |   |   |   |   |--- Family_Size_norm >  0.31\n",
            "|   |   |   |   |   |   |   |   |   |   |--- Age_norm <= 0.26\n",
            "|   |   |   |   |   |   |   |   |   |   |   |--- class: 0.0\n",
            "|   |   |   |   |   |   |   |   |   |   |--- Age_norm >  0.26\n",
            "|   |   |   |   |   |   |   |   |   |   |   |--- truncated branch of depth 2\n",
            "|   |   |   |   |   |   |   |--- Profession_code >  4.50\n",
            "|   |   |   |   |   |   |   |   |--- class: 0.0\n",
            "|   |   |   |   |   |   |--- Age_norm >  0.30\n",
            "|   |   |   |   |   |   |   |--- Family_Size_norm <= 0.69\n",
            "|   |   |   |   |   |   |   |   |--- Family_Size_norm <= 0.56\n",
            "|   |   |   |   |   |   |   |   |   |--- Age_norm <= 0.33\n",
            "|   |   |   |   |   |   |   |   |   |   |--- Age_norm <= 0.32\n",
            "|   |   |   |   |   |   |   |   |   |   |   |--- truncated branch of depth 5\n",
            "|   |   |   |   |   |   |   |   |   |   |--- Age_norm >  0.32\n",
            "|   |   |   |   |   |   |   |   |   |   |   |--- truncated branch of depth 4\n",
            "|   |   |   |   |   |   |   |   |   |--- Age_norm >  0.33\n",
            "|   |   |   |   |   |   |   |   |   |   |--- Age_norm <= 0.35\n",
            "|   |   |   |   |   |   |   |   |   |   |   |--- truncated branch of depth 6\n",
            "|   |   |   |   |   |   |   |   |   |   |--- Age_norm >  0.35\n",
            "|   |   |   |   |   |   |   |   |   |   |   |--- truncated branch of depth 9\n",
            "|   |   |   |   |   |   |   |   |--- Family_Size_norm >  0.56\n",
            "|   |   |   |   |   |   |   |   |   |--- Income_Category_code <= 4.00\n",
            "|   |   |   |   |   |   |   |   |   |   |--- class: 1.0\n",
            "|   |   |   |   |   |   |   |   |   |--- Income_Category_code >  4.00\n",
            "|   |   |   |   |   |   |   |   |   |   |--- Age_norm <= 0.35\n",
            "|   |   |   |   |   |   |   |   |   |   |   |--- truncated branch of depth 2\n",
            "|   |   |   |   |   |   |   |   |   |   |--- Age_norm >  0.35\n",
            "|   |   |   |   |   |   |   |   |   |   |   |--- class: 2.0\n",
            "|   |   |   |   |   |   |   |--- Family_Size_norm >  0.69\n",
            "|   |   |   |   |   |   |   |   |--- class: 0.0\n",
            "|   |   |   |   |--- Age_norm >  0.42\n",
            "|   |   |   |   |   |--- Profession_code <= 2.50\n",
            "|   |   |   |   |   |   |--- Age_norm <= 0.68\n",
            "|   |   |   |   |   |   |   |--- Family_Size_norm <= 0.56\n",
            "|   |   |   |   |   |   |   |   |--- Family_Size_norm <= 0.31\n",
            "|   |   |   |   |   |   |   |   |   |--- Income_Category_code <= 1.50\n",
            "|   |   |   |   |   |   |   |   |   |   |--- class: 3.0\n",
            "|   |   |   |   |   |   |   |   |   |--- Income_Category_code >  1.50\n",
            "|   |   |   |   |   |   |   |   |   |   |--- Age_norm <= 0.65\n",
            "|   |   |   |   |   |   |   |   |   |   |   |--- truncated branch of depth 5\n",
            "|   |   |   |   |   |   |   |   |   |   |--- Age_norm >  0.65\n",
            "|   |   |   |   |   |   |   |   |   |   |   |--- class: 0.0\n",
            "|   |   |   |   |   |   |   |   |--- Family_Size_norm >  0.31\n",
            "|   |   |   |   |   |   |   |   |   |--- Age_norm <= 0.43\n",
            "|   |   |   |   |   |   |   |   |   |   |--- class: 3.0\n",
            "|   |   |   |   |   |   |   |   |   |--- Age_norm >  0.43\n",
            "|   |   |   |   |   |   |   |   |   |   |--- Age_norm <= 0.61\n",
            "|   |   |   |   |   |   |   |   |   |   |   |--- class: 1.0\n",
            "|   |   |   |   |   |   |   |   |   |   |--- Age_norm >  0.61\n",
            "|   |   |   |   |   |   |   |   |   |   |   |--- truncated branch of depth 2\n",
            "|   |   |   |   |   |   |   |--- Family_Size_norm >  0.56\n",
            "|   |   |   |   |   |   |   |   |--- Age_norm <= 0.49\n",
            "|   |   |   |   |   |   |   |   |   |--- class: 0.0\n",
            "|   |   |   |   |   |   |   |   |--- Age_norm >  0.49\n",
            "|   |   |   |   |   |   |   |   |   |--- class: 0.0\n",
            "|   |   |   |   |   |   |--- Age_norm >  0.68\n",
            "|   |   |   |   |   |   |   |--- class: 2.0\n",
            "|   |   |   |   |   |--- Profession_code >  2.50\n",
            "|   |   |   |   |   |   |--- Family_Size_norm <= 0.31\n",
            "|   |   |   |   |   |   |   |--- Profession_code <= 4.50\n",
            "|   |   |   |   |   |   |   |   |--- Profession_code <= 3.50\n",
            "|   |   |   |   |   |   |   |   |   |--- Age_norm <= 0.54\n",
            "|   |   |   |   |   |   |   |   |   |   |--- Age_norm <= 0.53\n",
            "|   |   |   |   |   |   |   |   |   |   |   |--- truncated branch of depth 3\n",
            "|   |   |   |   |   |   |   |   |   |   |--- Age_norm >  0.53\n",
            "|   |   |   |   |   |   |   |   |   |   |   |--- class: 0.0\n",
            "|   |   |   |   |   |   |   |   |   |--- Age_norm >  0.54\n",
            "|   |   |   |   |   |   |   |   |   |   |--- Income_Category_code <= 4.00\n",
            "|   |   |   |   |   |   |   |   |   |   |   |--- class: 3.0\n",
            "|   |   |   |   |   |   |   |   |   |   |--- Income_Category_code >  4.00\n",
            "|   |   |   |   |   |   |   |   |   |   |   |--- class: 2.0\n",
            "|   |   |   |   |   |   |   |   |--- Profession_code >  3.50\n",
            "|   |   |   |   |   |   |   |   |   |--- Age_norm <= 0.73\n",
            "|   |   |   |   |   |   |   |   |   |   |--- Age_norm <= 0.44\n",
            "|   |   |   |   |   |   |   |   |   |   |   |--- class: 1.0\n",
            "|   |   |   |   |   |   |   |   |   |   |--- Age_norm >  0.44\n",
            "|   |   |   |   |   |   |   |   |   |   |   |--- truncated branch of depth 5\n",
            "|   |   |   |   |   |   |   |   |   |--- Age_norm >  0.73\n",
            "|   |   |   |   |   |   |   |   |   |   |--- class: 0.0\n",
            "|   |   |   |   |   |   |   |--- Profession_code >  4.50\n",
            "|   |   |   |   |   |   |   |   |--- Age_norm <= 0.89\n",
            "|   |   |   |   |   |   |   |   |   |--- Age_norm <= 0.49\n",
            "|   |   |   |   |   |   |   |   |   |   |--- class: 3.0\n",
            "|   |   |   |   |   |   |   |   |   |--- Age_norm >  0.49\n",
            "|   |   |   |   |   |   |   |   |   |   |--- Profession_code <= 6.00\n",
            "|   |   |   |   |   |   |   |   |   |   |   |--- class: 1.0\n",
            "|   |   |   |   |   |   |   |   |   |   |--- Profession_code >  6.00\n",
            "|   |   |   |   |   |   |   |   |   |   |   |--- truncated branch of depth 4\n",
            "|   |   |   |   |   |   |   |   |--- Age_norm >  0.89\n",
            "|   |   |   |   |   |   |   |   |   |--- Age_norm <= 0.93\n",
            "|   |   |   |   |   |   |   |   |   |   |--- class: 0.0\n",
            "|   |   |   |   |   |   |   |   |   |--- Age_norm >  0.93\n",
            "|   |   |   |   |   |   |   |   |   |   |--- class: 0.0\n",
            "|   |   |   |   |   |   |--- Family_Size_norm >  0.31\n",
            "|   |   |   |   |   |   |   |--- Age_norm <= 0.55\n",
            "|   |   |   |   |   |   |   |   |--- Income_Category_code <= 3.50\n",
            "|   |   |   |   |   |   |   |   |   |--- Age_norm <= 0.46\n",
            "|   |   |   |   |   |   |   |   |   |   |--- class: 1.0\n",
            "|   |   |   |   |   |   |   |   |   |--- Age_norm >  0.46\n",
            "|   |   |   |   |   |   |   |   |   |   |--- Income_Category_code <= 2.50\n",
            "|   |   |   |   |   |   |   |   |   |   |   |--- truncated branch of depth 3\n",
            "|   |   |   |   |   |   |   |   |   |   |--- Income_Category_code >  2.50\n",
            "|   |   |   |   |   |   |   |   |   |   |   |--- class: 1.0\n",
            "|   |   |   |   |   |   |   |   |--- Income_Category_code >  3.50\n",
            "|   |   |   |   |   |   |   |   |   |--- Profession_code <= 6.00\n",
            "|   |   |   |   |   |   |   |   |   |   |--- Age_norm <= 0.46\n",
            "|   |   |   |   |   |   |   |   |   |   |   |--- truncated branch of depth 4\n",
            "|   |   |   |   |   |   |   |   |   |   |--- Age_norm >  0.46\n",
            "|   |   |   |   |   |   |   |   |   |   |   |--- truncated branch of depth 4\n",
            "|   |   |   |   |   |   |   |   |   |--- Profession_code >  6.00\n",
            "|   |   |   |   |   |   |   |   |   |   |--- class: 1.0\n",
            "|   |   |   |   |   |   |   |--- Age_norm >  0.55\n",
            "|   |   |   |   |   |   |   |   |--- Family_Size_norm <= 0.44\n",
            "|   |   |   |   |   |   |   |   |   |--- Age_norm <= 0.70\n",
            "|   |   |   |   |   |   |   |   |   |   |--- Age_norm <= 0.68\n",
            "|   |   |   |   |   |   |   |   |   |   |   |--- truncated branch of depth 5\n",
            "|   |   |   |   |   |   |   |   |   |   |--- Age_norm >  0.68\n",
            "|   |   |   |   |   |   |   |   |   |   |   |--- class: 3.0\n",
            "|   |   |   |   |   |   |   |   |   |--- Age_norm >  0.70\n",
            "|   |   |   |   |   |   |   |   |   |   |--- Age_norm <= 0.77\n",
            "|   |   |   |   |   |   |   |   |   |   |   |--- truncated branch of depth 3\n",
            "|   |   |   |   |   |   |   |   |   |   |--- Age_norm >  0.77\n",
            "|   |   |   |   |   |   |   |   |   |   |   |--- class: 1.0\n",
            "|   |   |   |   |   |   |   |   |--- Family_Size_norm >  0.44\n",
            "|   |   |   |   |   |   |   |   |   |--- Profession_code <= 3.50\n",
            "|   |   |   |   |   |   |   |   |   |   |--- Income_Category_code <= 3.50\n",
            "|   |   |   |   |   |   |   |   |   |   |   |--- class: 1.0\n",
            "|   |   |   |   |   |   |   |   |   |   |--- Income_Category_code >  3.50\n",
            "|   |   |   |   |   |   |   |   |   |   |   |--- truncated branch of depth 2\n",
            "|   |   |   |   |   |   |   |   |   |--- Profession_code >  3.50\n",
            "|   |   |   |   |   |   |   |   |   |   |--- Family_Size_norm <= 0.69\n",
            "|   |   |   |   |   |   |   |   |   |   |   |--- class: 0.0\n",
            "|   |   |   |   |   |   |   |   |   |   |--- Family_Size_norm >  0.69\n",
            "|   |   |   |   |   |   |   |   |   |   |   |--- class: 3.0\n",
            "|   |   |--- Profession_code >  7.50\n",
            "|   |   |   |--- Age_norm <= 0.37\n",
            "|   |   |   |   |--- Family_Size_norm <= 0.06\n",
            "|   |   |   |   |   |--- Age_norm <= 0.30\n",
            "|   |   |   |   |   |   |--- class: 0.0\n",
            "|   |   |   |   |   |--- Age_norm >  0.30\n",
            "|   |   |   |   |   |   |--- class: 3.0\n",
            "|   |   |   |   |--- Family_Size_norm >  0.06\n",
            "|   |   |   |   |   |--- Age_norm <= 0.31\n",
            "|   |   |   |   |   |   |--- class: 3.0\n",
            "|   |   |   |   |   |--- Age_norm >  0.31\n",
            "|   |   |   |   |   |   |--- Age_norm <= 0.33\n",
            "|   |   |   |   |   |   |   |--- class: 1.0\n",
            "|   |   |   |   |   |   |--- Age_norm >  0.33\n",
            "|   |   |   |   |   |   |   |--- class: 3.0\n",
            "|   |   |   |--- Age_norm >  0.37\n",
            "|   |   |   |   |--- Family_Size_norm <= 0.31\n",
            "|   |   |   |   |   |--- Age_norm <= 0.58\n",
            "|   |   |   |   |   |   |--- Age_norm <= 0.42\n",
            "|   |   |   |   |   |   |   |--- Family_Size_norm <= 0.12\n",
            "|   |   |   |   |   |   |   |   |--- class: 3.0\n",
            "|   |   |   |   |   |   |   |--- Family_Size_norm >  0.12\n",
            "|   |   |   |   |   |   |   |   |--- Family_Size_norm <= 0.24\n",
            "|   |   |   |   |   |   |   |   |   |--- class: 2.0\n",
            "|   |   |   |   |   |   |   |   |--- Family_Size_norm >  0.24\n",
            "|   |   |   |   |   |   |   |   |   |--- class: 0.0\n",
            "|   |   |   |   |   |   |--- Age_norm >  0.42\n",
            "|   |   |   |   |   |   |   |--- Age_norm <= 0.47\n",
            "|   |   |   |   |   |   |   |   |--- class: 0.0\n",
            "|   |   |   |   |   |   |   |--- Age_norm >  0.47\n",
            "|   |   |   |   |   |   |   |   |--- Family_Size_norm <= 0.06\n",
            "|   |   |   |   |   |   |   |   |   |--- class: 1.0\n",
            "|   |   |   |   |   |   |   |   |--- Family_Size_norm >  0.06\n",
            "|   |   |   |   |   |   |   |   |   |--- class: 0.0\n",
            "|   |   |   |   |   |--- Age_norm >  0.58\n",
            "|   |   |   |   |   |   |--- Income_Category_code <= 3.50\n",
            "|   |   |   |   |   |   |   |--- class: 0.0\n",
            "|   |   |   |   |   |   |--- Income_Category_code >  3.50\n",
            "|   |   |   |   |   |   |   |--- Age_norm <= 0.69\n",
            "|   |   |   |   |   |   |   |   |--- class: 3.0\n",
            "|   |   |   |   |   |   |   |--- Age_norm >  0.69\n",
            "|   |   |   |   |   |   |   |   |--- Age_norm <= 0.79\n",
            "|   |   |   |   |   |   |   |   |   |--- class: 0.0\n",
            "|   |   |   |   |   |   |   |   |--- Age_norm >  0.79\n",
            "|   |   |   |   |   |   |   |   |   |--- class: 3.0\n",
            "|   |   |   |   |--- Family_Size_norm >  0.31\n",
            "|   |   |   |   |   |--- class: 3.0\n",
            "\n"
          ]
        }
      ],
      "source": [
        "# Decision Tree : Model Rules\n",
        "dtc_model_rules = export_text(dtc_model, feature_names = list(df_ppd_inputs_names)); print(dtc_model_rules)"
      ]
    },
    {
      "cell_type": "code",
      "execution_count": null,
      "id": "90debe04",
      "metadata": {
        "id": "90debe04",
        "outputId": "65b2799b-221f-4e03-d1ef-d3b0f5277c4c"
      },
      "outputs": [
        {
          "data": {
            "text/html": [
              "<div>\n",
              "<style scoped>\n",
              "    .dataframe tbody tr th:only-of-type {\n",
              "        vertical-align: middle;\n",
              "    }\n",
              "\n",
              "    .dataframe tbody tr th {\n",
              "        vertical-align: top;\n",
              "    }\n",
              "\n",
              "    .dataframe thead th {\n",
              "        text-align: right;\n",
              "    }\n",
              "</style>\n",
              "<table border=\"1\" class=\"dataframe\">\n",
              "  <thead>\n",
              "    <tr style=\"text-align: right;\">\n",
              "      <th></th>\n",
              "      <th>feature</th>\n",
              "      <th>importance</th>\n",
              "    </tr>\n",
              "  </thead>\n",
              "  <tbody>\n",
              "    <tr>\n",
              "      <th>2</th>\n",
              "      <td>Age_norm</td>\n",
              "      <td>0.518</td>\n",
              "    </tr>\n",
              "    <tr>\n",
              "      <th>3</th>\n",
              "      <td>Family_Size_norm</td>\n",
              "      <td>0.176</td>\n",
              "    </tr>\n",
              "    <tr>\n",
              "      <th>0</th>\n",
              "      <td>Profession_code</td>\n",
              "      <td>0.170</td>\n",
              "    </tr>\n",
              "    <tr>\n",
              "      <th>1</th>\n",
              "      <td>Income_Category_code</td>\n",
              "      <td>0.135</td>\n",
              "    </tr>\n",
              "  </tbody>\n",
              "</table>\n",
              "</div>"
            ],
            "text/plain": [
              "                feature  importance\n",
              "2              Age_norm       0.518\n",
              "3      Family_Size_norm       0.176\n",
              "0       Profession_code       0.170\n",
              "1  Income_Category_code       0.135"
            ]
          },
          "execution_count": 80,
          "metadata": {},
          "output_type": "execute_result"
        }
      ],
      "source": [
        "# Decision Tree : Feature Importance\n",
        "dtc_imp_features = pd.DataFrame({'feature': df_ppd_inputs_names, 'importance': np.round(dtc_model.feature_importances_, 3)})\n",
        "dtc_imp_features.sort_values('importance', ascending=False, inplace=True); dtc_imp_features"
      ]
    },
    {
      "cell_type": "code",
      "execution_count": null,
      "id": "bedda1c5",
      "metadata": {
        "id": "bedda1c5",
        "outputId": "966d365d-84bb-4e24-caa3-825ac9edf656"
      },
      "outputs": [
        {
          "data": {
            "text/plain": [
              "array([1., 1., 2., ..., 0., 0., 0.])"
            ]
          },
          "execution_count": 85,
          "metadata": {},
          "output_type": "execute_result"
        }
      ],
      "source": [
        "# Decision Tree : Model Prediction (Training Subset)\n",
        "dtc_model_predict = dtc_model.predict(train_df_ppd_inputs); dtc_model_predict"
      ]
    },
    {
      "cell_type": "code",
      "execution_count": null,
      "id": "b38eba5d",
      "metadata": {
        "id": "b38eba5d",
        "outputId": "cc287196-af6e-4bd5-9e47-e598ed0b7f26"
      },
      "outputs": [
        {
          "data": {
            "text/plain": [
              "array([1., 2., 3., 2., 3., 3., 2., 2., 1., 3., 0., 2., 0., 2., 0., 0., 3.,\n",
              "       2., 1., 1., 1., 1., 2., 0., 2., 1., 3., 1., 1., 2., 0., 2., 2., 2.,\n",
              "       3., 1., 3., 1., 1., 2., 2., 1., 2., 0., 0., 1., 0., 1., 0., 1., 3.,\n",
              "       0., 1., 0., 1., 2., 0., 3., 3., 1., 0., 2., 2., 1., 1., 0., 0., 2.,\n",
              "       2., 0., 2., 2., 2., 0., 0., 3., 3., 1., 0., 1., 1., 2., 0., 2., 3.,\n",
              "       2., 3., 0., 0., 2., 1., 3., 0., 0., 2., 3., 0., 3., 3., 3., 0., 3.,\n",
              "       2., 1., 1., 3., 2., 0., 3., 3., 1., 2., 2., 0., 0., 0., 1., 0., 1.,\n",
              "       0., 0., 2., 0., 3., 3., 0., 2., 3., 2., 0., 3., 2., 0., 2., 1., 2.,\n",
              "       1., 0., 0., 0., 0., 0., 3., 3., 1., 2., 0., 3., 0., 0., 3., 0., 0.,\n",
              "       0., 1., 3., 3., 0., 0., 0., 1., 1., 3., 0., 0., 0., 0., 0., 0., 3.,\n",
              "       3., 3., 1., 2., 2., 2., 1., 0., 1., 1., 3., 2., 1., 1., 3., 0., 2.,\n",
              "       1., 1., 1., 2., 0., 3., 0., 3., 1., 3., 2., 3., 2., 2., 3., 0., 3.,\n",
              "       0., 2., 2., 0., 3., 0., 1., 0., 1., 0., 3., 2., 1., 3., 0., 0., 0.,\n",
              "       0., 0., 1., 2., 3., 1., 0., 2., 0., 1., 0., 0., 1., 1., 3., 1., 0.,\n",
              "       2., 2., 1., 2., 3., 3., 1., 2., 3., 3., 1., 1., 0., 3., 0., 0., 3.,\n",
              "       1., 0., 0., 1., 1., 2., 2., 3., 3., 2., 3., 0., 3., 0., 1., 1., 2.,\n",
              "       1., 2., 1., 3., 1., 3., 2., 1., 1., 0., 1., 1., 0., 1., 2., 2., 3.,\n",
              "       2., 0., 2., 3., 3., 3., 2., 2., 0., 0., 0., 0., 0., 0., 3., 3., 1.,\n",
              "       2., 1., 2., 0., 2., 2., 0., 2., 3., 3., 0., 3., 3., 1., 0., 3., 0.,\n",
              "       1., 2., 3., 0., 0., 2., 1., 3., 0., 0., 1., 0., 1., 0., 3., 2., 3.,\n",
              "       3., 2., 1., 1., 1., 3., 1., 1., 1., 1., 2., 0., 0., 0., 0., 2., 0.,\n",
              "       0., 1., 2., 1., 2., 3., 3., 0., 3., 2., 1., 0., 1., 0., 3., 1., 3.,\n",
              "       2., 1., 2., 3., 3., 0., 0., 2., 0., 1., 3., 2., 2., 2., 1., 2., 2.,\n",
              "       0., 0., 3., 1., 1., 1., 0., 0., 0., 2., 3., 0., 2., 0., 0., 3., 1.,\n",
              "       0., 3., 1., 3., 0., 2., 2., 2., 3., 1., 1., 1., 1., 3., 1., 3., 0.,\n",
              "       3., 3., 1., 2., 1., 1., 0., 2., 2., 3., 2., 0., 2., 2., 2., 0., 0.,\n",
              "       1., 1., 0., 0., 3., 3., 1., 1., 1., 3., 1., 3., 0., 1., 1., 1., 0.,\n",
              "       0., 2., 3., 3., 2., 0., 3., 1., 1., 3., 1., 3., 3., 0., 0., 0., 2.,\n",
              "       1., 2., 2., 0., 2., 0., 1., 3., 1., 1., 3., 0., 2., 2., 0., 1., 3.,\n",
              "       1., 1., 0., 1., 2., 3., 3.])"
            ]
          },
          "execution_count": 86,
          "metadata": {},
          "output_type": "execute_result"
        }
      ],
      "source": [
        "# Decision Tree : Prediction (Testing Subset)\n",
        "dtc_predict = dtc_model.predict(test_df_ppd_inputs); dtc_predict\n"
      ]
    },
    {
      "cell_type": "code",
      "execution_count": null,
      "id": "0b3bd49e",
      "metadata": {
        "id": "0b3bd49e",
        "outputId": "36dcf130-f26d-499e-e39a-cec8256318a8"
      },
      "outputs": [
        {
          "name": "stdout",
          "output_type": "stream",
          "text": [
            "              precision    recall  f1-score   support\n",
            "\n",
            "         0.0       0.77      0.91      0.83       388\n",
            "         1.0       0.82      0.82      0.82       348\n",
            "         2.0       0.84      0.81      0.83       343\n",
            "         3.0       0.96      0.82      0.89       421\n",
            "\n",
            "    accuracy                           0.84      1500\n",
            "   macro avg       0.85      0.84      0.84      1500\n",
            "weighted avg       0.85      0.84      0.84      1500\n",
            "\n"
          ]
        }
      ],
      "source": [
        "# Decision Tree : Model Evaluation (Training Subset)\n",
        "dtc_model_conf_mat = pd.DataFrame(confusion_matrix(train_df_ppd_output, dtc_model_predict)); dtc_model_conf_mat\n",
        "dtc_model_perf = classification_report(train_df_ppd_output, dtc_model_predict); print(dtc_model_perf)"
      ]
    },
    {
      "cell_type": "code",
      "execution_count": null,
      "id": "59309068",
      "metadata": {
        "id": "59309068",
        "outputId": "ab324982-25b7-48e6-fa1c-f28554295899"
      },
      "outputs": [
        {
          "name": "stdout",
          "output_type": "stream",
          "text": [
            "              precision    recall  f1-score   support\n",
            "\n",
            "         0.0       0.31      0.35      0.33       127\n",
            "         1.0       0.28      0.31      0.29       112\n",
            "         2.0       0.32      0.31      0.32       115\n",
            "         3.0       0.61      0.47      0.53       146\n",
            "\n",
            "    accuracy                           0.37       500\n",
            "   macro avg       0.38      0.36      0.37       500\n",
            "weighted avg       0.39      0.37      0.38       500\n",
            "\n"
          ]
        }
      ],
      "source": [
        "# Decision Tree : Prediction Evaluation (Testing Subset)\n",
        "dtc_predict_conf_mat = pd.DataFrame(confusion_matrix(test_df_ppd_output, dtc_predict)); dtc_predict_conf_mat\n",
        "dtc_predict_perf = classification_report(test_df_ppd_output, dtc_predict); print(dtc_predict_perf)"
      ]
    },
    {
      "cell_type": "code",
      "execution_count": null,
      "id": "f4624140",
      "metadata": {
        "id": "f4624140",
        "outputId": "080541e9-b0af-4d3e-8d89-1191da4d8031"
      },
      "outputs": [
        {
          "data": {
            "image/png": "[encoded data removed]",
            "text/plain": [
              "<Figure size 640x480 with 1 Axes>"
            ]
          },
          "metadata": {},
          "output_type": "display_data"
        }
      ],
      "source": [
        "# Decision Tree : Plot [Training Subset]\n",
        "train_subset_dtc_plot = plot_tree(dtc_model, feature_names=df_ppd_inputs_names, class_names=df_ppd_output_labels, rounded=True, filled=True, fontsize=10)\n",
        "plt.show()"
      ]
    },
    {
      "cell_type": "code",
      "execution_count": null,
      "id": "1c35c1f4",
      "metadata": {
        "id": "1c35c1f4",
        "outputId": "7eae13d8-48f7-48db-eca4-c8678a0af000"
      },
      "outputs": [
        {
          "data": {
            "image/png": "[encoded data removed]",
            "text/plain": [
              "<Figure size 640x480 with 2 Axes>"
            ]
          },
          "metadata": {},
          "output_type": "display_data"
        }
      ],
      "source": [
        "# Confusion Matrix : Plot [Testing Subset]\n",
        "ax = plt.axes()\n",
        "sns.heatmap(dtc_predict_conf_mat, annot=True, cmap='Paired')\n",
        "ax.set_xlabel('Predicted Label')\n",
        "ax.set_ylabel('True Label')\n",
        "ax.set_title('Decision Tree : Confusion Matrix')\n",
        "plt.show()"
      ]
    },
    {
      "cell_type": "markdown",
      "id": "e4cdafe6",
      "metadata": {
        "deletable": false,
        "editable": false,
        "id": "e4cdafe6"
      },
      "source": [
        "### -----------------------------------------------------------------------------------------------------------------------------------------------------------"
      ]
    },
    {
      "cell_type": "markdown",
      "id": "84a03c85",
      "metadata": {
        "deletable": false,
        "editable": false,
        "id": "84a03c85"
      },
      "source": [
        "### Part A : Data Analysis :: III. Unsupervised Learning ::: Custering - K-Means\n",
        "#### 1. Take any 5 variables of One's choice and Create (i) A Two-Cluster Model; & (ii) A Three-Cluster Model from the Records\n",
        "#### 2. Recommend the best out of 2 Models {2-Cluster | 3-Cluster} based on Silhouette & Davies-Bouldin Scores\n",
        "\n",
        "##### Note : Use One's Roll Number as \"random_state\""
      ]
    },
    {
      "cell_type": "code",
      "execution_count": null,
      "id": "00e54431",
      "metadata": {
        "id": "00e54431",
        "outputId": "cf001062-d192-41a7-a615-2759bb6fde8f"
      },
      "outputs": [
        {
          "data": {
            "text/plain": [
              "Index(['Gender', 'Graduate', 'Married', 'Profession', 'Income_Category',\n",
              "       'Spending_Category', 'Customer_Category', 'gender_code', 'Gradute_code',\n",
              "       'Married_code', 'Profession_code', 'Income_Category_code',\n",
              "       'Spending_Category_code', 'Customer_Category_code', 'Age',\n",
              "       'Family_Size', 'Work_Experience', 'Age_norm', 'Family_Size_norm',\n",
              "       'Work_Experience_norm'],\n",
              "      dtype='object')"
            ]
          },
          "execution_count": 93,
          "metadata": {},
          "output_type": "execute_result"
        }
      ],
      "source": [
        "df_ppd.columns"
      ]
    },
    {
      "cell_type": "code",
      "execution_count": null,
      "id": "1e94554a",
      "metadata": {
        "id": "1e94554a",
        "outputId": "8e509dcf-3bea-4ff6-9b22-8db9dc7d80e2"
      },
      "outputs": [
        {
          "data": {
            "text/html": [
              "<div>\n",
              "<style scoped>\n",
              "    .dataframe tbody tr th:only-of-type {\n",
              "        vertical-align: middle;\n",
              "    }\n",
              "\n",
              "    .dataframe tbody tr th {\n",
              "        vertical-align: top;\n",
              "    }\n",
              "\n",
              "    .dataframe thead th {\n",
              "        text-align: right;\n",
              "    }\n",
              "</style>\n",
              "<table border=\"1\" class=\"dataframe\">\n",
              "  <thead>\n",
              "    <tr style=\"text-align: right;\">\n",
              "      <th></th>\n",
              "      <th>gender_code</th>\n",
              "      <th>Profession_code</th>\n",
              "      <th>Income_Category_code</th>\n",
              "      <th>Age_norm</th>\n",
              "      <th>Family_Size_norm</th>\n",
              "    </tr>\n",
              "  </thead>\n",
              "  <tbody>\n",
              "    <tr>\n",
              "      <th>0</th>\n",
              "      <td>1.0</td>\n",
              "      <td>3.0</td>\n",
              "      <td>0.0</td>\n",
              "      <td>0.295775</td>\n",
              "      <td>0.125</td>\n",
              "    </tr>\n",
              "    <tr>\n",
              "      <th>1</th>\n",
              "      <td>1.0</td>\n",
              "      <td>5.0</td>\n",
              "      <td>1.0</td>\n",
              "      <td>0.112676</td>\n",
              "      <td>0.250</td>\n",
              "    </tr>\n",
              "    <tr>\n",
              "      <th>2</th>\n",
              "      <td>0.0</td>\n",
              "      <td>6.0</td>\n",
              "      <td>5.0</td>\n",
              "      <td>0.422535</td>\n",
              "      <td>0.375</td>\n",
              "    </tr>\n",
              "    <tr>\n",
              "      <th>3</th>\n",
              "      <td>0.0</td>\n",
              "      <td>8.0</td>\n",
              "      <td>5.0</td>\n",
              "      <td>0.521127</td>\n",
              "      <td>0.000</td>\n",
              "    </tr>\n",
              "    <tr>\n",
              "      <th>4</th>\n",
              "      <td>0.0</td>\n",
              "      <td>2.0</td>\n",
              "      <td>5.0</td>\n",
              "      <td>0.281690</td>\n",
              "      <td>0.000</td>\n",
              "    </tr>\n",
              "    <tr>\n",
              "      <th>...</th>\n",
              "      <td>...</td>\n",
              "      <td>...</td>\n",
              "      <td>...</td>\n",
              "      <td>...</td>\n",
              "      <td>...</td>\n",
              "    </tr>\n",
              "    <tr>\n",
              "      <th>1995</th>\n",
              "      <td>1.0</td>\n",
              "      <td>5.0</td>\n",
              "      <td>5.0</td>\n",
              "      <td>0.070423</td>\n",
              "      <td>0.375</td>\n",
              "    </tr>\n",
              "    <tr>\n",
              "      <th>1996</th>\n",
              "      <td>1.0</td>\n",
              "      <td>8.0</td>\n",
              "      <td>4.0</td>\n",
              "      <td>0.098592</td>\n",
              "      <td>0.250</td>\n",
              "    </tr>\n",
              "    <tr>\n",
              "      <th>1997</th>\n",
              "      <td>0.0</td>\n",
              "      <td>3.0</td>\n",
              "      <td>1.0</td>\n",
              "      <td>0.140845</td>\n",
              "      <td>0.500</td>\n",
              "    </tr>\n",
              "    <tr>\n",
              "      <th>1998</th>\n",
              "      <td>1.0</td>\n",
              "      <td>2.0</td>\n",
              "      <td>5.0</td>\n",
              "      <td>0.591549</td>\n",
              "      <td>0.125</td>\n",
              "    </tr>\n",
              "    <tr>\n",
              "      <th>1999</th>\n",
              "      <td>1.0</td>\n",
              "      <td>0.0</td>\n",
              "      <td>5.0</td>\n",
              "      <td>0.605634</td>\n",
              "      <td>0.125</td>\n",
              "    </tr>\n",
              "  </tbody>\n",
              "</table>\n",
              "<p>2000 rows × 5 columns</p>\n",
              "</div>"
            ],
            "text/plain": [
              "      gender_code  Profession_code  Income_Category_code  Age_norm  \\\n",
              "0             1.0              3.0                   0.0  0.295775   \n",
              "1             1.0              5.0                   1.0  0.112676   \n",
              "2             0.0              6.0                   5.0  0.422535   \n",
              "3             0.0              8.0                   5.0  0.521127   \n",
              "4             0.0              2.0                   5.0  0.281690   \n",
              "...           ...              ...                   ...       ...   \n",
              "1995          1.0              5.0                   5.0  0.070423   \n",
              "1996          1.0              8.0                   4.0  0.098592   \n",
              "1997          0.0              3.0                   1.0  0.140845   \n",
              "1998          1.0              2.0                   5.0  0.591549   \n",
              "1999          1.0              0.0                   5.0  0.605634   \n",
              "\n",
              "      Family_Size_norm  \n",
              "0                0.125  \n",
              "1                0.250  \n",
              "2                0.375  \n",
              "3                0.000  \n",
              "4                0.000  \n",
              "...                ...  \n",
              "1995             0.375  \n",
              "1996             0.250  \n",
              "1997             0.500  \n",
              "1998             0.125  \n",
              "1999             0.125  \n",
              "\n",
              "[2000 rows x 5 columns]"
            ]
          },
          "execution_count": 94,
          "metadata": {},
          "output_type": "execute_result"
        }
      ],
      "source": [
        "# Subset mtcars based on mpg & hp\n",
        "df_ppd_subset = df_ppd[['gender_code', 'Profession_code', 'Income_Category_code','Age_norm', 'Family_Size_norm']]\n",
        "df_ppd_subset"
      ]
    },
    {
      "cell_type": "code",
      "execution_count": null,
      "id": "e746ec5f",
      "metadata": {
        "id": "e746ec5f",
        "outputId": "7e6f0ee8-7bb8-43e5-ac65-9e225153bcc0"
      },
      "outputs": [
        {
          "name": "stderr",
          "output_type": "stream",
          "text": [
            "C:\\ProgramData\\Anaconda3\\lib\\site-packages\\sklearn\\cluster\\_kmeans.py:1036: UserWarning: KMeans is known to have a memory leak on Windows with MKL, when there are less chunks than available threads. You can avoid it by setting the environment variable OMP_NUM_THREADS=8.\n",
            "  warnings.warn(\n"
          ]
        },
        {
          "data": {
            "image/png": "[encoded data removed]",
            "text/plain": [
              "<Figure size 640x480 with 1 Axes>"
            ]
          },
          "metadata": {},
          "output_type": "display_data"
        }
      ],
      "source": [
        "wcssd = [] # Within-Cluster-Sum-Squared-Distance\n",
        "nr_clus = range(1,10) # Number of Clusters\n",
        "for k in nr_clus:\n",
        "    kmeans = kmclus(n_clusters=k, init='random', random_state=5039)\n",
        "    kmeans.fit(df_ppd_subset)\n",
        "    wcssd.append(kmeans.inertia_)\n",
        "plt.plot(nr_clus, wcssd, marker='x')\n",
        "plt.xlabel('Values of K')\n",
        "plt.ylabel('Within Cluster Sum Squared Distance')\n",
        "plt.title('Elbow Curve for Optimal K')\n",
        "plt.show()"
      ]
    },
    {
      "cell_type": "code",
      "execution_count": null,
      "id": "2da2467f",
      "metadata": {
        "id": "2da2467f",
        "outputId": "ff726b7e-60a6-456a-cd7c-076cb9603e3e"
      },
      "outputs": [
        {
          "data": {
            "text/plain": [
              "array([1, 0, 0, ..., 1, 1, 1])"
            ]
          },
          "execution_count": 96,
          "metadata": {},
          "output_type": "execute_result"
        }
      ],
      "source": [
        "k2mcluster = kmclus(n_clusters=2, init='random', random_state=5039)\n",
        "k2m_cluster_model = k2mcluster.fit_predict(df_ppd_subset); k2m_cluster_model"
      ]
    },
    {
      "cell_type": "code",
      "execution_count": null,
      "id": "a1e204b5",
      "metadata": {
        "id": "a1e204b5",
        "outputId": "ab4ad50c-2b8e-4a01-ac41-fb81ab2df831"
      },
      "outputs": [
        {
          "name": "stdout",
          "output_type": "stream",
          "text": [
            "SS score 0.4830300920226123\n",
            "DB Score 0.8219552833962874\n"
          ]
        }
      ],
      "source": [
        "sscore_k2mcluster = sscore(df_ppd_subset, k2m_cluster_model)\n",
        "print ('SS score', sscore_k2mcluster)\n",
        "dbscore_k2mcluster = dbscore(df_ppd_subset, k2m_cluster_model)\n",
        "print ('DB Score', dbscore_k2mcluster)"
      ]
    },
    {
      "cell_type": "code",
      "execution_count": null,
      "id": "4a626835",
      "metadata": {
        "id": "4a626835",
        "outputId": "3f42dd40-09e8-4710-f4ed-764698938c32"
      },
      "outputs": [
        {
          "data": {
            "text/plain": [
              "array([0, 2, 2, ..., 0, 1, 1])"
            ]
          },
          "execution_count": 100,
          "metadata": {},
          "output_type": "execute_result"
        }
      ],
      "source": [
        "k3mcluster = kmclus(n_clusters=3, init='random', random_state=5039)\n",
        "k3m_cluster_model = k3mcluster.fit_predict(df_ppd_subset); k3m_cluster_model"
      ]
    },
    {
      "cell_type": "code",
      "execution_count": null,
      "id": "9c1f8034",
      "metadata": {
        "id": "9c1f8034",
        "outputId": "19a0166c-5701-4476-c272-78fa4edd49e4"
      },
      "outputs": [
        {
          "name": "stdout",
          "output_type": "stream",
          "text": [
            "SS score 0.4830300920226123\n",
            "DB Score 0.8219552833962874\n"
          ]
        }
      ],
      "source": [
        "sscore_k3mcluster = sscore(df_ppd_subset, k3m_cluster_model);print ('SS score', sscore_k2mcluster)\n",
        "dbscore_k3mcluster = dbscore(df_ppd_subset, k3m_cluster_model);print ('DB Score', dbscore_k2mcluster)"
      ]
    },
    {
      "cell_type": "code",
      "execution_count": null,
      "id": "38cd8691",
      "metadata": {
        "id": "38cd8691",
        "outputId": "bfca166b-32bc-40d4-d863-8a8663daf681"
      },
      "outputs": [
        {
          "data": {
            "text/html": [
              "<div>\n",
              "<style scoped>\n",
              "    .dataframe tbody tr th:only-of-type {\n",
              "        vertical-align: middle;\n",
              "    }\n",
              "\n",
              "    .dataframe tbody tr th {\n",
              "        vertical-align: top;\n",
              "    }\n",
              "\n",
              "    .dataframe thead th {\n",
              "        text-align: right;\n",
              "    }\n",
              "</style>\n",
              "<table border=\"1\" class=\"dataframe\">\n",
              "  <thead>\n",
              "    <tr style=\"text-align: right;\">\n",
              "      <th></th>\n",
              "      <th>gender_code</th>\n",
              "      <th>Profession_code</th>\n",
              "      <th>Income_Category_code</th>\n",
              "      <th>Age_norm</th>\n",
              "      <th>Family_Size_norm</th>\n",
              "      <th>CustomerID_index</th>\n",
              "      <th>Cluster_Number</th>\n",
              "    </tr>\n",
              "  </thead>\n",
              "  <tbody>\n",
              "    <tr>\n",
              "      <th>621</th>\n",
              "      <td>0.0</td>\n",
              "      <td>7.0</td>\n",
              "      <td>5.0</td>\n",
              "      <td>0.760563</td>\n",
              "      <td>0.125</td>\n",
              "      <td>621</td>\n",
              "      <td>0</td>\n",
              "    </tr>\n",
              "    <tr>\n",
              "      <th>728</th>\n",
              "      <td>0.0</td>\n",
              "      <td>6.0</td>\n",
              "      <td>5.0</td>\n",
              "      <td>0.732394</td>\n",
              "      <td>0.125</td>\n",
              "      <td>728</td>\n",
              "      <td>0</td>\n",
              "    </tr>\n",
              "    <tr>\n",
              "      <th>729</th>\n",
              "      <td>0.0</td>\n",
              "      <td>5.0</td>\n",
              "      <td>2.0</td>\n",
              "      <td>0.070423</td>\n",
              "      <td>0.250</td>\n",
              "      <td>729</td>\n",
              "      <td>0</td>\n",
              "    </tr>\n",
              "    <tr>\n",
              "      <th>1549</th>\n",
              "      <td>0.0</td>\n",
              "      <td>4.0</td>\n",
              "      <td>5.0</td>\n",
              "      <td>0.239437</td>\n",
              "      <td>0.125</td>\n",
              "      <td>1549</td>\n",
              "      <td>0</td>\n",
              "    </tr>\n",
              "    <tr>\n",
              "      <th>1548</th>\n",
              "      <td>0.0</td>\n",
              "      <td>6.0</td>\n",
              "      <td>5.0</td>\n",
              "      <td>0.140845</td>\n",
              "      <td>0.000</td>\n",
              "      <td>1548</td>\n",
              "      <td>0</td>\n",
              "    </tr>\n",
              "    <tr>\n",
              "      <th>...</th>\n",
              "      <td>...</td>\n",
              "      <td>...</td>\n",
              "      <td>...</td>\n",
              "      <td>...</td>\n",
              "      <td>...</td>\n",
              "      <td>...</td>\n",
              "      <td>...</td>\n",
              "    </tr>\n",
              "    <tr>\n",
              "      <th>828</th>\n",
              "      <td>0.0</td>\n",
              "      <td>2.0</td>\n",
              "      <td>5.0</td>\n",
              "      <td>0.098592</td>\n",
              "      <td>0.250</td>\n",
              "      <td>828</td>\n",
              "      <td>1</td>\n",
              "    </tr>\n",
              "    <tr>\n",
              "      <th>827</th>\n",
              "      <td>0.0</td>\n",
              "      <td>0.0</td>\n",
              "      <td>1.0</td>\n",
              "      <td>0.338028</td>\n",
              "      <td>0.250</td>\n",
              "      <td>827</td>\n",
              "      <td>1</td>\n",
              "    </tr>\n",
              "    <tr>\n",
              "      <th>823</th>\n",
              "      <td>0.0</td>\n",
              "      <td>2.0</td>\n",
              "      <td>4.0</td>\n",
              "      <td>0.056338</td>\n",
              "      <td>0.125</td>\n",
              "      <td>823</td>\n",
              "      <td>1</td>\n",
              "    </tr>\n",
              "    <tr>\n",
              "      <th>841</th>\n",
              "      <td>1.0</td>\n",
              "      <td>0.0</td>\n",
              "      <td>5.0</td>\n",
              "      <td>0.323944</td>\n",
              "      <td>0.250</td>\n",
              "      <td>841</td>\n",
              "      <td>1</td>\n",
              "    </tr>\n",
              "    <tr>\n",
              "      <th>1999</th>\n",
              "      <td>1.0</td>\n",
              "      <td>0.0</td>\n",
              "      <td>5.0</td>\n",
              "      <td>0.605634</td>\n",
              "      <td>0.125</td>\n",
              "      <td>1999</td>\n",
              "      <td>1</td>\n",
              "    </tr>\n",
              "  </tbody>\n",
              "</table>\n",
              "<p>2000 rows × 7 columns</p>\n",
              "</div>"
            ],
            "text/plain": [
              "      gender_code  Profession_code  Income_Category_code  Age_norm  \\\n",
              "621           0.0              7.0                   5.0  0.760563   \n",
              "728           0.0              6.0                   5.0  0.732394   \n",
              "729           0.0              5.0                   2.0  0.070423   \n",
              "1549          0.0              4.0                   5.0  0.239437   \n",
              "1548          0.0              6.0                   5.0  0.140845   \n",
              "...           ...              ...                   ...       ...   \n",
              "828           0.0              2.0                   5.0  0.098592   \n",
              "827           0.0              0.0                   1.0  0.338028   \n",
              "823           0.0              2.0                   4.0  0.056338   \n",
              "841           1.0              0.0                   5.0  0.323944   \n",
              "1999          1.0              0.0                   5.0  0.605634   \n",
              "\n",
              "      Family_Size_norm  CustomerID_index  Cluster_Number  \n",
              "621              0.125               621               0  \n",
              "728              0.125               728               0  \n",
              "729              0.250               729               0  \n",
              "1549             0.125              1549               0  \n",
              "1548             0.000              1548               0  \n",
              "...                ...               ...             ...  \n",
              "828              0.250               828               1  \n",
              "827              0.250               827               1  \n",
              "823              0.125               823               1  \n",
              "841              0.250               841               1  \n",
              "1999             0.125              1999               1  \n",
              "\n",
              "[2000 rows x 7 columns]"
            ]
          },
          "execution_count": 104,
          "metadata": {},
          "output_type": "execute_result"
        }
      ],
      "source": [
        "train_df_subset_kmcluster = df_ppd_subset.copy()\n",
        "train_df_subset_kmcluster['CustomerID_index'] = df_ppd_subset.index.values\n",
        "train_df_subset_kmcluster['Cluster_Number'] = k2m_cluster_model\n",
        "train_df_subset_kmcluster.sort_values('Cluster_Number', inplace=True); train_df_subset_kmcluster"
      ]
    },
    {
      "cell_type": "code",
      "execution_count": null,
      "id": "32d6676f",
      "metadata": {
        "id": "32d6676f",
        "outputId": "a00de5dd-2947-47b3-b7ef-3668fc458840"
      },
      "outputs": [
        {
          "data": {
            "image/png": "[encoded data removed]",
            "text/plain": [
              "<Figure size 640x480 with 1 Axes>"
            ]
          },
          "metadata": {},
          "output_type": "display_data"
        }
      ],
      "source": [
        "cluster_labels = list(train_df_subset_kmcluster['Cluster_Number'].unique())\n",
        "scatter_plot = plt.scatter(x=df_ppd_subset['Profession_code'], y=df_ppd_subset['Family_Size_norm'], c=train_df_subset_kmcluster['Cluster_Number'], cmap='brg', s = 2)\n",
        "plt.legend(handles=scatter_plot.legend_elements()[0], labels=cluster_labels)\n",
        "plt.xlabel('Income category')\n",
        "plt.ylabel('Family Size')\n",
        "plt.title('Income category vs family size Scatter Plot : K-Means Clusters')\n",
        "plt.grid()\n",
        "plt.show()"
      ]
    },
    {
      "cell_type": "markdown",
      "id": "20cddf07",
      "metadata": {
        "deletable": false,
        "editable": false,
        "id": "20cddf07"
      },
      "source": [
        "### -----------------------------------------------------------------------------------------------------------------------------------------------------------"
      ]
    },
    {
      "cell_type": "markdown",
      "id": "67895a8a",
      "metadata": {
        "deletable": false,
        "editable": false,
        "id": "67895a8a"
      },
      "source": [
        "### Part B : Report on Data Analysis :: I. Data Preprocessing\n",
        "\n",
        "#### 1. Description of Data\n",
        "#### 2. Objective(s) of Data Analysis\n",
        "#### 3. Observations on Data Analysis\n",
        "#### 4. Manegerial Insights"
      ]
    },
    {
      "cell_type": "markdown",
      "id": "e3268eea",
      "metadata": {
        "id": "e3268eea"
      },
      "source": [
        "### 1. Desciption of Data\n",
        "\n",
        "_Data Description:_ The dataset consists of 10,696 customers' records and includes 11 variables that describe the customer charateritics. The data describes the age, gender and income level of the customer and also contains details on their profession and spending details.\n",
        "\n",
        "\n",
        "__Descriptive variables__\n",
        "\n",
        "1. Customer_id: Cutomer Id, **Numeric**\n",
        "\n",
        "\n",
        "2. Age: customer's age (in years), **Numeric**\n",
        "\n",
        "\n",
        "3. Gender: customer's gender, **Categorical**\n",
        "\n",
        "\n",
        "4. Graduate : The graduational level of the customer,  **Categorical**\n",
        "\n",
        "\n",
        "5. Married: The martial status of the customer, **Categorical**\n",
        "\n",
        "\n",
        "6. Profession : The professional status of teh customer, **Categorical**\n",
        "\n",
        "\n",
        "7. Spending Stete: The power of spending of a particular customer **Categorical**\n",
        "\n",
        "\n",
        "8. Customer_category = the category the customer belongs to, **Categorical**\n",
        "\n",
        "\n",
        "__Quantifying Variables__\n",
        "\n",
        "\n",
        "1. Family_size = The number of family members in customer's family **Numeric/non-categorical**\n",
        "\n",
        "\n",
        "2. Income: The income category the customer belongs to, **Category**\n",
        "\n",
        "\n",
        "3. Work experiance: work experiance of the customer in years, **Non-categorical**\n"
      ]
    },
    {
      "cell_type": "markdown",
      "id": "9612037d",
      "metadata": {
        "id": "9612037d"
      },
      "source": [
        "### 2. __OBJECTIVES:__\n",
        "\n",
        "1. Identifying the null values in both cat and non-cat datasets\n",
        "\n",
        "2. Treating the null values by imputation\n",
        "\n",
        "3. Numeric coding of cat variables\n",
        "\n",
        "4. Identifying outliers using boxplots\n",
        "\n",
        "5. Treating the outliers\n",
        "\n",
        "6. Combining the pre-processed cat and non-cat dataframes into one (df_ppd)\n",
        "\n",
        "6. Diving the combined pre-processed dataset (df_ppd) into two, testing and training datasets (test_df and train_df)\n",
        "\n",
        "### __Brief on Analysis:__\n",
        "\n",
        "1. The null values in the datasets were indentified using the info() functions\n",
        "\n",
        "2. These null values were then treated using Simple Imputer with strategy as 'mean'\n",
        "\n",
        "3. Numeric encoding of the categorical variables (Distribution Channel and Market Segment) was done using Label Encoder as the data was nominal\n",
        "\n",
        "4. After identifying the outliers in each variable, they were treated using Normalization -> Min-Max Scaling\n",
        "\n",
        "5. The cat and non_cat pre-processed datasets were then merged into one using the 'merge' function."
      ]
    },
    {
      "cell_type": "markdown",
      "id": "68db5713",
      "metadata": {
        "id": "68db5713"
      },
      "source": [
        "#### 3.a.1. MAIN OBSERVATIONS for non_cat variables\n",
        "\n",
        "1. Average age of the customer is 44 years\n",
        "\n",
        "2. Average family size is 3\n",
        "\n",
        "3. Average work experiance of the customers are 2.6 years\n",
        "\n",
        "####  3.a.2. MANGERIAL INSIGHTS for non_cat variables\n",
        "\n",
        "1.\tThe company can tailor its services and marketing strategies to attract customers in the age group of 44 years. This could include offering amenities and activities that are popular among this age group.\n",
        "\n",
        "\n",
        "2. The company can also focus on the people which have three members on selling their products and services\n",
        "\n",
        "3. Lastly, the company should focus on the working class population, since their buying capity is gouing to much more\n",
        "\n",
        "#### 3.b.1. MAIN OBSERVATIONS for cat variables\n",
        "\n",
        "1. 30.9% of the customers are arist by profession, followed by 16.7% working in the healthcare sector.\n",
        "\n",
        "2. Among the customer, the data contains more male customers 56%, than female customers 44%\n",
        "\n",
        "3. Among the income category,  most of the customer belong the cat_6 (65%) followed by cat_4 (13%)\n",
        "\n",
        "4. Among the customers in the category_6 around 304 have an average spending capacity, while most of the 748 have a low speding capacity.\n",
        "\n",
        "5. Among category 4, most of the customers have a low spending capacity.\n",
        "\n",
        "6. Neverthless, category 6 also has the mximum numnber of the customers with high spending capacity.\n",
        "\n",
        "####  3.b.2. MANGERIAL INSIGHTS for cat variables\n",
        "\n",
        "\n",
        "1. The business can focus its marketing efforts towards the customers belonging to arists and healthcare sector\n",
        "\n",
        "2. Since category 6 is the most common cvategory, the business attract these customers with subsidies or discount options\n",
        "\n",
        "3. The business can analyze the needs and preferences of customers in the other income category groups and try to create customized packages or offers to attract more customers."
      ]
    },
    {
      "cell_type": "markdown",
      "id": "aa550496",
      "metadata": {
        "deletable": false,
        "editable": false,
        "id": "aa550496"
      },
      "source": [
        "### -----------------------------------------------------------------------------------------------------------------------------------------------------------"
      ]
    },
    {
      "cell_type": "markdown",
      "id": "723dbce4",
      "metadata": {
        "deletable": false,
        "editable": false,
        "id": "723dbce4"
      },
      "source": [
        "### Part B : Report on Data Analysis :: II. Classification ::: Decision Tree\n",
        "\n",
        "#### 1. Description of Data\n",
        "#### 2. Objective(s) of Data Analysis\n",
        "#### 3. Observations on Data Analysis\n",
        "#### 4. Manegerial Insights"
      ]
    },
    {
      "cell_type": "markdown",
      "id": "95a5e1c0",
      "metadata": {
        "id": "95a5e1c0"
      },
      "source": [
        "#### 1. Describe the data\n",
        "\n",
        "1. The data that has been pre-proccessed has been used for the analysis of the decison tree.\n",
        "\n",
        "2. The data has furthe been subseted to train and test data\n",
        "\n",
        "3. The output has been identified as the customer_category and the input as proffesional_category, income_category, age_norm and family_size.\n",
        "\n",
        "#### 2. Objective of the data anaylsis\n",
        "\n",
        "1. to understand the relation of the nput varibles, in this case age, income category, profession and family size with the customer category alloted in the data\n",
        "\n",
        "\n",
        "#### OBSERVATIONS\n",
        "\n",
        "__1. For train dataset,__\n",
        "\n",
        "a. According to the model evaluation, age_norm \t(0.518) and Family_Size_norm (0.176) were the most contributing variables to the two clusters\n",
        "\n",
        "b. Age_norm was the root node as it gives the minimum gini impurity about the outcome variable\n",
        "\n",
        "c. Family_Size_norm formed the leaf node as, every element in the Predictor Variable belongs to the same Class\n",
        "\n",
        "d. The decision tree results show the performance of a binary classification model. The model is trained to classify instances into one of two classes, labeled 0 and 1. The evaluation metrics reported include precision, recall, F1-score, and support.\n",
        "\n",
        "   I. Precision is the fraction of true positive predictions out of all positive predictions made by the model. In this case, all classes have a precision score of nearly 0.85, indicating that the model did not make any false positive predictions.\n",
        "\n",
        "   II. Recall is the fraction of true positive predictions out of all actual positive instances in the dataset. All classes have a recall score of nearly 0.85, indicating that the model correctly identified all positive instances in the dataset.\n",
        "\n",
        "   III. F1-score is the harmonic mean of precision and recall, and it provides a balance between precision and recall. All classes have an F1-score of 0.83, indicating that the model achieved high precision and recall simultaneously.\n",
        "\n",
        "\n",
        "   V.The macro average and weighted average are two different ways of aggregating the performance metrics across the classes. The macro average takes the unweighted average of the precision, recall, and F1-score across the two classes. In this case, the macro average for precision, recall, and F1-score is 0.84, indicating that the model performed well on all classes.\n",
        "\n",
        "   VI. In conclusion, the decision tree model achieved perfect performance on the binary classification task, with high precision, recall, and F1-score for both classes. This means that the model was able to accurately classify instances into the correct class.\n",
        "\n",
        "   \n",
        "    \n",
        "__2. For test dataset,__\n",
        "\n",
        "precision    recall  f1-score   support\n",
        "\n",
        "         0.0       0.31      0.35      0.33       127\n",
        "         1.0       0.28      0.31      0.29       112\n",
        "         2.0       0.32      0.31      0.32       115\n",
        "         3.0       0.61      0.47      0.53       146\n",
        "\n",
        "    accuracy                           0.37       500\n",
        "   macro avg       0.38      0.36      0.37       500\n",
        "weighted avg       0.39      0.37      0.38       500\n",
        "\n",
        "a. According to the model evaluation, age_norm\t(0.94) and Family_Size_norm (0.059) were also the most contributing variables.  \n",
        "b. age_norm was the root node as it gives the minimum gini impurity about the outcome variable\n",
        "\n",
        "c. Family_Size_norm child node\n",
        "\n",
        "d. The other variables formed the leaf node\n",
        "\n",
        "e. The result of the decision tree shows that the model has achieved perfect performance on the given binary classification task. The evaluation metrics reported include precision, recall, F1-score, and support.\n",
        "\n",
        "   I. In this case, all classes  have a mixed precision score of, indicating that the model did make any false positive predictions.\n",
        "\n",
        "   II. All classes also have mixed recall score, indicating that the model correctly identified all positive instances in the dataset.\n",
        "\n",
        "   III. All classes have an F1-score of varying, indicating that the model achieved high precision and recall simultaneously.\n",
        "\n",
        "   \n",
        "   VII. In conclusion, the decision tree model has achieved perfect performance on the given binary classification task, with medium precision, recall, and F1-score for both classes.\n",
        "    \n",
        "    \n",
        "#### MANAGERIAL IMPLICATIONS\n",
        "\n",
        "The ficus should be aroung the age and family size while designing the customer targeting promotions\n"
      ]
    },
    {
      "cell_type": "markdown",
      "id": "260ba1db",
      "metadata": {
        "deletable": false,
        "editable": false,
        "id": "260ba1db"
      },
      "source": [
        "### -----------------------------------------------------------------------------------------------------------------------------------------------------------"
      ]
    },
    {
      "cell_type": "markdown",
      "id": "b9ffe624",
      "metadata": {
        "deletable": false,
        "editable": false,
        "id": "b9ffe624"
      },
      "source": [
        "### Part B : Report on Data Analysis :: III. Clustering ::: K-Means\n",
        "\n",
        "#### 1. Description of Data\n",
        "#### 2. Objective(s) of Data Analysis\n",
        "#### 3. Observations on Data Analysis\n",
        "#### 4. Manegerial Insights"
      ]
    },
    {
      "cell_type": "markdown",
      "id": "f9cfe58c",
      "metadata": {
        "id": "f9cfe58c"
      },
      "source": [
        "#### __OBJECTIVES of K-means Clustering:__\n",
        "\n",
        "__For Both Test and Train datasets:__\n",
        "\n",
        "1. To cluster the customers on the basis of the following cat and non-cat variables:\n",
        "\n",
        "    _Cat Variables_: profession, income,\n",
        "    _Non-Cat Variables_: age, family size\n",
        "    \n",
        "\n",
        "2. Determine Value of 'K' in K-Means using Elbow Curve & KMeans-Inertia\n",
        "\n",
        "\n",
        "3. Create K-means clusters\n",
        "\n",
        "\n",
        "4. K-Means Clustering Model Evaluation\n",
        "\n",
        "\n",
        "5. Create a KMeans Cluster Member Dataframe\n",
        "\n",
        "\n",
        "6. Plot the K-means cluster data\n",
        "\n",
        "\n",
        "\n",
        "#### __Briefs on the analysis:__\n",
        "\n",
        "\n",
        "__For Both Test and Train datasets:__\n",
        "\n",
        "a. We determined the value of 'K' in K-Means using Elbow Curve & KMeans-Inertia which is the sum of Squared Distances of Samples to their closest Cluster Center (Centroid), Weighted by the Sample Weights.\n",
        "\n",
        "b. We compared the Silhouette Score and Davies-Bouldin Score for each of the cluster numbers.\n",
        "\n",
        "c. From the different cluster numbers, we selected the cluster number with Silhouette Score -> 1 and Davies-Bouldin Score -> 0.\n",
        "\n",
        "d. For the selected cluster number, we then formed a cluster member dataframe which contained the cluster number for each customer ID.\n",
        "\n",
        "#### OBSERVATIONS\n",
        "\n",
        "__1. The dataset__,\n",
        "\n",
        "S score 0.4830300920226123\n",
        "DB Score 0.8219552833962874\n",
        "\n",
        "Since both cluster 2 and 3 have the same SS and DB score, either clusters can be formed.\n",
        "    \n",
        "_Appropriate Number of Clusters : 3_ (Based on Silhouette Score & Davies-Bouldin Score)\n",
        "\n",
        "#### MANAGERIAL IMPLICATIONS\n",
        "\n",
        "The managerial implication of the results is that the data can be clustered into three groups based on the Silhouette Score and Davies-Bouldin Score. This information can be useful for managers who are interested in understanding the characteristics of their customers or identifying segments of their market. By clustering customers into three groups, managers can develop targeted marketing strategies that are more effective in meeting the needs of each group.\n",
        "\n",
        "For instance, a manager can create three groups of customers with different characteristics based on the cluster analysis. The manager can then analyze the characteristics of each group to understand what makes them different, and develop marketing strategies that are tailored to the needs of each group.\n",
        "\n",
        "The manager can also use this information to allocate resources more efficiently, such as assigning customer service representatives to each group based on their needs."
      ]
    },
    {
      "cell_type": "markdown",
      "id": "5dc574cf",
      "metadata": {
        "deletable": false,
        "editable": false,
        "id": "5dc574cf"
      },
      "source": [
        "### -----x---x---x---x---x---x---x----- End of Paper -----x---x---x---x---x---x---x-----"
      ]
    }
  ],
  "metadata": {
    "celltoolbar": "Edit Metadata",
    "kernelspec": {
      "display_name": "Python 3 (ipykernel)",
      "language": "python",
      "name": "python3"
    },
    "language_info": {
      "codemirror_mode": {
        "name": "ipython",
        "version": 3
      },
      "file_extension": ".py",
      "mimetype": "text/x-python",
      "name": "python",
      "nbconvert_exporter": "python",
      "pygments_lexer": "ipython3",
      "version": "3.9.13"
    },
    "colab": {
      "provenance": [],
      "include_colab_link": true
    }
  },
  "nbformat": 4,
  "nbformat_minor": 5
}