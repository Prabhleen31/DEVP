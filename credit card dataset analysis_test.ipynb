{
  "cells": [
    {
      "cell_type": "markdown",
      "id": "083c8b95",
      "metadata": {
        "deletable": false,
        "editable": false,
        "id": "083c8b95"
      },
      "source": [
        "# FORE School of Management\n",
        "\n",
        "## Machine Learning with Python : Mid Term Exam\n",
        "## AY 2022-23 | Term 03 | PGDM | Faculty : Prof. Amarnath Mitra\n",
        "\n",
        "### Total Marks : 100 | Exam Duaration : 1.45 Hrs\n",
        "\n",
        "### Note\n",
        "### 1. Edit the Filename \"mlp_mt_qcap.ipynb\" to \"xxxx.ipynb\" where \"xxxx\" is Student Roll Number\n",
        "### 2. Answer as per the Instructions.\n",
        "### -----------------------------------------------------------------------------------------------------------------------------------------------------------"
      ]
    },
    {
      "cell_type": "markdown",
      "id": "6f8c7fce",
      "metadata": {
        "deletable": false,
        "id": "6f8c7fce"
      },
      "source": [
        "### Edit the Following Information with Your Name & Roll Number\n",
        "\n",
        "#### Student Name : Prabhleen Kaur Pahwa\n",
        "#### Student Roll Number : 035039\n",
        "\n",
        "### -----------------------------------------------------------------------------------------------------------------------------------------------------------"
      ]
    },
    {
      "cell_type": "markdown",
      "id": "8f1b2316",
      "metadata": {
        "deletable": false,
        "editable": false,
        "id": "8f1b2316"
      },
      "source": [
        "### Import the Required Libraries : Pandas, Numpy, Scipy, Statmodels, Matplotlib (or Seaborn : Optional)\n",
        "### -----------------------------------------------------------------------------------------------------------------------------------------------------------"
      ]
    },
    {
      "cell_type": "code",
      "execution_count": null,
      "id": "72571676",
      "metadata": {
        "id": "72571676"
      },
      "outputs": [],
      "source": [
        "\n",
        "import pandas as pd, numpy as np # For Data Manipulation\n",
        "import scipy.stats as sps # For Probability & Inferential Statistics\n",
        "import statsmodels as sm\n",
        "import statsmodels.formula.api as smf # For Descriptive Statistics & Regression\n",
        "import seaborn as sns\n",
        "from matplotlib import pyplot as plt"
      ]
    },
    {
      "cell_type": "markdown",
      "id": "5dbfbf7f",
      "metadata": {
        "deletable": false,
        "editable": false,
        "id": "5dbfbf7f"
      },
      "source": [
        "### Import Exam Dataset & Create Student Specific Unique Dataset"
      ]
    },
    {
      "cell_type": "code",
      "execution_count": null,
      "id": "3a865b28",
      "metadata": {
        "deletable": false,
        "id": "3a865b28",
        "outputId": "28753bc3-fa67-4328-ac6d-571128e48adf"
      },
      "outputs": [
        {
          "data": {
            "text/html": [
              "<div>\n",
              "<style scoped>\n",
              "    .dataframe tbody tr th:only-of-type {\n",
              "        vertical-align: middle;\n",
              "    }\n",
              "\n",
              "    .dataframe tbody tr th {\n",
              "        vertical-align: top;\n",
              "    }\n",
              "\n",
              "    .dataframe thead th {\n",
              "        text-align: right;\n",
              "    }\n",
              "</style>\n",
              "<table border=\"1\" class=\"dataframe\">\n",
              "  <thead>\n",
              "    <tr style=\"text-align: right;\">\n",
              "      <th></th>\n",
              "      <th>customer_id</th>\n",
              "      <th>surname</th>\n",
              "      <th>country</th>\n",
              "      <th>gender</th>\n",
              "      <th>age</th>\n",
              "      <th>salary</th>\n",
              "      <th>credit_score</th>\n",
              "      <th>member</th>\n",
              "    </tr>\n",
              "  </thead>\n",
              "  <tbody>\n",
              "    <tr>\n",
              "      <th>0</th>\n",
              "      <td>15634602</td>\n",
              "      <td>Hargrave</td>\n",
              "      <td>France</td>\n",
              "      <td>Female</td>\n",
              "      <td>42</td>\n",
              "      <td>101349</td>\n",
              "      <td>619</td>\n",
              "      <td>1</td>\n",
              "    </tr>\n",
              "    <tr>\n",
              "      <th>1</th>\n",
              "      <td>15647311</td>\n",
              "      <td>Hill</td>\n",
              "      <td>Spain</td>\n",
              "      <td>Female</td>\n",
              "      <td>41</td>\n",
              "      <td>112543</td>\n",
              "      <td>608</td>\n",
              "      <td>1</td>\n",
              "    </tr>\n",
              "    <tr>\n",
              "      <th>2</th>\n",
              "      <td>15619304</td>\n",
              "      <td>Onio</td>\n",
              "      <td>France</td>\n",
              "      <td>Female</td>\n",
              "      <td>42</td>\n",
              "      <td>113932</td>\n",
              "      <td>502</td>\n",
              "      <td>0</td>\n",
              "    </tr>\n",
              "    <tr>\n",
              "      <th>3</th>\n",
              "      <td>15701354</td>\n",
              "      <td>Boni</td>\n",
              "      <td>France</td>\n",
              "      <td>Female</td>\n",
              "      <td>39</td>\n",
              "      <td>93827</td>\n",
              "      <td>699</td>\n",
              "      <td>0</td>\n",
              "    </tr>\n",
              "    <tr>\n",
              "      <th>4</th>\n",
              "      <td>15737888</td>\n",
              "      <td>Mitchell</td>\n",
              "      <td>Spain</td>\n",
              "      <td>Female</td>\n",
              "      <td>43</td>\n",
              "      <td>79084</td>\n",
              "      <td>850</td>\n",
              "      <td>1</td>\n",
              "    </tr>\n",
              "    <tr>\n",
              "      <th>...</th>\n",
              "      <td>...</td>\n",
              "      <td>...</td>\n",
              "      <td>...</td>\n",
              "      <td>...</td>\n",
              "      <td>...</td>\n",
              "      <td>...</td>\n",
              "      <td>...</td>\n",
              "      <td>...</td>\n",
              "    </tr>\n",
              "    <tr>\n",
              "      <th>9995</th>\n",
              "      <td>15606229</td>\n",
              "      <td>Obijiaku</td>\n",
              "      <td>France</td>\n",
              "      <td>Male</td>\n",
              "      <td>39</td>\n",
              "      <td>96271</td>\n",
              "      <td>771</td>\n",
              "      <td>0</td>\n",
              "    </tr>\n",
              "    <tr>\n",
              "      <th>9996</th>\n",
              "      <td>15569892</td>\n",
              "      <td>Johnstone</td>\n",
              "      <td>France</td>\n",
              "      <td>Male</td>\n",
              "      <td>35</td>\n",
              "      <td>101700</td>\n",
              "      <td>516</td>\n",
              "      <td>1</td>\n",
              "    </tr>\n",
              "    <tr>\n",
              "      <th>9997</th>\n",
              "      <td>15584532</td>\n",
              "      <td>Liu</td>\n",
              "      <td>France</td>\n",
              "      <td>Female</td>\n",
              "      <td>36</td>\n",
              "      <td>42086</td>\n",
              "      <td>709</td>\n",
              "      <td>1</td>\n",
              "    </tr>\n",
              "    <tr>\n",
              "      <th>9998</th>\n",
              "      <td>15682355</td>\n",
              "      <td>Sabbatini</td>\n",
              "      <td>Germany</td>\n",
              "      <td>Male</td>\n",
              "      <td>42</td>\n",
              "      <td>92889</td>\n",
              "      <td>772</td>\n",
              "      <td>0</td>\n",
              "    </tr>\n",
              "    <tr>\n",
              "      <th>9999</th>\n",
              "      <td>15628319</td>\n",
              "      <td>Walker</td>\n",
              "      <td>France</td>\n",
              "      <td>Female</td>\n",
              "      <td>28</td>\n",
              "      <td>38191</td>\n",
              "      <td>792</td>\n",
              "      <td>0</td>\n",
              "    </tr>\n",
              "  </tbody>\n",
              "</table>\n",
              "<p>10000 rows × 8 columns</p>\n",
              "</div>"
            ],
            "text/plain": [
              "      customer_id    surname  country  gender  age  salary  credit_score  \\\n",
              "0        15634602   Hargrave   France  Female   42  101349           619   \n",
              "1        15647311       Hill    Spain  Female   41  112543           608   \n",
              "2        15619304       Onio   France  Female   42  113932           502   \n",
              "3        15701354       Boni   France  Female   39   93827           699   \n",
              "4        15737888   Mitchell    Spain  Female   43   79084           850   \n",
              "...           ...        ...      ...     ...  ...     ...           ...   \n",
              "9995     15606229   Obijiaku   France    Male   39   96271           771   \n",
              "9996     15569892  Johnstone   France    Male   35  101700           516   \n",
              "9997     15584532        Liu   France  Female   36   42086           709   \n",
              "9998     15682355  Sabbatini  Germany    Male   42   92889           772   \n",
              "9999     15628319     Walker   France  Female   28   38191           792   \n",
              "\n",
              "      member  \n",
              "0          1  \n",
              "1          1  \n",
              "2          0  \n",
              "3          0  \n",
              "4          1  \n",
              "...      ...  \n",
              "9995       0  \n",
              "9996       1  \n",
              "9997       1  \n",
              "9998       0  \n",
              "9999       0  \n",
              "\n",
              "[10000 rows x 8 columns]"
            ]
          },
          "execution_count": 7,
          "metadata": {},
          "output_type": "execute_result"
        }
      ],
      "source": [
        "# Import Dataset\n",
        "import pandas as pd\n",
        "file_path = r\"C:\\Users\\exam1\\Desktop\\customer_data.csv\"\n",
        "df = pd.read_csv(file_path)\n",
        "df\n",
        "# Replace xxxxx with appropriate File Path"
      ]
    },
    {
      "cell_type": "code",
      "execution_count": null,
      "id": "b1ff2755",
      "metadata": {
        "deletable": false,
        "scrolled": true,
        "id": "b1ff2755",
        "outputId": "d8a53ea7-eb5f-4c81-8d5f-3a0d28a3e7cc"
      },
      "outputs": [
        {
          "data": {
            "text/html": [
              "<div>\n",
              "<style scoped>\n",
              "    .dataframe tbody tr th:only-of-type {\n",
              "        vertical-align: middle;\n",
              "    }\n",
              "\n",
              "    .dataframe tbody tr th {\n",
              "        vertical-align: top;\n",
              "    }\n",
              "\n",
              "    .dataframe thead th {\n",
              "        text-align: right;\n",
              "    }\n",
              "</style>\n",
              "<table border=\"1\" class=\"dataframe\">\n",
              "  <thead>\n",
              "    <tr style=\"text-align: right;\">\n",
              "      <th></th>\n",
              "      <th>customer_id</th>\n",
              "      <th>surname</th>\n",
              "      <th>country</th>\n",
              "      <th>gender</th>\n",
              "      <th>age</th>\n",
              "      <th>salary</th>\n",
              "      <th>credit_score</th>\n",
              "      <th>member</th>\n",
              "    </tr>\n",
              "  </thead>\n",
              "  <tbody>\n",
              "    <tr>\n",
              "      <th>0</th>\n",
              "      <td>15744942</td>\n",
              "      <td>Steele</td>\n",
              "      <td>Spain</td>\n",
              "      <td>Female</td>\n",
              "      <td>55</td>\n",
              "      <td>108987</td>\n",
              "      <td>638</td>\n",
              "      <td>1</td>\n",
              "    </tr>\n",
              "    <tr>\n",
              "      <th>1</th>\n",
              "      <td>15728043</td>\n",
              "      <td>Udinese</td>\n",
              "      <td>Germany</td>\n",
              "      <td>Female</td>\n",
              "      <td>37</td>\n",
              "      <td>57216</td>\n",
              "      <td>648</td>\n",
              "      <td>0</td>\n",
              "    </tr>\n",
              "    <tr>\n",
              "      <th>2</th>\n",
              "      <td>15702561</td>\n",
              "      <td>Dale</td>\n",
              "      <td>France</td>\n",
              "      <td>Male</td>\n",
              "      <td>32</td>\n",
              "      <td>87567</td>\n",
              "      <td>782</td>\n",
              "      <td>1</td>\n",
              "    </tr>\n",
              "    <tr>\n",
              "      <th>3</th>\n",
              "      <td>15628697</td>\n",
              "      <td>Tung</td>\n",
              "      <td>Spain</td>\n",
              "      <td>Male</td>\n",
              "      <td>46</td>\n",
              "      <td>93503</td>\n",
              "      <td>631</td>\n",
              "      <td>1</td>\n",
              "    </tr>\n",
              "    <tr>\n",
              "      <th>4</th>\n",
              "      <td>15667889</td>\n",
              "      <td>Akobundu</td>\n",
              "      <td>France</td>\n",
              "      <td>Female</td>\n",
              "      <td>37</td>\n",
              "      <td>110783</td>\n",
              "      <td>611</td>\n",
              "      <td>0</td>\n",
              "    </tr>\n",
              "    <tr>\n",
              "      <th>...</th>\n",
              "      <td>...</td>\n",
              "      <td>...</td>\n",
              "      <td>...</td>\n",
              "      <td>...</td>\n",
              "      <td>...</td>\n",
              "      <td>...</td>\n",
              "      <td>...</td>\n",
              "      <td>...</td>\n",
              "    </tr>\n",
              "    <tr>\n",
              "      <th>5034</th>\n",
              "      <td>15688085</td>\n",
              "      <td>Warner</td>\n",
              "      <td>Spain</td>\n",
              "      <td>Female</td>\n",
              "      <td>28</td>\n",
              "      <td>34097</td>\n",
              "      <td>627</td>\n",
              "      <td>1</td>\n",
              "    </tr>\n",
              "    <tr>\n",
              "      <th>5035</th>\n",
              "      <td>15757646</td>\n",
              "      <td>Olague</td>\n",
              "      <td>France</td>\n",
              "      <td>Male</td>\n",
              "      <td>35</td>\n",
              "      <td>192381</td>\n",
              "      <td>584</td>\n",
              "      <td>0</td>\n",
              "    </tr>\n",
              "    <tr>\n",
              "      <th>5036</th>\n",
              "      <td>15812720</td>\n",
              "      <td>Hooker</td>\n",
              "      <td>Germany</td>\n",
              "      <td>Male</td>\n",
              "      <td>37</td>\n",
              "      <td>172098</td>\n",
              "      <td>807</td>\n",
              "      <td>1</td>\n",
              "    </tr>\n",
              "    <tr>\n",
              "      <th>5037</th>\n",
              "      <td>15736043</td>\n",
              "      <td>Hamilton</td>\n",
              "      <td>France</td>\n",
              "      <td>Male</td>\n",
              "      <td>34</td>\n",
              "      <td>97755</td>\n",
              "      <td>638</td>\n",
              "      <td>1</td>\n",
              "    </tr>\n",
              "    <tr>\n",
              "      <th>5038</th>\n",
              "      <td>15780961</td>\n",
              "      <td>Cavenagh</td>\n",
              "      <td>France</td>\n",
              "      <td>Female</td>\n",
              "      <td>21</td>\n",
              "      <td>22388</td>\n",
              "      <td>735</td>\n",
              "      <td>0</td>\n",
              "    </tr>\n",
              "  </tbody>\n",
              "</table>\n",
              "<p>5039 rows × 8 columns</p>\n",
              "</div>"
            ],
            "text/plain": [
              "      customer_id   surname  country  gender  age  salary  credit_score  \\\n",
              "0        15744942    Steele    Spain  Female   55  108987           638   \n",
              "1        15728043   Udinese  Germany  Female   37   57216           648   \n",
              "2        15702561      Dale   France    Male   32   87567           782   \n",
              "3        15628697      Tung    Spain    Male   46   93503           631   \n",
              "4        15667889  Akobundu   France  Female   37  110783           611   \n",
              "...           ...       ...      ...     ...  ...     ...           ...   \n",
              "5034     15688085    Warner    Spain  Female   28   34097           627   \n",
              "5035     15757646    Olague   France    Male   35  192381           584   \n",
              "5036     15812720    Hooker  Germany    Male   37  172098           807   \n",
              "5037     15736043  Hamilton   France    Male   34   97755           638   \n",
              "5038     15780961  Cavenagh   France  Female   21   22388           735   \n",
              "\n",
              "      member  \n",
              "0          1  \n",
              "1          0  \n",
              "2          1  \n",
              "3          1  \n",
              "4          0  \n",
              "...      ...  \n",
              "5034       1  \n",
              "5035       0  \n",
              "5036       1  \n",
              "5037       1  \n",
              "5038       0  \n",
              "\n",
              "[5039 rows x 8 columns]"
            ]
          },
          "execution_count": 13,
          "metadata": {},
          "output_type": "execute_result"
        }
      ],
      "source": [
        "# Create Student Specific Unique Dataset\n",
        "df_35039 = df.sample(n = 5039, random_state = 35039, ignore_index = True)\n",
        "df_35039"
      ]
    },
    {
      "cell_type": "markdown",
      "id": "9ca99347",
      "metadata": {
        "deletable": false,
        "editable": false,
        "id": "9ca99347"
      },
      "source": [
        "#### Note : In the above line\n",
        "##### 1. Replace \"xxxx\" with Student Roll Number\n",
        "##### 2. Replace \"roll_number_last_4_digit\" with Last 4 Digits of Student Roll Number\n",
        "##### 3. Replace \"roll_number\" with Student Roll Number\n",
        "\n",
        "### Example : If Student Roll Number is 12345 then\n",
        "### df_12345 = df.sample(n = 2345, random_state = 12345, ignore_index = True)\n",
        "\n",
        "### -----------------------------------------------------------------------------------------------------------------------------------------------------------"
      ]
    },
    {
      "cell_type": "markdown",
      "id": "742ffd97",
      "metadata": {
        "deletable": false,
        "editable": false,
        "id": "742ffd97"
      },
      "source": [
        "#### Display Data Information"
      ]
    },
    {
      "cell_type": "code",
      "execution_count": null,
      "id": "08bfbd0f",
      "metadata": {
        "id": "08bfbd0f",
        "outputId": "b16504fe-2c47-447a-96a3-bcba446a51c6"
      },
      "outputs": [
        {
          "data": {
            "text/html": [
              "<div>\n",
              "<style scoped>\n",
              "    .dataframe tbody tr th:only-of-type {\n",
              "        vertical-align: middle;\n",
              "    }\n",
              "\n",
              "    .dataframe tbody tr th {\n",
              "        vertical-align: top;\n",
              "    }\n",
              "\n",
              "    .dataframe thead th {\n",
              "        text-align: right;\n",
              "    }\n",
              "</style>\n",
              "<table border=\"1\" class=\"dataframe\">\n",
              "  <thead>\n",
              "    <tr style=\"text-align: right;\">\n",
              "      <th></th>\n",
              "      <th>customer_id</th>\n",
              "      <th>surname</th>\n",
              "      <th>country</th>\n",
              "      <th>gender</th>\n",
              "      <th>age</th>\n",
              "      <th>salary</th>\n",
              "      <th>credit_score</th>\n",
              "      <th>member</th>\n",
              "    </tr>\n",
              "  </thead>\n",
              "  <tbody>\n",
              "    <tr>\n",
              "      <th>0</th>\n",
              "      <td>15744942</td>\n",
              "      <td>Steele</td>\n",
              "      <td>Spain</td>\n",
              "      <td>Female</td>\n",
              "      <td>55</td>\n",
              "      <td>108987</td>\n",
              "      <td>638</td>\n",
              "      <td>1</td>\n",
              "    </tr>\n",
              "    <tr>\n",
              "      <th>1</th>\n",
              "      <td>15728043</td>\n",
              "      <td>Udinese</td>\n",
              "      <td>Germany</td>\n",
              "      <td>Female</td>\n",
              "      <td>37</td>\n",
              "      <td>57216</td>\n",
              "      <td>648</td>\n",
              "      <td>0</td>\n",
              "    </tr>\n",
              "    <tr>\n",
              "      <th>2</th>\n",
              "      <td>15702561</td>\n",
              "      <td>Dale</td>\n",
              "      <td>France</td>\n",
              "      <td>Male</td>\n",
              "      <td>32</td>\n",
              "      <td>87567</td>\n",
              "      <td>782</td>\n",
              "      <td>1</td>\n",
              "    </tr>\n",
              "    <tr>\n",
              "      <th>3</th>\n",
              "      <td>15628697</td>\n",
              "      <td>Tung</td>\n",
              "      <td>Spain</td>\n",
              "      <td>Male</td>\n",
              "      <td>46</td>\n",
              "      <td>93503</td>\n",
              "      <td>631</td>\n",
              "      <td>1</td>\n",
              "    </tr>\n",
              "    <tr>\n",
              "      <th>4</th>\n",
              "      <td>15667889</td>\n",
              "      <td>Akobundu</td>\n",
              "      <td>France</td>\n",
              "      <td>Female</td>\n",
              "      <td>37</td>\n",
              "      <td>110783</td>\n",
              "      <td>611</td>\n",
              "      <td>0</td>\n",
              "    </tr>\n",
              "    <tr>\n",
              "      <th>...</th>\n",
              "      <td>...</td>\n",
              "      <td>...</td>\n",
              "      <td>...</td>\n",
              "      <td>...</td>\n",
              "      <td>...</td>\n",
              "      <td>...</td>\n",
              "      <td>...</td>\n",
              "      <td>...</td>\n",
              "    </tr>\n",
              "    <tr>\n",
              "      <th>5034</th>\n",
              "      <td>15688085</td>\n",
              "      <td>Warner</td>\n",
              "      <td>Spain</td>\n",
              "      <td>Female</td>\n",
              "      <td>28</td>\n",
              "      <td>34097</td>\n",
              "      <td>627</td>\n",
              "      <td>1</td>\n",
              "    </tr>\n",
              "    <tr>\n",
              "      <th>5035</th>\n",
              "      <td>15757646</td>\n",
              "      <td>Olague</td>\n",
              "      <td>France</td>\n",
              "      <td>Male</td>\n",
              "      <td>35</td>\n",
              "      <td>192381</td>\n",
              "      <td>584</td>\n",
              "      <td>0</td>\n",
              "    </tr>\n",
              "    <tr>\n",
              "      <th>5036</th>\n",
              "      <td>15812720</td>\n",
              "      <td>Hooker</td>\n",
              "      <td>Germany</td>\n",
              "      <td>Male</td>\n",
              "      <td>37</td>\n",
              "      <td>172098</td>\n",
              "      <td>807</td>\n",
              "      <td>1</td>\n",
              "    </tr>\n",
              "    <tr>\n",
              "      <th>5037</th>\n",
              "      <td>15736043</td>\n",
              "      <td>Hamilton</td>\n",
              "      <td>France</td>\n",
              "      <td>Male</td>\n",
              "      <td>34</td>\n",
              "      <td>97755</td>\n",
              "      <td>638</td>\n",
              "      <td>1</td>\n",
              "    </tr>\n",
              "    <tr>\n",
              "      <th>5038</th>\n",
              "      <td>15780961</td>\n",
              "      <td>Cavenagh</td>\n",
              "      <td>France</td>\n",
              "      <td>Female</td>\n",
              "      <td>21</td>\n",
              "      <td>22388</td>\n",
              "      <td>735</td>\n",
              "      <td>0</td>\n",
              "    </tr>\n",
              "  </tbody>\n",
              "</table>\n",
              "<p>5039 rows × 8 columns</p>\n",
              "</div>"
            ],
            "text/plain": [
              "      customer_id   surname  country  gender  age  salary  credit_score  \\\n",
              "0        15744942    Steele    Spain  Female   55  108987           638   \n",
              "1        15728043   Udinese  Germany  Female   37   57216           648   \n",
              "2        15702561      Dale   France    Male   32   87567           782   \n",
              "3        15628697      Tung    Spain    Male   46   93503           631   \n",
              "4        15667889  Akobundu   France  Female   37  110783           611   \n",
              "...           ...       ...      ...     ...  ...     ...           ...   \n",
              "5034     15688085    Warner    Spain  Female   28   34097           627   \n",
              "5035     15757646    Olague   France    Male   35  192381           584   \n",
              "5036     15812720    Hooker  Germany    Male   37  172098           807   \n",
              "5037     15736043  Hamilton   France    Male   34   97755           638   \n",
              "5038     15780961  Cavenagh   France  Female   21   22388           735   \n",
              "\n",
              "      member  \n",
              "0          1  \n",
              "1          0  \n",
              "2          1  \n",
              "3          1  \n",
              "4          0  \n",
              "...      ...  \n",
              "5034       1  \n",
              "5035       0  \n",
              "5036       1  \n",
              "5037       1  \n",
              "5038       0  \n",
              "\n",
              "[5039 rows x 8 columns]"
            ]
          },
          "execution_count": 14,
          "metadata": {},
          "output_type": "execute_result"
        }
      ],
      "source": [
        "# Display Dataset\n",
        "df_35039"
      ]
    },
    {
      "cell_type": "code",
      "execution_count": null,
      "id": "386c6d5f",
      "metadata": {
        "id": "386c6d5f",
        "outputId": "2012af3b-cfdc-4c31-ce56-72c560d0b0f9"
      },
      "outputs": [
        {
          "name": "stdout",
          "output_type": "stream",
          "text": [
            "<class 'pandas.core.frame.DataFrame'>\n",
            "RangeIndex: 5039 entries, 0 to 5038\n",
            "Data columns (total 8 columns):\n",
            " #   Column        Non-Null Count  Dtype \n",
            "---  ------        --------------  ----- \n",
            " 0   customer_id   5039 non-null   int64 \n",
            " 1   surname       5039 non-null   object\n",
            " 2   country       5039 non-null   object\n",
            " 3   gender        5039 non-null   object\n",
            " 4   age           5039 non-null   int64 \n",
            " 5   salary        5039 non-null   int64 \n",
            " 6   credit_score  5039 non-null   int64 \n",
            " 7   member        5039 non-null   int64 \n",
            "dtypes: int64(5), object(3)\n",
            "memory usage: 315.1+ KB\n"
          ]
        }
      ],
      "source": [
        "# Display Data Information\n",
        "df_35039.info()"
      ]
    },
    {
      "cell_type": "markdown",
      "id": "ac55ecb0",
      "metadata": {
        "deletable": false,
        "editable": false,
        "id": "ac55ecb0"
      },
      "source": [
        "### -----------------------------------------------------------------------------------------------------------------------------------------------------------"
      ]
    },
    {
      "cell_type": "markdown",
      "id": "9f11e906",
      "metadata": {
        "deletable": false,
        "editable": false,
        "id": "9f11e906"
      },
      "source": [
        "## Instructions\n",
        "\n",
        "### Part A : Description of Data\n",
        "\n",
        "### Part B : Objective(s) of Data Analysis\n",
        "\n",
        "### Part C : Data Analysis\n",
        "#### 1. Segregate the Data in 2 parts : Nominal (Descriptive) | Non-Nominal (Quantitative)\n",
        "#### 1.1. Nominal (Descriptive) Data : Visualize using Descriptive Statistics\n",
        "#### 1.2. Non-Nominal (Quantitative) Data : Analyze using Descriptive Statistics\n",
        "\n",
        "#### 2. Analyze the Data using Inferential Statistics & Regression\n",
        "#### 2.1. Inferential Statistics (Hypothesis Testing : T Test | ANOVA | Test of Correlation | Test of Normality)\n",
        "#### 2.2. Regression (Simple | Multiple | Multiple with Categorical Data)\n",
        "\n",
        "### Part D : Report on Data Analysis : Observations | Inferences (or Insights)\n",
        "\n",
        "### -----------------------------------------------------------------------------------------------------------------------------------------------------------"
      ]
    },
    {
      "cell_type": "markdown",
      "id": "d4171b03",
      "metadata": {
        "deletable": false,
        "editable": false,
        "id": "d4171b03"
      },
      "source": [
        "### Part A : Description of Data"
      ]
    },
    {
      "cell_type": "code",
      "execution_count": null,
      "id": "9113fa0d",
      "metadata": {
        "id": "9113fa0d",
        "outputId": "c9e2529b-3053-4f1c-f956-45ffaa23b636"
      },
      "outputs": [
        {
          "data": {
            "text/html": [
              "<div>\n",
              "<style scoped>\n",
              "    .dataframe tbody tr th:only-of-type {\n",
              "        vertical-align: middle;\n",
              "    }\n",
              "\n",
              "    .dataframe tbody tr th {\n",
              "        vertical-align: top;\n",
              "    }\n",
              "\n",
              "    .dataframe thead th {\n",
              "        text-align: right;\n",
              "    }\n",
              "</style>\n",
              "<table border=\"1\" class=\"dataframe\">\n",
              "  <thead>\n",
              "    <tr style=\"text-align: right;\">\n",
              "      <th></th>\n",
              "      <th>customer_id</th>\n",
              "      <th>age</th>\n",
              "      <th>salary</th>\n",
              "      <th>credit_score</th>\n",
              "      <th>member</th>\n",
              "    </tr>\n",
              "  </thead>\n",
              "  <tbody>\n",
              "    <tr>\n",
              "      <th>count</th>\n",
              "      <td>1.000000e+04</td>\n",
              "      <td>10000.000000</td>\n",
              "      <td>10000.000000</td>\n",
              "      <td>10000.000000</td>\n",
              "      <td>10000.000000</td>\n",
              "    </tr>\n",
              "    <tr>\n",
              "      <th>mean</th>\n",
              "      <td>1.569094e+07</td>\n",
              "      <td>38.921800</td>\n",
              "      <td>100090.241500</td>\n",
              "      <td>650.528800</td>\n",
              "      <td>0.515100</td>\n",
              "    </tr>\n",
              "    <tr>\n",
              "      <th>std</th>\n",
              "      <td>7.193619e+04</td>\n",
              "      <td>10.487806</td>\n",
              "      <td>57510.492352</td>\n",
              "      <td>96.653299</td>\n",
              "      <td>0.499797</td>\n",
              "    </tr>\n",
              "    <tr>\n",
              "      <th>min</th>\n",
              "      <td>1.556570e+07</td>\n",
              "      <td>18.000000</td>\n",
              "      <td>12.000000</td>\n",
              "      <td>350.000000</td>\n",
              "      <td>0.000000</td>\n",
              "    </tr>\n",
              "    <tr>\n",
              "      <th>25%</th>\n",
              "      <td>1.562853e+07</td>\n",
              "      <td>32.000000</td>\n",
              "      <td>51002.000000</td>\n",
              "      <td>584.000000</td>\n",
              "      <td>0.000000</td>\n",
              "    </tr>\n",
              "    <tr>\n",
              "      <th>50%</th>\n",
              "      <td>1.569074e+07</td>\n",
              "      <td>37.000000</td>\n",
              "      <td>100193.500000</td>\n",
              "      <td>652.000000</td>\n",
              "      <td>1.000000</td>\n",
              "    </tr>\n",
              "    <tr>\n",
              "      <th>75%</th>\n",
              "      <td>1.575323e+07</td>\n",
              "      <td>44.000000</td>\n",
              "      <td>149388.000000</td>\n",
              "      <td>718.000000</td>\n",
              "      <td>1.000000</td>\n",
              "    </tr>\n",
              "    <tr>\n",
              "      <th>max</th>\n",
              "      <td>1.581569e+07</td>\n",
              "      <td>92.000000</td>\n",
              "      <td>199992.000000</td>\n",
              "      <td>850.000000</td>\n",
              "      <td>1.000000</td>\n",
              "    </tr>\n",
              "  </tbody>\n",
              "</table>\n",
              "</div>"
            ],
            "text/plain": [
              "        customer_id           age         salary  credit_score        member\n",
              "count  1.000000e+04  10000.000000   10000.000000  10000.000000  10000.000000\n",
              "mean   1.569094e+07     38.921800  100090.241500    650.528800      0.515100\n",
              "std    7.193619e+04     10.487806   57510.492352     96.653299      0.499797\n",
              "min    1.556570e+07     18.000000      12.000000    350.000000      0.000000\n",
              "25%    1.562853e+07     32.000000   51002.000000    584.000000      0.000000\n",
              "50%    1.569074e+07     37.000000  100193.500000    652.000000      1.000000\n",
              "75%    1.575323e+07     44.000000  149388.000000    718.000000      1.000000\n",
              "max    1.581569e+07     92.000000  199992.000000    850.000000      1.000000"
            ]
          },
          "execution_count": 59,
          "metadata": {},
          "output_type": "execute_result"
        }
      ],
      "source": [
        "df.describe()"
      ]
    },
    {
      "cell_type": "markdown",
      "id": "c26bf2be",
      "metadata": {
        "id": "c26bf2be"
      },
      "source": [
        "__About the Data__\n",
        "\n",
        "The Data is about the customers visting the 3 stores of a company in three countries france, spain and germany, containing 10001 unique customer ids.  \n",
        "\n",
        "It captures the following variables:\n",
        "\n",
        "1. *Descriptive varibales* :\n",
        "    \n",
        "    a. customer_id: containging 10001 unique cstomer_id\n",
        "    \n",
        "    b. surname: surname of the different customers\n",
        "    \n",
        "    c. country: 3 contries, spain, france and germany where the company has its three stores, individually\n",
        "    \n",
        "   \n",
        "   \n",
        "2. *Quantifying varibales*\n",
        "    \n",
        "    a. salary: non-Categorical variable\n",
        "    \n",
        "    b. credit_score: non-Categorical variable\n",
        "    \n",
        "    c. members: Categorical variable\n",
        "    \n",
        "    d. age: categorical variable\n",
        "    \n",
        "    e. Gender: categorical varibale"
      ]
    },
    {
      "cell_type": "markdown",
      "id": "9d8f8047",
      "metadata": {
        "deletable": false,
        "editable": false,
        "id": "9d8f8047"
      },
      "source": [
        "### Part B : Objective(s) of Data Analysis"
      ]
    },
    {
      "cell_type": "markdown",
      "id": "41f73d49",
      "metadata": {
        "id": "41f73d49"
      },
      "source": [
        "1. Count and percentage of gender\n",
        "\n",
        "\n",
        "2. Count and percentage of member\n",
        "\n",
        "\n",
        "3. Comparision of \"credit_score\" between \"members\" and \"non-members\" customers\n",
        "\n",
        "\n",
        "4. Comparision of \"credit_score\" between \"female\" and \"male\" customers\n",
        "\n",
        "\n",
        "5. Comparing the credit scores of the three stores in the three countries (Assuming there is only one store in each country)\n",
        "\n",
        "\n",
        "6. Correlation between customer's \"credit_score\" and \"salary\"\n",
        "\n",
        "\n",
        "7. Relation between credit_score and salary and the members (dummy variable/categorical variable)"
      ]
    },
    {
      "cell_type": "markdown",
      "id": "84a03c85",
      "metadata": {
        "deletable": false,
        "editable": false,
        "id": "84a03c85"
      },
      "source": [
        "### Part C : Data Analysis"
      ]
    },
    {
      "cell_type": "code",
      "execution_count": null,
      "id": "1e94554a",
      "metadata": {
        "id": "1e94554a",
        "outputId": "c9aac9cc-292f-4b38-8880-dbee8ef81814"
      },
      "outputs": [
        {
          "data": {
            "text/plain": [
              "Index(['customer_id', 'surname', 'country', 'gender', 'age', 'salary',\n",
              "       'credit_score', 'member'],\n",
              "      dtype='object')"
            ]
          },
          "execution_count": 16,
          "metadata": {},
          "output_type": "execute_result"
        }
      ],
      "source": [
        "df.columns"
      ]
    },
    {
      "cell_type": "markdown",
      "id": "0f1b92fd",
      "metadata": {
        "id": "0f1b92fd"
      },
      "source": [
        "## Count Statistics of Categorical variables"
      ]
    },
    {
      "cell_type": "code",
      "execution_count": null,
      "id": "889860bc",
      "metadata": {
        "id": "889860bc",
        "outputId": "ae97427e-3b34-43fd-8a14-a27acf97f4e9"
      },
      "outputs": [
        {
          "data": {
            "text/html": [
              "<div>\n",
              "<style scoped>\n",
              "    .dataframe tbody tr th:only-of-type {\n",
              "        vertical-align: middle;\n",
              "    }\n",
              "\n",
              "    .dataframe tbody tr th {\n",
              "        vertical-align: top;\n",
              "    }\n",
              "\n",
              "    .dataframe thead th {\n",
              "        text-align: right;\n",
              "    }\n",
              "</style>\n",
              "<table border=\"1\" class=\"dataframe\">\n",
              "  <thead>\n",
              "    <tr style=\"text-align: right;\">\n",
              "      <th></th>\n",
              "      <th>customer_id</th>\n",
              "      <th>surname</th>\n",
              "      <th>member</th>\n",
              "      <th>gender</th>\n",
              "    </tr>\n",
              "  </thead>\n",
              "  <tbody>\n",
              "    <tr>\n",
              "      <th>0</th>\n",
              "      <td>15634602</td>\n",
              "      <td>Hargrave</td>\n",
              "      <td>1</td>\n",
              "      <td>Female</td>\n",
              "    </tr>\n",
              "    <tr>\n",
              "      <th>1</th>\n",
              "      <td>15647311</td>\n",
              "      <td>Hill</td>\n",
              "      <td>1</td>\n",
              "      <td>Female</td>\n",
              "    </tr>\n",
              "    <tr>\n",
              "      <th>2</th>\n",
              "      <td>15619304</td>\n",
              "      <td>Onio</td>\n",
              "      <td>0</td>\n",
              "      <td>Female</td>\n",
              "    </tr>\n",
              "    <tr>\n",
              "      <th>3</th>\n",
              "      <td>15701354</td>\n",
              "      <td>Boni</td>\n",
              "      <td>0</td>\n",
              "      <td>Female</td>\n",
              "    </tr>\n",
              "    <tr>\n",
              "      <th>4</th>\n",
              "      <td>15737888</td>\n",
              "      <td>Mitchell</td>\n",
              "      <td>1</td>\n",
              "      <td>Female</td>\n",
              "    </tr>\n",
              "    <tr>\n",
              "      <th>...</th>\n",
              "      <td>...</td>\n",
              "      <td>...</td>\n",
              "      <td>...</td>\n",
              "      <td>...</td>\n",
              "    </tr>\n",
              "    <tr>\n",
              "      <th>9995</th>\n",
              "      <td>15606229</td>\n",
              "      <td>Obijiaku</td>\n",
              "      <td>0</td>\n",
              "      <td>Male</td>\n",
              "    </tr>\n",
              "    <tr>\n",
              "      <th>9996</th>\n",
              "      <td>15569892</td>\n",
              "      <td>Johnstone</td>\n",
              "      <td>1</td>\n",
              "      <td>Male</td>\n",
              "    </tr>\n",
              "    <tr>\n",
              "      <th>9997</th>\n",
              "      <td>15584532</td>\n",
              "      <td>Liu</td>\n",
              "      <td>1</td>\n",
              "      <td>Female</td>\n",
              "    </tr>\n",
              "    <tr>\n",
              "      <th>9998</th>\n",
              "      <td>15682355</td>\n",
              "      <td>Sabbatini</td>\n",
              "      <td>0</td>\n",
              "      <td>Male</td>\n",
              "    </tr>\n",
              "    <tr>\n",
              "      <th>9999</th>\n",
              "      <td>15628319</td>\n",
              "      <td>Walker</td>\n",
              "      <td>0</td>\n",
              "      <td>Female</td>\n",
              "    </tr>\n",
              "  </tbody>\n",
              "</table>\n",
              "<p>10000 rows × 4 columns</p>\n",
              "</div>"
            ],
            "text/plain": [
              "      customer_id    surname  member  gender\n",
              "0        15634602   Hargrave       1  Female\n",
              "1        15647311       Hill       1  Female\n",
              "2        15619304       Onio       0  Female\n",
              "3        15701354       Boni       0  Female\n",
              "4        15737888   Mitchell       1  Female\n",
              "...           ...        ...     ...     ...\n",
              "9995     15606229   Obijiaku       0    Male\n",
              "9996     15569892  Johnstone       1    Male\n",
              "9997     15584532        Liu       1  Female\n",
              "9998     15682355  Sabbatini       0    Male\n",
              "9999     15628319     Walker       0  Female\n",
              "\n",
              "[10000 rows x 4 columns]"
            ]
          },
          "execution_count": 19,
          "metadata": {},
          "output_type": "execute_result"
        }
      ],
      "source": [
        "df_cat = df[['customer_id', 'surname','member', 'gender']]\n",
        "df_cat"
      ]
    },
    {
      "cell_type": "code",
      "execution_count": null,
      "id": "01234205",
      "metadata": {
        "id": "01234205",
        "outputId": "b7aee71a-744e-4b0b-e78b-d513da7ade2e"
      },
      "outputs": [
        {
          "data": {
            "text/html": [
              "<div>\n",
              "<style scoped>\n",
              "    .dataframe tbody tr th:only-of-type {\n",
              "        vertical-align: middle;\n",
              "    }\n",
              "\n",
              "    .dataframe tbody tr th {\n",
              "        vertical-align: top;\n",
              "    }\n",
              "\n",
              "    .dataframe thead th {\n",
              "        text-align: right;\n",
              "    }\n",
              "</style>\n",
              "<table border=\"1\" class=\"dataframe\">\n",
              "  <thead>\n",
              "    <tr style=\"text-align: right;\">\n",
              "      <th></th>\n",
              "      <th>count</th>\n",
              "      <th>percentage</th>\n",
              "    </tr>\n",
              "  </thead>\n",
              "  <tbody>\n",
              "    <tr>\n",
              "      <th>Male</th>\n",
              "      <td>5457</td>\n",
              "      <td>55.0</td>\n",
              "    </tr>\n",
              "    <tr>\n",
              "      <th>Female</th>\n",
              "      <td>4543</td>\n",
              "      <td>45.0</td>\n",
              "    </tr>\n",
              "  </tbody>\n",
              "</table>\n",
              "</div>"
            ],
            "text/plain": [
              "        count  percentage\n",
              "Male     5457        55.0\n",
              "Female   4543        45.0"
            ]
          },
          "execution_count": 21,
          "metadata": {},
          "output_type": "execute_result"
        }
      ],
      "source": [
        "gender_stats = pd.concat([df['gender'].value_counts(), df['gender'].value_counts(normalize=True).mul(100).round(0)], axis=1, keys=('count','percentage'))\n",
        "gender_stats"
      ]
    },
    {
      "cell_type": "code",
      "execution_count": null,
      "id": "c723792b",
      "metadata": {
        "id": "c723792b",
        "outputId": "46973d69-309a-486e-d627-4dbd8c5569be"
      },
      "outputs": [
        {
          "data": {
            "text/html": [
              "<div>\n",
              "<style scoped>\n",
              "    .dataframe tbody tr th:only-of-type {\n",
              "        vertical-align: middle;\n",
              "    }\n",
              "\n",
              "    .dataframe tbody tr th {\n",
              "        vertical-align: top;\n",
              "    }\n",
              "\n",
              "    .dataframe thead th {\n",
              "        text-align: right;\n",
              "    }\n",
              "</style>\n",
              "<table border=\"1\" class=\"dataframe\">\n",
              "  <thead>\n",
              "    <tr style=\"text-align: right;\">\n",
              "      <th></th>\n",
              "      <th>count</th>\n",
              "      <th>percentage</th>\n",
              "      <th>Gender_type</th>\n",
              "    </tr>\n",
              "  </thead>\n",
              "  <tbody>\n",
              "    <tr>\n",
              "      <th>1</th>\n",
              "      <td>5151</td>\n",
              "      <td>52.0</td>\n",
              "      <td>1</td>\n",
              "    </tr>\n",
              "    <tr>\n",
              "      <th>0</th>\n",
              "      <td>4849</td>\n",
              "      <td>48.0</td>\n",
              "      <td>0</td>\n",
              "    </tr>\n",
              "  </tbody>\n",
              "</table>\n",
              "</div>"
            ],
            "text/plain": [
              "   count  percentage  Gender_type\n",
              "1   5151        52.0            1\n",
              "0   4849        48.0            0"
            ]
          },
          "execution_count": 31,
          "metadata": {},
          "output_type": "execute_result"
        }
      ],
      "source": [
        "gender_stats['Gender_type'] = gender_stats.index\n",
        "gender_stats"
      ]
    },
    {
      "cell_type": "code",
      "execution_count": null,
      "id": "92d99359",
      "metadata": {
        "id": "92d99359",
        "outputId": "fd5a2e99-81e9-4fe1-c24b-717a7db79755"
      },
      "outputs": [
        {
          "data": {
            "text/plain": [
              "<AxesSubplot:xlabel='Gender', ylabel='Gender count'>"
            ]
          },
          "execution_count": 32,
          "metadata": {},
          "output_type": "execute_result"
        },
        {
          "data": {
            "image/png": "[encoded data removed]",
            "text/plain": [
              "<Figure size 640x480 with 1 Axes>"
            ]
          },
          "metadata": {},
          "output_type": "display_data"
        }
      ],
      "source": [
        "gender_stats.plot.bar(x =\"Gender_type\", y =\"count\", xlabel = \"Gender\" , ylabel= \"Gender count\" , legend = None)"
      ]
    },
    {
      "cell_type": "markdown",
      "id": "f8ac671a",
      "metadata": {
        "id": "f8ac671a"
      },
      "source": [
        "__Inferences__:\n",
        "\n",
        "The male customers are 55% and the female customer are 45%. Thus the male customer data is more with the company than the female customers"
      ]
    },
    {
      "cell_type": "code",
      "execution_count": null,
      "id": "ba7b7d97",
      "metadata": {
        "id": "ba7b7d97",
        "outputId": "5fe8cb05-0ad5-49fd-fc80-76340078213d"
      },
      "outputs": [
        {
          "data": {
            "text/html": [
              "<div>\n",
              "<style scoped>\n",
              "    .dataframe tbody tr th:only-of-type {\n",
              "        vertical-align: middle;\n",
              "    }\n",
              "\n",
              "    .dataframe tbody tr th {\n",
              "        vertical-align: top;\n",
              "    }\n",
              "\n",
              "    .dataframe thead th {\n",
              "        text-align: right;\n",
              "    }\n",
              "</style>\n",
              "<table border=\"1\" class=\"dataframe\">\n",
              "  <thead>\n",
              "    <tr style=\"text-align: right;\">\n",
              "      <th></th>\n",
              "      <th>count</th>\n",
              "      <th>percentage</th>\n",
              "    </tr>\n",
              "  </thead>\n",
              "  <tbody>\n",
              "    <tr>\n",
              "      <th>1</th>\n",
              "      <td>5151</td>\n",
              "      <td>52.0</td>\n",
              "    </tr>\n",
              "    <tr>\n",
              "      <th>0</th>\n",
              "      <td>4849</td>\n",
              "      <td>48.0</td>\n",
              "    </tr>\n",
              "  </tbody>\n",
              "</table>\n",
              "</div>"
            ],
            "text/plain": [
              "   count  percentage\n",
              "1   5151        52.0\n",
              "0   4849        48.0"
            ]
          },
          "execution_count": 24,
          "metadata": {},
          "output_type": "execute_result"
        }
      ],
      "source": [
        "member_stats = pd.concat([df['member'].value_counts(), df['member'].value_counts(normalize=True).mul(100).round(0)], axis=1, keys=('count','percentage'))\n",
        "member_stats"
      ]
    },
    {
      "cell_type": "code",
      "execution_count": null,
      "id": "6392f000",
      "metadata": {
        "id": "6392f000",
        "outputId": "8fd0964f-7ccb-4139-8327-19ae2c55df15"
      },
      "outputs": [
        {
          "data": {
            "text/html": [
              "<div>\n",
              "<style scoped>\n",
              "    .dataframe tbody tr th:only-of-type {\n",
              "        vertical-align: middle;\n",
              "    }\n",
              "\n",
              "    .dataframe tbody tr th {\n",
              "        vertical-align: top;\n",
              "    }\n",
              "\n",
              "    .dataframe thead th {\n",
              "        text-align: right;\n",
              "    }\n",
              "</style>\n",
              "<table border=\"1\" class=\"dataframe\">\n",
              "  <thead>\n",
              "    <tr style=\"text-align: right;\">\n",
              "      <th></th>\n",
              "      <th>count</th>\n",
              "      <th>percentage</th>\n",
              "      <th>member_type</th>\n",
              "    </tr>\n",
              "  </thead>\n",
              "  <tbody>\n",
              "    <tr>\n",
              "      <th>1</th>\n",
              "      <td>5151</td>\n",
              "      <td>52.0</td>\n",
              "      <td>1</td>\n",
              "    </tr>\n",
              "    <tr>\n",
              "      <th>0</th>\n",
              "      <td>4849</td>\n",
              "      <td>48.0</td>\n",
              "      <td>0</td>\n",
              "    </tr>\n",
              "  </tbody>\n",
              "</table>\n",
              "</div>"
            ],
            "text/plain": [
              "   count  percentage  member_type\n",
              "1   5151        52.0            1\n",
              "0   4849        48.0            0"
            ]
          },
          "execution_count": 33,
          "metadata": {},
          "output_type": "execute_result"
        }
      ],
      "source": [
        "member_stats['member_type'] = member_stats.index\n",
        "member_stats"
      ]
    },
    {
      "cell_type": "code",
      "execution_count": null,
      "id": "356417e8",
      "metadata": {
        "id": "356417e8",
        "outputId": "f4c15310-aaae-4c5a-9579-667ac9967c8e"
      },
      "outputs": [
        {
          "data": {
            "text/plain": [
              "<AxesSubplot:xlabel='member', ylabel='member count'>"
            ]
          },
          "execution_count": 35,
          "metadata": {},
          "output_type": "execute_result"
        },
        {
          "data": {
            "image/png": "[encoded data removed]",
            "text/plain": [
              "<Figure size 640x480 with 1 Axes>"
            ]
          },
          "metadata": {},
          "output_type": "display_data"
        }
      ],
      "source": [
        "member_stats.plot.bar(x =\"member_type\", y =\"count\", xlabel = \"member\" , ylabel= \"member count\" , legend = None)"
      ]
    },
    {
      "cell_type": "markdown",
      "id": "6b467d14",
      "metadata": {
        "id": "6b467d14"
      },
      "source": [
        "__Inferences__:\n",
        "\n",
        "The company has more data of its members (52%) and less data of its non-members (48%)"
      ]
    },
    {
      "cell_type": "markdown",
      "id": "14565ffc",
      "metadata": {
        "id": "14565ffc"
      },
      "source": [
        "## Descriptive Statistics of Non-Categorical variables"
      ]
    },
    {
      "cell_type": "code",
      "execution_count": null,
      "id": "a388bee9",
      "metadata": {
        "id": "a388bee9",
        "outputId": "19627d31-c1ab-4384-ecbb-60fea98d4e0f"
      },
      "outputs": [
        {
          "data": {
            "text/html": [
              "<div>\n",
              "<style scoped>\n",
              "    .dataframe tbody tr th:only-of-type {\n",
              "        vertical-align: middle;\n",
              "    }\n",
              "\n",
              "    .dataframe tbody tr th {\n",
              "        vertical-align: top;\n",
              "    }\n",
              "\n",
              "    .dataframe thead th {\n",
              "        text-align: right;\n",
              "    }\n",
              "</style>\n",
              "<table border=\"1\" class=\"dataframe\">\n",
              "  <thead>\n",
              "    <tr style=\"text-align: right;\">\n",
              "      <th></th>\n",
              "      <th>salary</th>\n",
              "      <th>credit_score</th>\n",
              "    </tr>\n",
              "  </thead>\n",
              "  <tbody>\n",
              "    <tr>\n",
              "      <th>0</th>\n",
              "      <td>101349</td>\n",
              "      <td>619</td>\n",
              "    </tr>\n",
              "    <tr>\n",
              "      <th>1</th>\n",
              "      <td>112543</td>\n",
              "      <td>608</td>\n",
              "    </tr>\n",
              "    <tr>\n",
              "      <th>2</th>\n",
              "      <td>113932</td>\n",
              "      <td>502</td>\n",
              "    </tr>\n",
              "    <tr>\n",
              "      <th>3</th>\n",
              "      <td>93827</td>\n",
              "      <td>699</td>\n",
              "    </tr>\n",
              "    <tr>\n",
              "      <th>4</th>\n",
              "      <td>79084</td>\n",
              "      <td>850</td>\n",
              "    </tr>\n",
              "    <tr>\n",
              "      <th>...</th>\n",
              "      <td>...</td>\n",
              "      <td>...</td>\n",
              "    </tr>\n",
              "    <tr>\n",
              "      <th>9995</th>\n",
              "      <td>96271</td>\n",
              "      <td>771</td>\n",
              "    </tr>\n",
              "    <tr>\n",
              "      <th>9996</th>\n",
              "      <td>101700</td>\n",
              "      <td>516</td>\n",
              "    </tr>\n",
              "    <tr>\n",
              "      <th>9997</th>\n",
              "      <td>42086</td>\n",
              "      <td>709</td>\n",
              "    </tr>\n",
              "    <tr>\n",
              "      <th>9998</th>\n",
              "      <td>92889</td>\n",
              "      <td>772</td>\n",
              "    </tr>\n",
              "    <tr>\n",
              "      <th>9999</th>\n",
              "      <td>38191</td>\n",
              "      <td>792</td>\n",
              "    </tr>\n",
              "  </tbody>\n",
              "</table>\n",
              "<p>10000 rows × 2 columns</p>\n",
              "</div>"
            ],
            "text/plain": [
              "      salary  credit_score\n",
              "0     101349           619\n",
              "1     112543           608\n",
              "2     113932           502\n",
              "3      93827           699\n",
              "4      79084           850\n",
              "...      ...           ...\n",
              "9995   96271           771\n",
              "9996  101700           516\n",
              "9997   42086           709\n",
              "9998   92889           772\n",
              "9999   38191           792\n",
              "\n",
              "[10000 rows x 2 columns]"
            ]
          },
          "execution_count": 29,
          "metadata": {},
          "output_type": "execute_result"
        }
      ],
      "source": [
        "df_noncat = df[['salary', 'credit_score',]]\n",
        "df_noncat"
      ]
    },
    {
      "cell_type": "code",
      "execution_count": null,
      "id": "1e5e9554",
      "metadata": {
        "id": "1e5e9554",
        "outputId": "a19e444b-c171-437d-ef03-6b966acca7d2"
      },
      "outputs": [
        {
          "name": "stderr",
          "output_type": "stream",
          "text": [
            "C:\\ProgramData\\Anaconda3\\lib\\site-packages\\statsmodels\\stats\\descriptivestats.py:418: FutureWarning: Unlike other reduction functions (e.g. `skew`, `kurtosis`), the default behavior of `mode` typically preserves the axis it acts along. In SciPy 1.11.0, this behavior will change: the default value of `keepdims` will become False, the `axis` over which the statistic is taken will be eliminated, and the value None will no longer be accepted. Set `keepdims` to True or False to avoid this warning.\n",
            "  mode_res = stats.mode(ser.dropna())\n"
          ]
        },
        {
          "data": {
            "text/html": [
              "<div>\n",
              "<style scoped>\n",
              "    .dataframe tbody tr th:only-of-type {\n",
              "        vertical-align: middle;\n",
              "    }\n",
              "\n",
              "    .dataframe tbody tr th {\n",
              "        vertical-align: top;\n",
              "    }\n",
              "\n",
              "    .dataframe thead th {\n",
              "        text-align: right;\n",
              "    }\n",
              "</style>\n",
              "<table border=\"1\" class=\"dataframe\">\n",
              "  <thead>\n",
              "    <tr style=\"text-align: right;\">\n",
              "      <th></th>\n",
              "      <th>salary</th>\n",
              "      <th>credit_score</th>\n",
              "    </tr>\n",
              "  </thead>\n",
              "  <tbody>\n",
              "    <tr>\n",
              "      <th>nobs</th>\n",
              "      <td>1.000000e+04</td>\n",
              "      <td>1.000000e+04</td>\n",
              "    </tr>\n",
              "    <tr>\n",
              "      <th>missing</th>\n",
              "      <td>0.000000e+00</td>\n",
              "      <td>0.000000e+00</td>\n",
              "    </tr>\n",
              "    <tr>\n",
              "      <th>mean</th>\n",
              "      <td>1.000902e+05</td>\n",
              "      <td>6.505288e+02</td>\n",
              "    </tr>\n",
              "    <tr>\n",
              "      <th>std_err</th>\n",
              "      <td>5.751049e+00</td>\n",
              "      <td>9.665330e-03</td>\n",
              "    </tr>\n",
              "    <tr>\n",
              "      <th>upper_ci</th>\n",
              "      <td>1.001015e+05</td>\n",
              "      <td>6.505477e+02</td>\n",
              "    </tr>\n",
              "    <tr>\n",
              "      <th>lower_ci</th>\n",
              "      <td>1.000790e+05</td>\n",
              "      <td>6.505099e+02</td>\n",
              "    </tr>\n",
              "    <tr>\n",
              "      <th>std</th>\n",
              "      <td>5.751049e+04</td>\n",
              "      <td>9.665330e+01</td>\n",
              "    </tr>\n",
              "    <tr>\n",
              "      <th>iqr</th>\n",
              "      <td>9.838600e+04</td>\n",
              "      <td>1.340000e+02</td>\n",
              "    </tr>\n",
              "    <tr>\n",
              "      <th>iqr_normal</th>\n",
              "      <td>7.293365e+04</td>\n",
              "      <td>9.933435e+01</td>\n",
              "    </tr>\n",
              "    <tr>\n",
              "      <th>mad</th>\n",
              "      <td>4.967651e+04</td>\n",
              "      <td>7.837654e+01</td>\n",
              "    </tr>\n",
              "    <tr>\n",
              "      <th>mad_normal</th>\n",
              "      <td>6.226027e+04</td>\n",
              "      <td>9.823042e+01</td>\n",
              "    </tr>\n",
              "    <tr>\n",
              "      <th>coef_var</th>\n",
              "      <td>5.745864e-01</td>\n",
              "      <td>1.485765e-01</td>\n",
              "    </tr>\n",
              "    <tr>\n",
              "      <th>range</th>\n",
              "      <td>1.999800e+05</td>\n",
              "      <td>5.000000e+02</td>\n",
              "    </tr>\n",
              "    <tr>\n",
              "      <th>max</th>\n",
              "      <td>1.999920e+05</td>\n",
              "      <td>8.500000e+02</td>\n",
              "    </tr>\n",
              "    <tr>\n",
              "      <th>min</th>\n",
              "      <td>1.200000e+01</td>\n",
              "      <td>3.500000e+02</td>\n",
              "    </tr>\n",
              "    <tr>\n",
              "      <th>skew</th>\n",
              "      <td>2.085058e-03</td>\n",
              "      <td>-7.159587e-02</td>\n",
              "    </tr>\n",
              "    <tr>\n",
              "      <th>kurtosis</th>\n",
              "      <td>1.818472e+00</td>\n",
              "      <td>2.573887e+00</td>\n",
              "    </tr>\n",
              "    <tr>\n",
              "      <th>jarque_bera</th>\n",
              "      <td>5.816773e+02</td>\n",
              "      <td>8.419833e+01</td>\n",
              "    </tr>\n",
              "    <tr>\n",
              "      <th>jarque_bera_pval</th>\n",
              "      <td>4.902084e-127</td>\n",
              "      <td>5.206738e-19</td>\n",
              "    </tr>\n",
              "    <tr>\n",
              "      <th>mode</th>\n",
              "      <td>9.242000e+03</td>\n",
              "      <td>8.500000e+02</td>\n",
              "    </tr>\n",
              "    <tr>\n",
              "      <th>mode_freq</th>\n",
              "      <td>3.000000e-04</td>\n",
              "      <td>2.330000e-02</td>\n",
              "    </tr>\n",
              "    <tr>\n",
              "      <th>median</th>\n",
              "      <td>1.001935e+05</td>\n",
              "      <td>6.520000e+02</td>\n",
              "    </tr>\n",
              "    <tr>\n",
              "      <th>1%</th>\n",
              "      <td>1.842590e+03</td>\n",
              "      <td>4.320000e+02</td>\n",
              "    </tr>\n",
              "    <tr>\n",
              "      <th>5%</th>\n",
              "      <td>9.852100e+03</td>\n",
              "      <td>4.890000e+02</td>\n",
              "    </tr>\n",
              "    <tr>\n",
              "      <th>10%</th>\n",
              "      <td>2.027370e+04</td>\n",
              "      <td>5.210000e+02</td>\n",
              "    </tr>\n",
              "    <tr>\n",
              "      <th>25%</th>\n",
              "      <td>5.100200e+04</td>\n",
              "      <td>5.840000e+02</td>\n",
              "    </tr>\n",
              "    <tr>\n",
              "      <th>50%</th>\n",
              "      <td>1.001935e+05</td>\n",
              "      <td>6.520000e+02</td>\n",
              "    </tr>\n",
              "    <tr>\n",
              "      <th>75%</th>\n",
              "      <td>1.493880e+05</td>\n",
              "      <td>7.180000e+02</td>\n",
              "    </tr>\n",
              "    <tr>\n",
              "      <th>90%</th>\n",
              "      <td>1.796746e+05</td>\n",
              "      <td>7.780000e+02</td>\n",
              "    </tr>\n",
              "    <tr>\n",
              "      <th>95%</th>\n",
              "      <td>1.901552e+05</td>\n",
              "      <td>8.120000e+02</td>\n",
              "    </tr>\n",
              "    <tr>\n",
              "      <th>99%</th>\n",
              "      <td>1.980700e+05</td>\n",
              "      <td>8.500000e+02</td>\n",
              "    </tr>\n",
              "  </tbody>\n",
              "</table>\n",
              "</div>"
            ],
            "text/plain": [
              "                         salary  credit_score\n",
              "nobs               1.000000e+04  1.000000e+04\n",
              "missing            0.000000e+00  0.000000e+00\n",
              "mean               1.000902e+05  6.505288e+02\n",
              "std_err            5.751049e+00  9.665330e-03\n",
              "upper_ci           1.001015e+05  6.505477e+02\n",
              "lower_ci           1.000790e+05  6.505099e+02\n",
              "std                5.751049e+04  9.665330e+01\n",
              "iqr                9.838600e+04  1.340000e+02\n",
              "iqr_normal         7.293365e+04  9.933435e+01\n",
              "mad                4.967651e+04  7.837654e+01\n",
              "mad_normal         6.226027e+04  9.823042e+01\n",
              "coef_var           5.745864e-01  1.485765e-01\n",
              "range              1.999800e+05  5.000000e+02\n",
              "max                1.999920e+05  8.500000e+02\n",
              "min                1.200000e+01  3.500000e+02\n",
              "skew               2.085058e-03 -7.159587e-02\n",
              "kurtosis           1.818472e+00  2.573887e+00\n",
              "jarque_bera        5.816773e+02  8.419833e+01\n",
              "jarque_bera_pval  4.902084e-127  5.206738e-19\n",
              "mode               9.242000e+03  8.500000e+02\n",
              "mode_freq          3.000000e-04  2.330000e-02\n",
              "median             1.001935e+05  6.520000e+02\n",
              "1%                 1.842590e+03  4.320000e+02\n",
              "5%                 9.852100e+03  4.890000e+02\n",
              "10%                2.027370e+04  5.210000e+02\n",
              "25%                5.100200e+04  5.840000e+02\n",
              "50%                1.001935e+05  6.520000e+02\n",
              "75%                1.493880e+05  7.180000e+02\n",
              "90%                1.796746e+05  7.780000e+02\n",
              "95%                1.901552e+05  8.120000e+02\n",
              "99%                1.980700e+05  8.500000e+02"
            ]
          },
          "execution_count": 30,
          "metadata": {},
          "output_type": "execute_result"
        }
      ],
      "source": [
        "df_noncat_stats = sm.stats.descriptivestats.Description(df_noncat).frame\n",
        "df_noncat_stats"
      ]
    },
    {
      "cell_type": "code",
      "execution_count": null,
      "id": "d008230b",
      "metadata": {
        "id": "d008230b",
        "outputId": "2bcfac97-6b29-4da0-8a12-f03c4d77ac6f"
      },
      "outputs": [
        {
          "name": "stderr",
          "output_type": "stream",
          "text": [
            "C:\\ProgramData\\Anaconda3\\lib\\site-packages\\scipy\\stats\\_morestats.py:1800: UserWarning: p-value may not be accurate for N > 5000.\n",
            "  warnings.warn(\"p-value may not be accurate for N > 5000.\")\n"
          ]
        },
        {
          "data": {
            "text/plain": [
              "ShapiroResult(statistic=0.9566362500190735, pvalue=0.0)"
            ]
          },
          "execution_count": 60,
          "metadata": {},
          "output_type": "execute_result"
        }
      ],
      "source": [
        "#Normality test\n",
        "\n",
        "#Null Hypothesis: Salary is normally distibuted\n",
        "\n",
        "normality_test_shapiro1 = sps.shapiro(df['salary'])\n",
        "normality_test_shapiro1"
      ]
    },
    {
      "cell_type": "code",
      "execution_count": null,
      "id": "d964c961",
      "metadata": {
        "id": "d964c961",
        "outputId": "50f84a9d-062d-4a78-8e22-4091268763c2"
      },
      "outputs": [
        {
          "data": {
            "text/plain": [
              "ShapiroResult(statistic=0.9939263463020325, pvalue=3.532837989895404e-20)"
            ]
          },
          "execution_count": 62,
          "metadata": {},
          "output_type": "execute_result"
        }
      ],
      "source": [
        "normality_test_shapiro2 = sps.shapiro(df['credit_score'])\n",
        "normality_test_shapiro2"
      ]
    },
    {
      "cell_type": "markdown",
      "id": "52a06366",
      "metadata": {
        "id": "52a06366"
      },
      "source": [
        "__Inferences__:\n",
        "\n",
        "1. *Salary* (normality_test_shapiro1): On analysis the screwness and kurtosis values and the shapiro wilk test, we can conclude that salary is not normally distributed\n",
        "\n",
        "\n",
        "2. *Credit score* (normality_test_shapiro2): On the anlysis of the screwness and kurtosis values, we can say that the credit_score is normally distributed\n",
        "\n",
        "\n",
        "__Thus, going foward we would use the credit score as the non-categorical varibles for the analysis using the parametric tests__\n",
        "\n"
      ]
    },
    {
      "cell_type": "code",
      "execution_count": null,
      "id": "2c593cad",
      "metadata": {
        "id": "2c593cad",
        "outputId": "58c4f127-d643-4139-b12b-bac5fd1570c4"
      },
      "outputs": [
        {
          "data": {
            "text/plain": [
              "Ttest_indResult(statistic=2.5640011893620214, pvalue=0.010361898566325476)"
            ]
          },
          "execution_count": 45,
          "metadata": {},
          "output_type": "execute_result"
        }
      ],
      "source": [
        "# Comparision of \"credit_score\" between \"members\" and \"non_members\" customers\n",
        "df_member = df[df.member == 1]\n",
        "df_nonmember = df[df.member == 0]\n",
        "\n",
        "# TTest : Null Hypothesis :: Mean of credit score of members = Mean of credit score of non-members\n",
        "\n",
        "mean_test_ttest1 = sps.ttest_ind(df_member.credit_score, df_nonmember.credit_score, equal_var=False)\n",
        "mean_test_ttest1"
      ]
    },
    {
      "cell_type": "code",
      "execution_count": null,
      "id": "4316999a",
      "metadata": {
        "id": "4316999a",
        "outputId": "2f14a8fa-ecfe-4858-f273-5d65eb782908"
      },
      "outputs": [
        {
          "data": {
            "text/plain": [
              "Ttest_indResult(statistic=nan, pvalue=nan)"
            ]
          },
          "execution_count": 46,
          "metadata": {},
          "output_type": "execute_result"
        }
      ],
      "source": [
        "# Comparision of \"credit_score\" between \"female\" and \"male\" customers\n",
        "df_male = df[df.gender == 1]  #1==male\n",
        "df_female = df[df.member == 0] #0==female\n",
        "\n",
        "# TTest : Null Hypothesis :: Mean of credit score of members = Mean of credit score of  non-members\n",
        "\n",
        "mean_test_ttest2 = sps.ttest_ind(df_male.credit_score, df_female.credit_score, equal_var=False)\n",
        "mean_test_ttest2"
      ]
    },
    {
      "cell_type": "markdown",
      "id": "0777cd4d",
      "metadata": {
        "id": "0777cd4d"
      },
      "source": [
        "*Inferences*\n",
        "\n",
        "1. mean_test_ttest1: The p value is less than 0.05, therefore the Average credit_score of members < Average credit_score of non-members\n",
        "\n",
        "\n",
        "2. mean_test_ttest2: The p value is not applicable thus, we cannot conclude any relation between credit score and gender  "
      ]
    },
    {
      "cell_type": "code",
      "execution_count": null,
      "id": "9cc3e18b",
      "metadata": {
        "id": "9cc3e18b",
        "outputId": "2d438813-d29b-4296-b4c7-15ff2ddf0fe1"
      },
      "outputs": [
        {
          "data": {
            "text/plain": [
              "F_onewayResult(statistic=0.3994198989465179, pvalue=0.6707197151786737)"
            ]
          },
          "execution_count": 50,
          "metadata": {},
          "output_type": "execute_result"
        }
      ],
      "source": [
        "df_spain = df[df.country == 'Spain'] # Subset country with Spain\n",
        "df_france = df[df.country == 'France'] # Subset country with France\n",
        "df_germany = df[df.country == 'Germany'] # Subset country with Germany\n",
        "# ANOVA : Null Hypothesis :: Mean of credit_score of spain store = mean of credit_score of france store = mean of credit score of germany store\n",
        "\n",
        "# ANOVA Using Scipy\n",
        "mean_test_anova_scipy = sps.f_oneway(df_spain.credit_score, df_france.credit_score, df_germany.credit_score) # ANOVA\n",
        "mean_test_anova_scipy"
      ]
    },
    {
      "cell_type": "code",
      "execution_count": null,
      "id": "fdef751a",
      "metadata": {
        "id": "fdef751a",
        "outputId": "731874c3-827b-43d0-9ed9-3ecd1be889ea"
      },
      "outputs": [
        {
          "data": {
            "text/html": [
              "<table class=\"simpletable\">\n",
              "<caption>Multiple Comparison of Means - Tukey HSD, FWER=0.05</caption>\n",
              "<tr>\n",
              "  <th>group1</th>  <th>group2</th>  <th>meandiff</th>  <th>p-adj</th>  <th>lower</th>   <th>upper</th> <th>reject</th>\n",
              "</tr>\n",
              "<tr>\n",
              "  <td>France</td>  <td>Germany</td>  <td>1.7852</td>  <td>0.7304</td> <td>-3.7554</td> <td>7.3259</td>  <td>False</td>\n",
              "</tr>\n",
              "<tr>\n",
              "  <td>France</td>   <td>Spain</td>   <td>1.6655</td>  <td>0.7625</td> <td>-3.8989</td>  <td>7.23</td>   <td>False</td>\n",
              "</tr>\n",
              "<tr>\n",
              "  <td>Germany</td>  <td>Spain</td>   <td>-0.1197</td> <td>0.9989</td> <td>-6.5373</td> <td>6.2979</td>  <td>False</td>\n",
              "</tr>\n",
              "</table>"
            ],
            "text/plain": [
              "<class 'statsmodels.iolib.table.SimpleTable'>"
            ]
          },
          "execution_count": 52,
          "metadata": {},
          "output_type": "execute_result"
        }
      ],
      "source": [
        "mean_pairwise_compare_statsmodels = sm.stats.multicomp.pairwise_tukeyhsd(df.credit_score, df.country) # Tukey HSD\n",
        "mean_pairwise_compare_statsmodels.summary()"
      ]
    },
    {
      "cell_type": "code",
      "execution_count": null,
      "id": "5a5f2778",
      "metadata": {
        "id": "5a5f2778",
        "outputId": "96ad1b89-150e-4335-8ca9-945803e6da19"
      },
      "outputs": [
        {
          "data": {
            "text/plain": [
              "<AxesSubplot:xlabel='credit_score', ylabel='country'>"
            ]
          },
          "execution_count": 58,
          "metadata": {},
          "output_type": "execute_result"
        },
        {
          "data": {
            "image/png": "[encoded data removed]",
            "text/plain": [
              "<Figure size 640x480 with 1 Axes>"
            ]
          },
          "metadata": {},
          "output_type": "display_data"
        }
      ],
      "source": [
        "sns.boxplot(x=df['credit_score'], y=df['country'], data = df)"
      ]
    },
    {
      "cell_type": "markdown",
      "id": "85a01a2c",
      "metadata": {
        "id": "85a01a2c"
      },
      "source": [
        "*Inferences*\n",
        "\n",
        "1. mean_test_anova_scipy: The p value is greater tha 0.05, therefore the avrage creit_score of the three stores in the three countries are are not differnt\n",
        "\n",
        "\n",
        "2. mean_pairwise_compare_statsmodels (post-hoc test): the adjusted p values are also greater than 0.05 for each pair of couties, thus we can say that the no pair is contributting to the significance of this model.\n",
        "\n",
        "\n",
        "3. The box plot also shows that the median for each of the country is the same."
      ]
    },
    {
      "cell_type": "code",
      "execution_count": null,
      "id": "a26360e6",
      "metadata": {
        "id": "a26360e6",
        "outputId": "1bed2483-db12-4f94-b4f9-f41966031765"
      },
      "outputs": [
        {
          "data": {
            "text/plain": [
              "PearsonRResult(statistic=-0.0013843336719630292, pvalue=0.8899115511361233)"
            ]
          },
          "execution_count": 53,
          "metadata": {},
          "output_type": "execute_result"
        }
      ],
      "source": [
        "# Null Hyposesis : Correlation = 0 (p-value >= 5% by default)\n",
        "\n",
        "# Correlation between customer's \"credit_score\" and \"salary\"\n",
        "correlation_test_pearson = sps.pearsonr(df.credit_score, df.salary)\n",
        "correlation_test_pearson"
      ]
    },
    {
      "cell_type": "markdown",
      "id": "a4333fe3",
      "metadata": {
        "id": "a4333fe3"
      },
      "source": [
        "*Inference*\n",
        "\n",
        "Since the correlation coefficient (-0.0013) is not close to -1, this tells us that there is a weak negative association between the two variables , credit score and salary.\n",
        "\n",
        "\n",
        "Further, since the corresponding p-value (0.88) is greater than 0.05, we conclude that there is no statistically significant association between the two variables, credit score and salary.\n"
      ]
    },
    {
      "cell_type": "code",
      "execution_count": null,
      "id": "0508a2e5",
      "metadata": {
        "id": "0508a2e5",
        "outputId": "b371635c-15b5-4824-9acd-092096db4955"
      },
      "outputs": [
        {
          "data": {
            "text/html": [
              "<table class=\"simpletable\">\n",
              "<caption>OLS Regression Results</caption>\n",
              "<tr>\n",
              "  <th>Dep. Variable:</th>      <td>credit_score</td>   <th>  R-squared:         </th> <td>   0.001</td> \n",
              "</tr>\n",
              "<tr>\n",
              "  <th>Model:</th>                   <td>OLS</td>       <th>  Adj. R-squared:    </th> <td>   0.000</td> \n",
              "</tr>\n",
              "<tr>\n",
              "  <th>Method:</th>             <td>Least Squares</td>  <th>  F-statistic:       </th> <td>   3.297</td> \n",
              "</tr>\n",
              "<tr>\n",
              "  <th>Date:</th>             <td>Mon, 20 Feb 2023</td> <th>  Prob (F-statistic):</th>  <td>0.0370</td>  \n",
              "</tr>\n",
              "<tr>\n",
              "  <th>Time:</th>                 <td>12:08:45</td>     <th>  Log-Likelihood:    </th> <td> -59897.</td> \n",
              "</tr>\n",
              "<tr>\n",
              "  <th>No. Observations:</th>      <td> 10000</td>      <th>  AIC:               </th> <td>1.198e+05</td>\n",
              "</tr>\n",
              "<tr>\n",
              "  <th>Df Residuals:</th>          <td>  9997</td>      <th>  BIC:               </th> <td>1.198e+05</td>\n",
              "</tr>\n",
              "<tr>\n",
              "  <th>Df Model:</th>              <td>     2</td>      <th>                     </th>     <td> </td>    \n",
              "</tr>\n",
              "<tr>\n",
              "  <th>Covariance Type:</th>      <td>nonrobust</td>    <th>                     </th>     <td> </td>    \n",
              "</tr>\n",
              "</table>\n",
              "<table class=\"simpletable\">\n",
              "<tr>\n",
              "         <td></td>           <th>coef</th>     <th>std err</th>      <th>t</th>      <th>P>|t|</th>  <th>[0.025</th>    <th>0.975]</th>  \n",
              "</tr>\n",
              "<tr>\n",
              "  <th>Intercept</th>      <td>  648.1584</td> <td>    2.189</td> <td>  296.058</td> <td> 0.000</td> <td>  643.867</td> <td>  652.450</td>\n",
              "</tr>\n",
              "<tr>\n",
              "  <th>C(member)[T.1]</th> <td>    4.9582</td> <td>    1.934</td> <td>    2.564</td> <td> 0.010</td> <td>    1.168</td> <td>    8.748</td>\n",
              "</tr>\n",
              "<tr>\n",
              "  <th>salary</th>         <td>-1.834e-06</td> <td> 1.68e-05</td> <td>   -0.109</td> <td> 0.913</td> <td>-3.48e-05</td> <td> 3.11e-05</td>\n",
              "</tr>\n",
              "</table>\n",
              "<table class=\"simpletable\">\n",
              "<tr>\n",
              "  <th>Omnibus:</th>       <td>133.234</td> <th>  Durbin-Watson:     </th> <td>   2.013</td>\n",
              "</tr>\n",
              "<tr>\n",
              "  <th>Prob(Omnibus):</th> <td> 0.000</td>  <th>  Jarque-Bera (JB):  </th> <td>  84.175</td>\n",
              "</tr>\n",
              "<tr>\n",
              "  <th>Skew:</th>          <td>-0.070</td>  <th>  Prob(JB):          </th> <td>5.27e-19</td>\n",
              "</tr>\n",
              "<tr>\n",
              "  <th>Kurtosis:</th>      <td> 2.573</td>  <th>  Cond. No.          </th> <td>3.00e+05</td>\n",
              "</tr>\n",
              "</table><br/><br/>Notes:<br/>[1] Standard Errors assume that the covariance matrix of the errors is correctly specified.<br/>[2] The condition number is large,  3e+05. This might indicate that there are<br/>strong multicollinearity or other numerical problems."
            ],
            "text/plain": [
              "<class 'statsmodels.iolib.summary.Summary'>\n",
              "\"\"\"\n",
              "                            OLS Regression Results                            \n",
              "==============================================================================\n",
              "Dep. Variable:           credit_score   R-squared:                       0.001\n",
              "Model:                            OLS   Adj. R-squared:                  0.000\n",
              "Method:                 Least Squares   F-statistic:                     3.297\n",
              "Date:                Mon, 20 Feb 2023   Prob (F-statistic):             0.0370\n",
              "Time:                        12:08:45   Log-Likelihood:                -59897.\n",
              "No. Observations:               10000   AIC:                         1.198e+05\n",
              "Df Residuals:                    9997   BIC:                         1.198e+05\n",
              "Df Model:                           2                                         \n",
              "Covariance Type:            nonrobust                                         \n",
              "==================================================================================\n",
              "                     coef    std err          t      P>|t|      [0.025      0.975]\n",
              "----------------------------------------------------------------------------------\n",
              "Intercept        648.1584      2.189    296.058      0.000     643.867     652.450\n",
              "C(member)[T.1]     4.9582      1.934      2.564      0.010       1.168       8.748\n",
              "salary         -1.834e-06   1.68e-05     -0.109      0.913   -3.48e-05    3.11e-05\n",
              "==============================================================================\n",
              "Omnibus:                      133.234   Durbin-Watson:                   2.013\n",
              "Prob(Omnibus):                  0.000   Jarque-Bera (JB):               84.175\n",
              "Skew:                          -0.070   Prob(JB):                     5.27e-19\n",
              "Kurtosis:                       2.573   Cond. No.                     3.00e+05\n",
              "==============================================================================\n",
              "\n",
              "Notes:\n",
              "[1] Standard Errors assume that the covariance matrix of the errors is correctly specified.\n",
              "[2] The condition number is large,  3e+05. This might indicate that there are\n",
              "strong multicollinearity or other numerical problems.\n",
              "\"\"\""
            ]
          },
          "execution_count": 55,
          "metadata": {},
          "output_type": "execute_result"
        }
      ],
      "source": [
        "#Multiple Regression\n",
        "\n",
        "# Model 3 : credit score = b0 + b1*salary + b3*member + e # Ordinal Category\n",
        "\n",
        "linear_regression_model2 = smf.ols('credit_score ~ salary + C(member)', data=df).fit()\n",
        "linear_regression_model2.summary()\n"
      ]
    },
    {
      "cell_type": "markdown",
      "id": "71d8bb4d",
      "metadata": {
        "id": "71d8bb4d"
      },
      "source": [
        "Inference :\n",
        "\n",
        "1. The Model Significant is significant (Prob (F-statistic; 0.0370 < 0.05)\n",
        "\n",
        "2. Regression Equation: 648.1584 + 4.9582(member) - 1.83e-06(salary)\n",
        "\n",
        "3. 0% of variance is explained by the independent variables\n",
        "\n",
        "4. Since the p value of member is less and 0.05, member is a significantly contributing to the model  \n"
      ]
    },
    {
      "cell_type": "markdown",
      "id": "67895a8a",
      "metadata": {
        "deletable": false,
        "editable": false,
        "id": "67895a8a"
      },
      "source": [
        "### Part D : Report on Data Analysis"
      ]
    },
    {
      "cell_type": "markdown",
      "id": "342ba3f6",
      "metadata": {
        "id": "342ba3f6"
      },
      "source": [
        "__From the above analysis the following can be concluded__:\n",
        "\n",
        "\n",
        "1. The company has more data for male customers and those who have taken the membership in the company. This could be beacuse the the either the company is selling more of male products or the female customers actually visit the store less.  \n",
        "\n",
        "\n",
        "2. On comparing the credit_score with:\n",
        "\n",
        "    a. __members_: The membership plays an important role, with the customers having membership have a less credit score than those who donot have membership\n",
        "    \n",
        "    b. __gender__: the gender is not realetd to the credit score\n",
        "    \n",
        "    c. __countries__: the three locations of the store are also not realted to the credit_score\n",
        "    \n",
        "\n",
        "3. Realtion between credit score and other variables:\n",
        "\n",
        "    a. __salary__: salary doesnot contribue to the credit score of the customer\n",
        "    \n",
        "    b. __member__: memberhip of the customer does contribute significantly to the credit_score of the customer"
      ]
    },
    {
      "cell_type": "markdown",
      "id": "16ff8b26",
      "metadata": {
        "id": "16ff8b26"
      },
      "source": [
        "## MANAGERIAL IMPLICATIONS"
      ]
    },
    {
      "cell_type": "markdown",
      "id": "c610e468",
      "metadata": {
        "id": "c610e468"
      },
      "source": [
        "1. The company should now focus on taking in more data on the female customers and should find innovative ways to gets the data filled. This should help in understanding the customer behavior and can also help in launching more female orianted pproducts in the store(if the store is for now only male oriented)\n",
        "\n",
        "\n",
        "2. They should also try to convert more customers to members since having a memberships can reduce the credit score of the company and thus, also reduce the losses incured by the company."
      ]
    },
    {
      "cell_type": "markdown",
      "id": "5dc574cf",
      "metadata": {
        "deletable": false,
        "editable": false,
        "id": "5dc574cf"
      },
      "source": [
        "### -----x---x---x---x---x---x---x----- End of Paper -----x---x---x---x---x---x---x-----"
      ]
    }
  ],
  "metadata": {
    "kernelspec": {
      "display_name": "Python 3 (ipykernel)",
      "language": "python",
      "name": "python3"
    },
    "language_info": {
      "codemirror_mode": {
        "name": "ipython",
        "version": 3
      },
      "file_extension": ".py",
      "mimetype": "text/x-python",
      "name": "python",
      "nbconvert_exporter": "python",
      "pygments_lexer": "ipython3",
      "version": "3.9.13"
    },
    "colab": {
      "provenance": []
    }
  },
  "nbformat": 4,
  "nbformat_minor": 5
}