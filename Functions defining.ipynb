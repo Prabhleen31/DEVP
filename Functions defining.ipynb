{
 "cells": [
  {
   "cell_type": "code",
   "execution_count": 2,
   "id": "b40b452e",
   "metadata": {},
   "outputs": [
    {
     "name": "stdout",
     "output_type": "stream",
     "text": [
      "enter a number:7\n",
      "[7, 6, 5, 4, 3, 2, 1, 0]\n"
     ]
    }
   ],
   "source": [
    "def count_down():\n",
    "    a = int (input(\"enter a number:\"))\n",
    "    n = range(a,-1,-1)\n",
    "    b =list (n)\n",
    "    print (b)\n",
    "count_down()"
   ]
  },
  {
   "cell_type": "code",
   "execution_count": 9,
   "id": "68a89aa4",
   "metadata": {},
   "outputs": [
    {
     "name": "stdout",
     "output_type": "stream",
     "text": [
      "enter a number1: 2\n",
      "enter a number2: 3\n",
      "6\n"
     ]
    }
   ],
   "source": [
    "def product():\n",
    "    a = int(input(\"enter a number1: \"))\n",
    "    b = int(input(\"enter a number2: \"))\n",
    "    c = a*b\n",
    "    print (c)\n",
    "product()"
   ]
  },
  {
   "cell_type": "code",
   "execution_count": 11,
   "id": "c3ba10eb",
   "metadata": {},
   "outputs": [
    {
     "name": "stdout",
     "output_type": "stream",
     "text": [
      "enter a number1: 3\n",
      "enter a number2: 4\n",
      "81\n"
     ]
    }
   ],
   "source": [
    "def power():\n",
    "    x = int(input(\"enter a number1: \"))\n",
    "    y = int(input(\"enter a number2: \"))\n",
    "    w = x**y\n",
    "    print (w)\n",
    "power()"
   ]
  },
  {
   "cell_type": "code",
   "execution_count": 25,
   "id": "5533648f",
   "metadata": {},
   "outputs": [
    {
     "data": {
      "text/plain": [
       "[4, 5, 6, 8, 10, 12, 12, 15, 18]"
      ]
     },
     "execution_count": 25,
     "metadata": {},
     "output_type": "execute_result"
    }
   ],
   "source": [
    "def mult():\n",
    "    a = [1,2,3]\n",
    "    b = [4,5,6]\n",
    "    g = []\n",
    "    for i in a:\n",
    "        for j in b:\n",
    "            k = (i*j)\n",
    "            g.append(k)\n",
    "    return(list(g))\n",
    "mult()"
   ]
  },
  {
   "cell_type": "code",
   "execution_count": 27,
   "id": "f14f53e9",
   "metadata": {},
   "outputs": [
    {
     "data": {
      "text/plain": [
       "[28,\n",
       " 32,\n",
       " 36,\n",
       " 35,\n",
       " 40,\n",
       " 45,\n",
       " 42,\n",
       " 48,\n",
       " 54,\n",
       " 56,\n",
       " 64,\n",
       " 72,\n",
       " 70,\n",
       " 80,\n",
       " 90,\n",
       " 84,\n",
       " 96,\n",
       " 108,\n",
       " 84,\n",
       " 96,\n",
       " 108,\n",
       " 105,\n",
       " 120,\n",
       " 135,\n",
       " 126,\n",
       " 144,\n",
       " 162]"
      ]
     },
     "execution_count": 27,
     "metadata": {},
     "output_type": "execute_result"
    }
   ],
   "source": [
    "def mult1():\n",
    "    a = [1,2,3]\n",
    "    b = [4,5,6]\n",
    "    c = [7,8,9]\n",
    "    g = []\n",
    "    for i in a:\n",
    "        for j in b:\n",
    "            for l in c:\n",
    "                k = (i*j*l)\n",
    "                g.append(k)\n",
    "    return(list(g))\n",
    "mult1()\n",
    "#extension logic"
   ]
  },
  {
   "cell_type": "code",
   "execution_count": 42,
   "id": "69cb5840",
   "metadata": {},
   "outputs": [
    {
     "name": "stdout",
     "output_type": "stream",
     "text": [
      "[36, 54, 98]\n",
      "[21, 71]\n"
     ]
    }
   ],
   "source": [
    "a = [21, 36, 54, 71, 98]\n",
    "b = []\n",
    "c = []\n",
    "for i in a:\n",
    "    if i%2 == 0:\n",
    "        b.append(i)\n",
    "    else:\n",
    "        c.append(i)\n",
    "print (list(b))\n",
    "print (list(c))"
   ]
  },
  {
   "cell_type": "code",
   "execution_count": null,
   "id": "5f045829",
   "metadata": {},
   "outputs": [],
   "source": [
    "# \"%\" tell us that if a number is divided by 2 then remainder is 0\n",
    "# logic for p"
   ]
  },
  {
   "cell_type": "code",
   "execution_count": 46,
   "id": "074c1939",
   "metadata": {},
   "outputs": [
    {
     "name": "stdout",
     "output_type": "stream",
     "text": [
      "[0, 0, 0]\n",
      "[-1, -3, -2]\n",
      "[1, 1, 1, 6]\n"
     ]
    }
   ],
   "source": [
    "a = [-1, 1, 1, 0, 0, 1, -3, 0, 6, -2]\n",
    "b = []\n",
    "c = []\n",
    "d = []\n",
    "for i in a:\n",
    "    if i == 0:\n",
    "        b.append (i)\n",
    "    elif i < 0:\n",
    "        c.append (i)\n",
    "    else:\n",
    "        d.append (i)\n",
    "print (list(b))\n",
    "print (list(c))\n",
    "print (list(d))"
   ]
  },
  {
   "cell_type": "code",
   "execution_count": null,
   "id": "be42a31c",
   "metadata": {},
   "outputs": [],
   "source": [
    "#logics for positive, ngative and 0 numbers"
   ]
  }
 ],
 "metadata": {
  "kernelspec": {
   "display_name": "Python 3 (ipykernel)",
   "language": "python",
   "name": "python3"
  },
  "language_info": {
   "codemirror_mode": {
    "name": "ipython",
    "version": 3
   },
   "file_extension": ".py",
   "mimetype": "text/x-python",
   "name": "python",
   "nbconvert_exporter": "python",
   "pygments_lexer": "ipython3",
   "version": "3.9.13"
  }
 },
 "nbformat": 4,
 "nbformat_minor": 5
}
